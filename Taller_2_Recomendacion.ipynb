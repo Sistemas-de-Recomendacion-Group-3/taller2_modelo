{
  "cells": [
    {
      "cell_type": "markdown",
      "metadata": {
        "id": "1pyMfd8CKP9w"
      },
      "source": [
        "# MINE4201- SR -  Taller 2\n",
        "## Modelos colaborativos"
      ]
    },
    {
      "cell_type": "code",
      "execution_count": null,
      "metadata": {
        "colab": {
          "base_uri": "https://localhost:8080/"
        },
        "id": "dwyfy8TzVIqp",
        "outputId": "cdb1f74a-4efc-4e5b-a0ac-6a4f543e0d55"
      },
      "outputs": [
        {
          "output_type": "stream",
          "name": "stdout",
          "text": [
            "Drive already mounted at /content/drive; to attempt to forcibly remount, call drive.mount(\"/content/drive\", force_remount=True).\n"
          ]
        }
      ],
      "source": [
        "from google.colab import drive\n",
        "drive.mount('/content/drive')"
      ]
    },
    {
      "cell_type": "markdown",
      "metadata": {
        "id": "No_6oHdvN6Yr"
      },
      "source": [
        "## Configuración inicial"
      ]
    },
    {
      "cell_type": "code",
      "execution_count": null,
      "metadata": {
        "id": "IwYqCUspKlq0",
        "colab": {
          "base_uri": "https://localhost:8080/"
        },
        "outputId": "3b0f760e-950f-405a-b5d5-7ec835fbab96"
      },
      "outputs": [
        {
          "output_type": "stream",
          "name": "stdout",
          "text": [
            "Requirement already satisfied: scikit-surprise in /usr/local/lib/python3.10/dist-packages (1.1.3)\n",
            "Requirement already satisfied: joblib>=1.0.0 in /usr/local/lib/python3.10/dist-packages (from scikit-surprise) (1.3.2)\n",
            "Requirement already satisfied: numpy>=1.17.3 in /usr/local/lib/python3.10/dist-packages (from scikit-surprise) (1.25.2)\n",
            "Requirement already satisfied: scipy>=1.3.2 in /usr/local/lib/python3.10/dist-packages (from scikit-surprise) (1.11.4)\n"
          ]
        }
      ],
      "source": [
        "!pip install scikit-surprise"
      ]
    },
    {
      "cell_type": "code",
      "execution_count": null,
      "metadata": {
        "id": "w8WU3IPXKhrz"
      },
      "outputs": [],
      "source": [
        "import os\n",
        "import numpy as np\n",
        "import pandas as pd\n",
        "from surprise import Reader\n",
        "from surprise import Dataset\n",
        "from surprise.model_selection import train_test_split\n",
        "from surprise import KNNBasic\n",
        "from surprise import accuracy\n",
        "import random\n",
        "\n",
        "#Para garantizar reproducibilidad en resultados\n",
        "seed = 10\n",
        "random.seed(seed)\n",
        "np.random.seed(seed)"
      ]
    },
    {
      "cell_type": "code",
      "execution_count": null,
      "metadata": {
        "id": "TgdZKmUYLm7z"
      },
      "outputs": [],
      "source": [
        "# se cargan los datos desde Google Drive\n",
        "drive_path = '/content/drive/MyDrive/Colab files/recomendacion_files/taller2_recomendacion/'\n",
        "dataset_path = drive_path + 'yelp_dataset.tar'\n",
        "\n",
        "#!tar -xzvf dataset_path"
      ]
    },
    {
      "cell_type": "markdown",
      "source": [
        "## Carga de datos"
      ],
      "metadata": {
        "id": "8B26P5kOj0Uh"
      }
    },
    {
      "cell_type": "code",
      "source": [
        "business_path = '/content/yelp_academic_dataset_business.json'\n",
        "\n",
        "df_business = pd.read_json(business_path, lines=True)\n",
        "\n",
        "display(df_business.head())\n",
        "df_business.info()\n",
        "df_business.shape"
      ],
      "metadata": {
        "id": "OD_A6xIO6Q0I",
        "colab": {
          "base_uri": "https://localhost:8080/",
          "height": 972
        },
        "outputId": "9861d7a7-08ff-44c4-c144-aa1fe1b07932"
      },
      "execution_count": null,
      "outputs": [
        {
          "output_type": "display_data",
          "data": {
            "text/plain": [
              "              business_id                      name  \\\n",
              "0  Pns2l4eNsfO8kk83dixA6A  Abby Rappoport, LAC, CMQ   \n",
              "1  mpf3x-BjTdTEA3yCZrAYPw             The UPS Store   \n",
              "2  tUFrWirKiKi_TAnsVWINQQ                    Target   \n",
              "3  MTSW4McQd7CbVtyjqoe9mw        St Honore Pastries   \n",
              "4  mWMc6_wTdE0EUBKIGXDVfA  Perkiomen Valley Brewery   \n",
              "\n",
              "                           address           city state postal_code  \\\n",
              "0           1616 Chapala St, Ste 2  Santa Barbara    CA       93101   \n",
              "1  87 Grasso Plaza Shopping Center         Affton    MO       63123   \n",
              "2             5255 E Broadway Blvd         Tucson    AZ       85711   \n",
              "3                      935 Race St   Philadelphia    PA       19107   \n",
              "4                    101 Walnut St     Green Lane    PA       18054   \n",
              "\n",
              "    latitude   longitude  stars  review_count  is_open  \\\n",
              "0  34.426679 -119.711197    5.0             7        0   \n",
              "1  38.551126  -90.335695    3.0            15        1   \n",
              "2  32.223236 -110.880452    3.5            22        0   \n",
              "3  39.955505  -75.155564    4.0            80        1   \n",
              "4  40.338183  -75.471659    4.5            13        1   \n",
              "\n",
              "                                          attributes  \\\n",
              "0                      {'ByAppointmentOnly': 'True'}   \n",
              "1             {'BusinessAcceptsCreditCards': 'True'}   \n",
              "2  {'BikeParking': 'True', 'BusinessAcceptsCredit...   \n",
              "3  {'RestaurantsDelivery': 'False', 'OutdoorSeati...   \n",
              "4  {'BusinessAcceptsCreditCards': 'True', 'Wheelc...   \n",
              "\n",
              "                                          categories  \\\n",
              "0  Doctors, Traditional Chinese Medicine, Naturop...   \n",
              "1  Shipping Centers, Local Services, Notaries, Ma...   \n",
              "2  Department Stores, Shopping, Fashion, Home & G...   \n",
              "3  Restaurants, Food, Bubble Tea, Coffee & Tea, B...   \n",
              "4                          Brewpubs, Breweries, Food   \n",
              "\n",
              "                                               hours  \n",
              "0                                               None  \n",
              "1  {'Monday': '0:0-0:0', 'Tuesday': '8:0-18:30', ...  \n",
              "2  {'Monday': '8:0-22:0', 'Tuesday': '8:0-22:0', ...  \n",
              "3  {'Monday': '7:0-20:0', 'Tuesday': '7:0-20:0', ...  \n",
              "4  {'Wednesday': '14:0-22:0', 'Thursday': '16:0-2...  "
            ],
            "text/html": [
              "\n",
              "  <div id=\"df-70df3c88-fc79-4b42-94e3-dbc54d73fab4\" class=\"colab-df-container\">\n",
              "    <div>\n",
              "<style scoped>\n",
              "    .dataframe tbody tr th:only-of-type {\n",
              "        vertical-align: middle;\n",
              "    }\n",
              "\n",
              "    .dataframe tbody tr th {\n",
              "        vertical-align: top;\n",
              "    }\n",
              "\n",
              "    .dataframe thead th {\n",
              "        text-align: right;\n",
              "    }\n",
              "</style>\n",
              "<table border=\"1\" class=\"dataframe\">\n",
              "  <thead>\n",
              "    <tr style=\"text-align: right;\">\n",
              "      <th></th>\n",
              "      <th>business_id</th>\n",
              "      <th>name</th>\n",
              "      <th>address</th>\n",
              "      <th>city</th>\n",
              "      <th>state</th>\n",
              "      <th>postal_code</th>\n",
              "      <th>latitude</th>\n",
              "      <th>longitude</th>\n",
              "      <th>stars</th>\n",
              "      <th>review_count</th>\n",
              "      <th>is_open</th>\n",
              "      <th>attributes</th>\n",
              "      <th>categories</th>\n",
              "      <th>hours</th>\n",
              "    </tr>\n",
              "  </thead>\n",
              "  <tbody>\n",
              "    <tr>\n",
              "      <th>0</th>\n",
              "      <td>Pns2l4eNsfO8kk83dixA6A</td>\n",
              "      <td>Abby Rappoport, LAC, CMQ</td>\n",
              "      <td>1616 Chapala St, Ste 2</td>\n",
              "      <td>Santa Barbara</td>\n",
              "      <td>CA</td>\n",
              "      <td>93101</td>\n",
              "      <td>34.426679</td>\n",
              "      <td>-119.711197</td>\n",
              "      <td>5.0</td>\n",
              "      <td>7</td>\n",
              "      <td>0</td>\n",
              "      <td>{'ByAppointmentOnly': 'True'}</td>\n",
              "      <td>Doctors, Traditional Chinese Medicine, Naturop...</td>\n",
              "      <td>None</td>\n",
              "    </tr>\n",
              "    <tr>\n",
              "      <th>1</th>\n",
              "      <td>mpf3x-BjTdTEA3yCZrAYPw</td>\n",
              "      <td>The UPS Store</td>\n",
              "      <td>87 Grasso Plaza Shopping Center</td>\n",
              "      <td>Affton</td>\n",
              "      <td>MO</td>\n",
              "      <td>63123</td>\n",
              "      <td>38.551126</td>\n",
              "      <td>-90.335695</td>\n",
              "      <td>3.0</td>\n",
              "      <td>15</td>\n",
              "      <td>1</td>\n",
              "      <td>{'BusinessAcceptsCreditCards': 'True'}</td>\n",
              "      <td>Shipping Centers, Local Services, Notaries, Ma...</td>\n",
              "      <td>{'Monday': '0:0-0:0', 'Tuesday': '8:0-18:30', ...</td>\n",
              "    </tr>\n",
              "    <tr>\n",
              "      <th>2</th>\n",
              "      <td>tUFrWirKiKi_TAnsVWINQQ</td>\n",
              "      <td>Target</td>\n",
              "      <td>5255 E Broadway Blvd</td>\n",
              "      <td>Tucson</td>\n",
              "      <td>AZ</td>\n",
              "      <td>85711</td>\n",
              "      <td>32.223236</td>\n",
              "      <td>-110.880452</td>\n",
              "      <td>3.5</td>\n",
              "      <td>22</td>\n",
              "      <td>0</td>\n",
              "      <td>{'BikeParking': 'True', 'BusinessAcceptsCredit...</td>\n",
              "      <td>Department Stores, Shopping, Fashion, Home &amp; G...</td>\n",
              "      <td>{'Monday': '8:0-22:0', 'Tuesday': '8:0-22:0', ...</td>\n",
              "    </tr>\n",
              "    <tr>\n",
              "      <th>3</th>\n",
              "      <td>MTSW4McQd7CbVtyjqoe9mw</td>\n",
              "      <td>St Honore Pastries</td>\n",
              "      <td>935 Race St</td>\n",
              "      <td>Philadelphia</td>\n",
              "      <td>PA</td>\n",
              "      <td>19107</td>\n",
              "      <td>39.955505</td>\n",
              "      <td>-75.155564</td>\n",
              "      <td>4.0</td>\n",
              "      <td>80</td>\n",
              "      <td>1</td>\n",
              "      <td>{'RestaurantsDelivery': 'False', 'OutdoorSeati...</td>\n",
              "      <td>Restaurants, Food, Bubble Tea, Coffee &amp; Tea, B...</td>\n",
              "      <td>{'Monday': '7:0-20:0', 'Tuesday': '7:0-20:0', ...</td>\n",
              "    </tr>\n",
              "    <tr>\n",
              "      <th>4</th>\n",
              "      <td>mWMc6_wTdE0EUBKIGXDVfA</td>\n",
              "      <td>Perkiomen Valley Brewery</td>\n",
              "      <td>101 Walnut St</td>\n",
              "      <td>Green Lane</td>\n",
              "      <td>PA</td>\n",
              "      <td>18054</td>\n",
              "      <td>40.338183</td>\n",
              "      <td>-75.471659</td>\n",
              "      <td>4.5</td>\n",
              "      <td>13</td>\n",
              "      <td>1</td>\n",
              "      <td>{'BusinessAcceptsCreditCards': 'True', 'Wheelc...</td>\n",
              "      <td>Brewpubs, Breweries, Food</td>\n",
              "      <td>{'Wednesday': '14:0-22:0', 'Thursday': '16:0-2...</td>\n",
              "    </tr>\n",
              "  </tbody>\n",
              "</table>\n",
              "</div>\n",
              "    <div class=\"colab-df-buttons\">\n",
              "\n",
              "  <div class=\"colab-df-container\">\n",
              "    <button class=\"colab-df-convert\" onclick=\"convertToInteractive('df-70df3c88-fc79-4b42-94e3-dbc54d73fab4')\"\n",
              "            title=\"Convert this dataframe to an interactive table.\"\n",
              "            style=\"display:none;\">\n",
              "\n",
              "  <svg xmlns=\"http://www.w3.org/2000/svg\" height=\"24px\" viewBox=\"0 -960 960 960\">\n",
              "    <path d=\"M120-120v-720h720v720H120Zm60-500h600v-160H180v160Zm220 220h160v-160H400v160Zm0 220h160v-160H400v160ZM180-400h160v-160H180v160Zm440 0h160v-160H620v160ZM180-180h160v-160H180v160Zm440 0h160v-160H620v160Z\"/>\n",
              "  </svg>\n",
              "    </button>\n",
              "\n",
              "  <style>\n",
              "    .colab-df-container {\n",
              "      display:flex;\n",
              "      gap: 12px;\n",
              "    }\n",
              "\n",
              "    .colab-df-convert {\n",
              "      background-color: #E8F0FE;\n",
              "      border: none;\n",
              "      border-radius: 50%;\n",
              "      cursor: pointer;\n",
              "      display: none;\n",
              "      fill: #1967D2;\n",
              "      height: 32px;\n",
              "      padding: 0 0 0 0;\n",
              "      width: 32px;\n",
              "    }\n",
              "\n",
              "    .colab-df-convert:hover {\n",
              "      background-color: #E2EBFA;\n",
              "      box-shadow: 0px 1px 2px rgba(60, 64, 67, 0.3), 0px 1px 3px 1px rgba(60, 64, 67, 0.15);\n",
              "      fill: #174EA6;\n",
              "    }\n",
              "\n",
              "    .colab-df-buttons div {\n",
              "      margin-bottom: 4px;\n",
              "    }\n",
              "\n",
              "    [theme=dark] .colab-df-convert {\n",
              "      background-color: #3B4455;\n",
              "      fill: #D2E3FC;\n",
              "    }\n",
              "\n",
              "    [theme=dark] .colab-df-convert:hover {\n",
              "      background-color: #434B5C;\n",
              "      box-shadow: 0px 1px 3px 1px rgba(0, 0, 0, 0.15);\n",
              "      filter: drop-shadow(0px 1px 2px rgba(0, 0, 0, 0.3));\n",
              "      fill: #FFFFFF;\n",
              "    }\n",
              "  </style>\n",
              "\n",
              "    <script>\n",
              "      const buttonEl =\n",
              "        document.querySelector('#df-70df3c88-fc79-4b42-94e3-dbc54d73fab4 button.colab-df-convert');\n",
              "      buttonEl.style.display =\n",
              "        google.colab.kernel.accessAllowed ? 'block' : 'none';\n",
              "\n",
              "      async function convertToInteractive(key) {\n",
              "        const element = document.querySelector('#df-70df3c88-fc79-4b42-94e3-dbc54d73fab4');\n",
              "        const dataTable =\n",
              "          await google.colab.kernel.invokeFunction('convertToInteractive',\n",
              "                                                    [key], {});\n",
              "        if (!dataTable) return;\n",
              "\n",
              "        const docLinkHtml = 'Like what you see? Visit the ' +\n",
              "          '<a target=\"_blank\" href=https://colab.research.google.com/notebooks/data_table.ipynb>data table notebook</a>'\n",
              "          + ' to learn more about interactive tables.';\n",
              "        element.innerHTML = '';\n",
              "        dataTable['output_type'] = 'display_data';\n",
              "        await google.colab.output.renderOutput(dataTable, element);\n",
              "        const docLink = document.createElement('div');\n",
              "        docLink.innerHTML = docLinkHtml;\n",
              "        element.appendChild(docLink);\n",
              "      }\n",
              "    </script>\n",
              "  </div>\n",
              "\n",
              "\n",
              "<div id=\"df-07d657b9-c772-4157-98e3-1a330fd48cd7\">\n",
              "  <button class=\"colab-df-quickchart\" onclick=\"quickchart('df-07d657b9-c772-4157-98e3-1a330fd48cd7')\"\n",
              "            title=\"Suggest charts\"\n",
              "            style=\"display:none;\">\n",
              "\n",
              "<svg xmlns=\"http://www.w3.org/2000/svg\" height=\"24px\"viewBox=\"0 0 24 24\"\n",
              "     width=\"24px\">\n",
              "    <g>\n",
              "        <path d=\"M19 3H5c-1.1 0-2 .9-2 2v14c0 1.1.9 2 2 2h14c1.1 0 2-.9 2-2V5c0-1.1-.9-2-2-2zM9 17H7v-7h2v7zm4 0h-2V7h2v10zm4 0h-2v-4h2v4z\"/>\n",
              "    </g>\n",
              "</svg>\n",
              "  </button>\n",
              "\n",
              "<style>\n",
              "  .colab-df-quickchart {\n",
              "      --bg-color: #E8F0FE;\n",
              "      --fill-color: #1967D2;\n",
              "      --hover-bg-color: #E2EBFA;\n",
              "      --hover-fill-color: #174EA6;\n",
              "      --disabled-fill-color: #AAA;\n",
              "      --disabled-bg-color: #DDD;\n",
              "  }\n",
              "\n",
              "  [theme=dark] .colab-df-quickchart {\n",
              "      --bg-color: #3B4455;\n",
              "      --fill-color: #D2E3FC;\n",
              "      --hover-bg-color: #434B5C;\n",
              "      --hover-fill-color: #FFFFFF;\n",
              "      --disabled-bg-color: #3B4455;\n",
              "      --disabled-fill-color: #666;\n",
              "  }\n",
              "\n",
              "  .colab-df-quickchart {\n",
              "    background-color: var(--bg-color);\n",
              "    border: none;\n",
              "    border-radius: 50%;\n",
              "    cursor: pointer;\n",
              "    display: none;\n",
              "    fill: var(--fill-color);\n",
              "    height: 32px;\n",
              "    padding: 0;\n",
              "    width: 32px;\n",
              "  }\n",
              "\n",
              "  .colab-df-quickchart:hover {\n",
              "    background-color: var(--hover-bg-color);\n",
              "    box-shadow: 0 1px 2px rgba(60, 64, 67, 0.3), 0 1px 3px 1px rgba(60, 64, 67, 0.15);\n",
              "    fill: var(--button-hover-fill-color);\n",
              "  }\n",
              "\n",
              "  .colab-df-quickchart-complete:disabled,\n",
              "  .colab-df-quickchart-complete:disabled:hover {\n",
              "    background-color: var(--disabled-bg-color);\n",
              "    fill: var(--disabled-fill-color);\n",
              "    box-shadow: none;\n",
              "  }\n",
              "\n",
              "  .colab-df-spinner {\n",
              "    border: 2px solid var(--fill-color);\n",
              "    border-color: transparent;\n",
              "    border-bottom-color: var(--fill-color);\n",
              "    animation:\n",
              "      spin 1s steps(1) infinite;\n",
              "  }\n",
              "\n",
              "  @keyframes spin {\n",
              "    0% {\n",
              "      border-color: transparent;\n",
              "      border-bottom-color: var(--fill-color);\n",
              "      border-left-color: var(--fill-color);\n",
              "    }\n",
              "    20% {\n",
              "      border-color: transparent;\n",
              "      border-left-color: var(--fill-color);\n",
              "      border-top-color: var(--fill-color);\n",
              "    }\n",
              "    30% {\n",
              "      border-color: transparent;\n",
              "      border-left-color: var(--fill-color);\n",
              "      border-top-color: var(--fill-color);\n",
              "      border-right-color: var(--fill-color);\n",
              "    }\n",
              "    40% {\n",
              "      border-color: transparent;\n",
              "      border-right-color: var(--fill-color);\n",
              "      border-top-color: var(--fill-color);\n",
              "    }\n",
              "    60% {\n",
              "      border-color: transparent;\n",
              "      border-right-color: var(--fill-color);\n",
              "    }\n",
              "    80% {\n",
              "      border-color: transparent;\n",
              "      border-right-color: var(--fill-color);\n",
              "      border-bottom-color: var(--fill-color);\n",
              "    }\n",
              "    90% {\n",
              "      border-color: transparent;\n",
              "      border-bottom-color: var(--fill-color);\n",
              "    }\n",
              "  }\n",
              "</style>\n",
              "\n",
              "  <script>\n",
              "    async function quickchart(key) {\n",
              "      const quickchartButtonEl =\n",
              "        document.querySelector('#' + key + ' button');\n",
              "      quickchartButtonEl.disabled = true;  // To prevent multiple clicks.\n",
              "      quickchartButtonEl.classList.add('colab-df-spinner');\n",
              "      try {\n",
              "        const charts = await google.colab.kernel.invokeFunction(\n",
              "            'suggestCharts', [key], {});\n",
              "      } catch (error) {\n",
              "        console.error('Error during call to suggestCharts:', error);\n",
              "      }\n",
              "      quickchartButtonEl.classList.remove('colab-df-spinner');\n",
              "      quickchartButtonEl.classList.add('colab-df-quickchart-complete');\n",
              "    }\n",
              "    (() => {\n",
              "      let quickchartButtonEl =\n",
              "        document.querySelector('#df-07d657b9-c772-4157-98e3-1a330fd48cd7 button');\n",
              "      quickchartButtonEl.style.display =\n",
              "        google.colab.kernel.accessAllowed ? 'block' : 'none';\n",
              "    })();\n",
              "  </script>\n",
              "</div>\n",
              "\n",
              "    </div>\n",
              "  </div>\n"
            ],
            "application/vnd.google.colaboratory.intrinsic+json": {
              "type": "dataframe",
              "summary": "{\n  \"name\": \"df_business\",\n  \"rows\": 5,\n  \"fields\": [\n    {\n      \"column\": \"business_id\",\n      \"properties\": {\n        \"dtype\": \"string\",\n        \"num_unique_values\": 5,\n        \"samples\": [\n          \"mpf3x-BjTdTEA3yCZrAYPw\",\n          \"mWMc6_wTdE0EUBKIGXDVfA\",\n          \"tUFrWirKiKi_TAnsVWINQQ\"\n        ],\n        \"semantic_type\": \"\",\n        \"description\": \"\"\n      }\n    },\n    {\n      \"column\": \"name\",\n      \"properties\": {\n        \"dtype\": \"string\",\n        \"num_unique_values\": 5,\n        \"samples\": [\n          \"The UPS Store\",\n          \"Perkiomen Valley Brewery\",\n          \"Target\"\n        ],\n        \"semantic_type\": \"\",\n        \"description\": \"\"\n      }\n    },\n    {\n      \"column\": \"address\",\n      \"properties\": {\n        \"dtype\": \"string\",\n        \"num_unique_values\": 5,\n        \"samples\": [\n          \"87 Grasso Plaza Shopping Center\",\n          \"101 Walnut St\",\n          \"5255 E Broadway Blvd\"\n        ],\n        \"semantic_type\": \"\",\n        \"description\": \"\"\n      }\n    },\n    {\n      \"column\": \"city\",\n      \"properties\": {\n        \"dtype\": \"string\",\n        \"num_unique_values\": 5,\n        \"samples\": [\n          \"Affton\",\n          \"Green Lane\",\n          \"Tucson\"\n        ],\n        \"semantic_type\": \"\",\n        \"description\": \"\"\n      }\n    },\n    {\n      \"column\": \"state\",\n      \"properties\": {\n        \"dtype\": \"string\",\n        \"num_unique_values\": 4,\n        \"samples\": [\n          \"MO\",\n          \"PA\",\n          \"CA\"\n        ],\n        \"semantic_type\": \"\",\n        \"description\": \"\"\n      }\n    },\n    {\n      \"column\": \"postal_code\",\n      \"properties\": {\n        \"dtype\": \"string\",\n        \"num_unique_values\": 5,\n        \"samples\": [\n          \"63123\",\n          \"18054\",\n          \"85711\"\n        ],\n        \"semantic_type\": \"\",\n        \"description\": \"\"\n      }\n    },\n    {\n      \"column\": \"latitude\",\n      \"properties\": {\n        \"dtype\": \"number\",\n        \"std\": 3.594265298391328,\n        \"min\": 32.223236,\n        \"max\": 40.3381827,\n        \"num_unique_values\": 5,\n        \"samples\": [\n          38.551126,\n          40.3381827,\n          32.223236\n        ],\n        \"semantic_type\": \"\",\n        \"description\": \"\"\n      }\n    },\n    {\n      \"column\": \"longitude\",\n      \"properties\": {\n        \"dtype\": \"number\",\n        \"std\": 20.35541266799256,\n        \"min\": -119.7111968,\n        \"max\": -75.1555641,\n        \"num_unique_values\": 5,\n        \"samples\": [\n          -90.335695,\n          -75.4716585,\n          -110.880452\n        ],\n        \"semantic_type\": \"\",\n        \"description\": \"\"\n      }\n    },\n    {\n      \"column\": \"stars\",\n      \"properties\": {\n        \"dtype\": \"number\",\n        \"std\": 0.7905694150420949,\n        \"min\": 3.0,\n        \"max\": 5.0,\n        \"num_unique_values\": 5,\n        \"samples\": [\n          3.0,\n          4.5,\n          3.5\n        ],\n        \"semantic_type\": \"\",\n        \"description\": \"\"\n      }\n    },\n    {\n      \"column\": \"review_count\",\n      \"properties\": {\n        \"dtype\": \"number\",\n        \"std\": 29,\n        \"min\": 7,\n        \"max\": 80,\n        \"num_unique_values\": 5,\n        \"samples\": [\n          15,\n          13,\n          22\n        ],\n        \"semantic_type\": \"\",\n        \"description\": \"\"\n      }\n    },\n    {\n      \"column\": \"is_open\",\n      \"properties\": {\n        \"dtype\": \"number\",\n        \"std\": 0,\n        \"min\": 0,\n        \"max\": 1,\n        \"num_unique_values\": 2,\n        \"samples\": [\n          1,\n          0\n        ],\n        \"semantic_type\": \"\",\n        \"description\": \"\"\n      }\n    },\n    {\n      \"column\": \"attributes\",\n      \"properties\": {\n        \"dtype\": \"object\",\n        \"semantic_type\": \"\",\n        \"description\": \"\"\n      }\n    },\n    {\n      \"column\": \"categories\",\n      \"properties\": {\n        \"dtype\": \"string\",\n        \"num_unique_values\": 5,\n        \"samples\": [\n          \"Shipping Centers, Local Services, Notaries, Mailbox Centers, Printing Services\",\n          \"Brewpubs, Breweries, Food\"\n        ],\n        \"semantic_type\": \"\",\n        \"description\": \"\"\n      }\n    },\n    {\n      \"column\": \"hours\",\n      \"properties\": {\n        \"dtype\": \"object\",\n        \"semantic_type\": \"\",\n        \"description\": \"\"\n      }\n    }\n  ]\n}"
            }
          },
          "metadata": {}
        },
        {
          "output_type": "stream",
          "name": "stdout",
          "text": [
            "<class 'pandas.core.frame.DataFrame'>\n",
            "RangeIndex: 150346 entries, 0 to 150345\n",
            "Data columns (total 14 columns):\n",
            " #   Column        Non-Null Count   Dtype  \n",
            "---  ------        --------------   -----  \n",
            " 0   business_id   150346 non-null  object \n",
            " 1   name          150346 non-null  object \n",
            " 2   address       150346 non-null  object \n",
            " 3   city          150346 non-null  object \n",
            " 4   state         150346 non-null  object \n",
            " 5   postal_code   150346 non-null  object \n",
            " 6   latitude      150346 non-null  float64\n",
            " 7   longitude     150346 non-null  float64\n",
            " 8   stars         150346 non-null  float64\n",
            " 9   review_count  150346 non-null  int64  \n",
            " 10  is_open       150346 non-null  int64  \n",
            " 11  attributes    136602 non-null  object \n",
            " 12  categories    150243 non-null  object \n",
            " 13  hours         127123 non-null  object \n",
            "dtypes: float64(3), int64(2), object(9)\n",
            "memory usage: 16.1+ MB\n"
          ]
        },
        {
          "output_type": "execute_result",
          "data": {
            "text/plain": [
              "(150346, 14)"
            ]
          },
          "metadata": {},
          "execution_count": 3
        }
      ]
    },
    {
      "cell_type": "code",
      "source": [
        "review_path = '/content/yelp_academic_dataset_review.json'\n",
        "\n",
        "df_review_iter = pd.read_json(review_path, lines=True, chunksize=100000)"
      ],
      "metadata": {
        "id": "4WRCvYORjxMT"
      },
      "execution_count": null,
      "outputs": []
    },
    {
      "cell_type": "code",
      "source": [
        "df_review = pd.DataFrame()\n",
        "i=0\n",
        "for df in df_review_iter:\n",
        "    #df = df[df['business_id'].isin(df_business['business_id'])]\n",
        "    df_review = pd.concat([df_review, df])\n",
        "    i=i+1\n",
        "    print(i)\n",
        "    #if i==4: break\n",
        "\n",
        "display(df_review.head())\n",
        "df_review.shape"
      ],
      "metadata": {
        "colab": {
          "base_uri": "https://localhost:8080/",
          "height": 1000
        },
        "id": "3BZwBbxHi0hU",
        "outputId": "191f3127-6f82-484b-f967-1e63f4888358"
      },
      "execution_count": null,
      "outputs": [
        {
          "output_type": "stream",
          "name": "stdout",
          "text": [
            "1\n",
            "2\n",
            "3\n",
            "4\n",
            "5\n",
            "6\n",
            "7\n",
            "8\n",
            "9\n",
            "10\n",
            "11\n",
            "12\n",
            "13\n",
            "14\n",
            "15\n",
            "16\n",
            "17\n",
            "18\n",
            "19\n",
            "20\n",
            "21\n",
            "22\n",
            "23\n",
            "24\n",
            "25\n",
            "26\n",
            "27\n",
            "28\n",
            "29\n",
            "30\n",
            "31\n",
            "32\n",
            "33\n",
            "34\n",
            "35\n",
            "36\n",
            "37\n"
          ]
        },
        {
          "output_type": "display_data",
          "data": {
            "text/plain": [
              "                      review_id                 user_id  \\\n",
              "3200000  4GCWRktbpMtjPSNQowEVmQ  0yyXKmdI9lHxFKzomy6yfw   \n",
              "3200001  QlJCOW0-HSGPJqZ6B053rA  GX4lio7E96sCpRsyUfzGdQ   \n",
              "3200002  JiDNu7jOw6bEh1y8Rg_hQA  zmgugyeeSwM0wtFcnRxdlw   \n",
              "3200003  dQmBOTM3rRfuH5Qc_8a0Tw  vlx1Vn0txmphKLtpK3L52w   \n",
              "3200004  FltbvGRdsTY4pZaKTI8qvg  FkqGDFPrQ707JUWN43HYXQ   \n",
              "\n",
              "                    business_id  stars  useful  funny  cool  \\\n",
              "3200000  P5Lh73hocKqEpKhuSVlGuA      5       1      0     0   \n",
              "3200001  IGxrAQcqw8Mr1x9WLXQsNA      4       1      0     0   \n",
              "3200002  JpwG8sDNsHuD0f6NF6YuGw      4       1      0     1   \n",
              "3200003  IgFxKVu_yHlCJsQkTYPPeQ      5       5      1     3   \n",
              "3200004  -Gg-_RZTUItml37klrTXoA      1       5      0     1   \n",
              "\n",
              "                                                      text                date  \n",
              "3200000  We had a blast with Nashville Paddle! My group... 2018-11-06 12:30:48  \n",
              "3200001  I came here with a large party (about 10 peopl... 2019-09-17 00:06:42  \n",
              "3200002  Stumbled across Rusty's while visiting SB...  ... 2019-10-11 23:25:59  \n",
              "3200003  Take out your phones and prepare for the best ... 2021-01-05 18:16:54  \n",
              "3200004  We were very disappointed with this experience... 2014-08-27 16:33:13  "
            ],
            "text/html": [
              "\n",
              "  <div id=\"df-bc12af8b-43c1-41d6-9156-8a80565402c2\" class=\"colab-df-container\">\n",
              "    <div>\n",
              "<style scoped>\n",
              "    .dataframe tbody tr th:only-of-type {\n",
              "        vertical-align: middle;\n",
              "    }\n",
              "\n",
              "    .dataframe tbody tr th {\n",
              "        vertical-align: top;\n",
              "    }\n",
              "\n",
              "    .dataframe thead th {\n",
              "        text-align: right;\n",
              "    }\n",
              "</style>\n",
              "<table border=\"1\" class=\"dataframe\">\n",
              "  <thead>\n",
              "    <tr style=\"text-align: right;\">\n",
              "      <th></th>\n",
              "      <th>review_id</th>\n",
              "      <th>user_id</th>\n",
              "      <th>business_id</th>\n",
              "      <th>stars</th>\n",
              "      <th>useful</th>\n",
              "      <th>funny</th>\n",
              "      <th>cool</th>\n",
              "      <th>text</th>\n",
              "      <th>date</th>\n",
              "    </tr>\n",
              "  </thead>\n",
              "  <tbody>\n",
              "    <tr>\n",
              "      <th>3200000</th>\n",
              "      <td>4GCWRktbpMtjPSNQowEVmQ</td>\n",
              "      <td>0yyXKmdI9lHxFKzomy6yfw</td>\n",
              "      <td>P5Lh73hocKqEpKhuSVlGuA</td>\n",
              "      <td>5</td>\n",
              "      <td>1</td>\n",
              "      <td>0</td>\n",
              "      <td>0</td>\n",
              "      <td>We had a blast with Nashville Paddle! My group...</td>\n",
              "      <td>2018-11-06 12:30:48</td>\n",
              "    </tr>\n",
              "    <tr>\n",
              "      <th>3200001</th>\n",
              "      <td>QlJCOW0-HSGPJqZ6B053rA</td>\n",
              "      <td>GX4lio7E96sCpRsyUfzGdQ</td>\n",
              "      <td>IGxrAQcqw8Mr1x9WLXQsNA</td>\n",
              "      <td>4</td>\n",
              "      <td>1</td>\n",
              "      <td>0</td>\n",
              "      <td>0</td>\n",
              "      <td>I came here with a large party (about 10 peopl...</td>\n",
              "      <td>2019-09-17 00:06:42</td>\n",
              "    </tr>\n",
              "    <tr>\n",
              "      <th>3200002</th>\n",
              "      <td>JiDNu7jOw6bEh1y8Rg_hQA</td>\n",
              "      <td>zmgugyeeSwM0wtFcnRxdlw</td>\n",
              "      <td>JpwG8sDNsHuD0f6NF6YuGw</td>\n",
              "      <td>4</td>\n",
              "      <td>1</td>\n",
              "      <td>0</td>\n",
              "      <td>1</td>\n",
              "      <td>Stumbled across Rusty's while visiting SB...  ...</td>\n",
              "      <td>2019-10-11 23:25:59</td>\n",
              "    </tr>\n",
              "    <tr>\n",
              "      <th>3200003</th>\n",
              "      <td>dQmBOTM3rRfuH5Qc_8a0Tw</td>\n",
              "      <td>vlx1Vn0txmphKLtpK3L52w</td>\n",
              "      <td>IgFxKVu_yHlCJsQkTYPPeQ</td>\n",
              "      <td>5</td>\n",
              "      <td>5</td>\n",
              "      <td>1</td>\n",
              "      <td>3</td>\n",
              "      <td>Take out your phones and prepare for the best ...</td>\n",
              "      <td>2021-01-05 18:16:54</td>\n",
              "    </tr>\n",
              "    <tr>\n",
              "      <th>3200004</th>\n",
              "      <td>FltbvGRdsTY4pZaKTI8qvg</td>\n",
              "      <td>FkqGDFPrQ707JUWN43HYXQ</td>\n",
              "      <td>-Gg-_RZTUItml37klrTXoA</td>\n",
              "      <td>1</td>\n",
              "      <td>5</td>\n",
              "      <td>0</td>\n",
              "      <td>1</td>\n",
              "      <td>We were very disappointed with this experience...</td>\n",
              "      <td>2014-08-27 16:33:13</td>\n",
              "    </tr>\n",
              "  </tbody>\n",
              "</table>\n",
              "</div>\n",
              "    <div class=\"colab-df-buttons\">\n",
              "\n",
              "  <div class=\"colab-df-container\">\n",
              "    <button class=\"colab-df-convert\" onclick=\"convertToInteractive('df-bc12af8b-43c1-41d6-9156-8a80565402c2')\"\n",
              "            title=\"Convert this dataframe to an interactive table.\"\n",
              "            style=\"display:none;\">\n",
              "\n",
              "  <svg xmlns=\"http://www.w3.org/2000/svg\" height=\"24px\" viewBox=\"0 -960 960 960\">\n",
              "    <path d=\"M120-120v-720h720v720H120Zm60-500h600v-160H180v160Zm220 220h160v-160H400v160Zm0 220h160v-160H400v160ZM180-400h160v-160H180v160Zm440 0h160v-160H620v160ZM180-180h160v-160H180v160Zm440 0h160v-160H620v160Z\"/>\n",
              "  </svg>\n",
              "    </button>\n",
              "\n",
              "  <style>\n",
              "    .colab-df-container {\n",
              "      display:flex;\n",
              "      gap: 12px;\n",
              "    }\n",
              "\n",
              "    .colab-df-convert {\n",
              "      background-color: #E8F0FE;\n",
              "      border: none;\n",
              "      border-radius: 50%;\n",
              "      cursor: pointer;\n",
              "      display: none;\n",
              "      fill: #1967D2;\n",
              "      height: 32px;\n",
              "      padding: 0 0 0 0;\n",
              "      width: 32px;\n",
              "    }\n",
              "\n",
              "    .colab-df-convert:hover {\n",
              "      background-color: #E2EBFA;\n",
              "      box-shadow: 0px 1px 2px rgba(60, 64, 67, 0.3), 0px 1px 3px 1px rgba(60, 64, 67, 0.15);\n",
              "      fill: #174EA6;\n",
              "    }\n",
              "\n",
              "    .colab-df-buttons div {\n",
              "      margin-bottom: 4px;\n",
              "    }\n",
              "\n",
              "    [theme=dark] .colab-df-convert {\n",
              "      background-color: #3B4455;\n",
              "      fill: #D2E3FC;\n",
              "    }\n",
              "\n",
              "    [theme=dark] .colab-df-convert:hover {\n",
              "      background-color: #434B5C;\n",
              "      box-shadow: 0px 1px 3px 1px rgba(0, 0, 0, 0.15);\n",
              "      filter: drop-shadow(0px 1px 2px rgba(0, 0, 0, 0.3));\n",
              "      fill: #FFFFFF;\n",
              "    }\n",
              "  </style>\n",
              "\n",
              "    <script>\n",
              "      const buttonEl =\n",
              "        document.querySelector('#df-bc12af8b-43c1-41d6-9156-8a80565402c2 button.colab-df-convert');\n",
              "      buttonEl.style.display =\n",
              "        google.colab.kernel.accessAllowed ? 'block' : 'none';\n",
              "\n",
              "      async function convertToInteractive(key) {\n",
              "        const element = document.querySelector('#df-bc12af8b-43c1-41d6-9156-8a80565402c2');\n",
              "        const dataTable =\n",
              "          await google.colab.kernel.invokeFunction('convertToInteractive',\n",
              "                                                    [key], {});\n",
              "        if (!dataTable) return;\n",
              "\n",
              "        const docLinkHtml = 'Like what you see? Visit the ' +\n",
              "          '<a target=\"_blank\" href=https://colab.research.google.com/notebooks/data_table.ipynb>data table notebook</a>'\n",
              "          + ' to learn more about interactive tables.';\n",
              "        element.innerHTML = '';\n",
              "        dataTable['output_type'] = 'display_data';\n",
              "        await google.colab.output.renderOutput(dataTable, element);\n",
              "        const docLink = document.createElement('div');\n",
              "        docLink.innerHTML = docLinkHtml;\n",
              "        element.appendChild(docLink);\n",
              "      }\n",
              "    </script>\n",
              "  </div>\n",
              "\n",
              "\n",
              "<div id=\"df-f8245dc9-f17b-4ea0-bad2-1f9a9ebd10f6\">\n",
              "  <button class=\"colab-df-quickchart\" onclick=\"quickchart('df-f8245dc9-f17b-4ea0-bad2-1f9a9ebd10f6')\"\n",
              "            title=\"Suggest charts\"\n",
              "            style=\"display:none;\">\n",
              "\n",
              "<svg xmlns=\"http://www.w3.org/2000/svg\" height=\"24px\"viewBox=\"0 0 24 24\"\n",
              "     width=\"24px\">\n",
              "    <g>\n",
              "        <path d=\"M19 3H5c-1.1 0-2 .9-2 2v14c0 1.1.9 2 2 2h14c1.1 0 2-.9 2-2V5c0-1.1-.9-2-2-2zM9 17H7v-7h2v7zm4 0h-2V7h2v10zm4 0h-2v-4h2v4z\"/>\n",
              "    </g>\n",
              "</svg>\n",
              "  </button>\n",
              "\n",
              "<style>\n",
              "  .colab-df-quickchart {\n",
              "      --bg-color: #E8F0FE;\n",
              "      --fill-color: #1967D2;\n",
              "      --hover-bg-color: #E2EBFA;\n",
              "      --hover-fill-color: #174EA6;\n",
              "      --disabled-fill-color: #AAA;\n",
              "      --disabled-bg-color: #DDD;\n",
              "  }\n",
              "\n",
              "  [theme=dark] .colab-df-quickchart {\n",
              "      --bg-color: #3B4455;\n",
              "      --fill-color: #D2E3FC;\n",
              "      --hover-bg-color: #434B5C;\n",
              "      --hover-fill-color: #FFFFFF;\n",
              "      --disabled-bg-color: #3B4455;\n",
              "      --disabled-fill-color: #666;\n",
              "  }\n",
              "\n",
              "  .colab-df-quickchart {\n",
              "    background-color: var(--bg-color);\n",
              "    border: none;\n",
              "    border-radius: 50%;\n",
              "    cursor: pointer;\n",
              "    display: none;\n",
              "    fill: var(--fill-color);\n",
              "    height: 32px;\n",
              "    padding: 0;\n",
              "    width: 32px;\n",
              "  }\n",
              "\n",
              "  .colab-df-quickchart:hover {\n",
              "    background-color: var(--hover-bg-color);\n",
              "    box-shadow: 0 1px 2px rgba(60, 64, 67, 0.3), 0 1px 3px 1px rgba(60, 64, 67, 0.15);\n",
              "    fill: var(--button-hover-fill-color);\n",
              "  }\n",
              "\n",
              "  .colab-df-quickchart-complete:disabled,\n",
              "  .colab-df-quickchart-complete:disabled:hover {\n",
              "    background-color: var(--disabled-bg-color);\n",
              "    fill: var(--disabled-fill-color);\n",
              "    box-shadow: none;\n",
              "  }\n",
              "\n",
              "  .colab-df-spinner {\n",
              "    border: 2px solid var(--fill-color);\n",
              "    border-color: transparent;\n",
              "    border-bottom-color: var(--fill-color);\n",
              "    animation:\n",
              "      spin 1s steps(1) infinite;\n",
              "  }\n",
              "\n",
              "  @keyframes spin {\n",
              "    0% {\n",
              "      border-color: transparent;\n",
              "      border-bottom-color: var(--fill-color);\n",
              "      border-left-color: var(--fill-color);\n",
              "    }\n",
              "    20% {\n",
              "      border-color: transparent;\n",
              "      border-left-color: var(--fill-color);\n",
              "      border-top-color: var(--fill-color);\n",
              "    }\n",
              "    30% {\n",
              "      border-color: transparent;\n",
              "      border-left-color: var(--fill-color);\n",
              "      border-top-color: var(--fill-color);\n",
              "      border-right-color: var(--fill-color);\n",
              "    }\n",
              "    40% {\n",
              "      border-color: transparent;\n",
              "      border-right-color: var(--fill-color);\n",
              "      border-top-color: var(--fill-color);\n",
              "    }\n",
              "    60% {\n",
              "      border-color: transparent;\n",
              "      border-right-color: var(--fill-color);\n",
              "    }\n",
              "    80% {\n",
              "      border-color: transparent;\n",
              "      border-right-color: var(--fill-color);\n",
              "      border-bottom-color: var(--fill-color);\n",
              "    }\n",
              "    90% {\n",
              "      border-color: transparent;\n",
              "      border-bottom-color: var(--fill-color);\n",
              "    }\n",
              "  }\n",
              "</style>\n",
              "\n",
              "  <script>\n",
              "    async function quickchart(key) {\n",
              "      const quickchartButtonEl =\n",
              "        document.querySelector('#' + key + ' button');\n",
              "      quickchartButtonEl.disabled = true;  // To prevent multiple clicks.\n",
              "      quickchartButtonEl.classList.add('colab-df-spinner');\n",
              "      try {\n",
              "        const charts = await google.colab.kernel.invokeFunction(\n",
              "            'suggestCharts', [key], {});\n",
              "      } catch (error) {\n",
              "        console.error('Error during call to suggestCharts:', error);\n",
              "      }\n",
              "      quickchartButtonEl.classList.remove('colab-df-spinner');\n",
              "      quickchartButtonEl.classList.add('colab-df-quickchart-complete');\n",
              "    }\n",
              "    (() => {\n",
              "      let quickchartButtonEl =\n",
              "        document.querySelector('#df-f8245dc9-f17b-4ea0-bad2-1f9a9ebd10f6 button');\n",
              "      quickchartButtonEl.style.display =\n",
              "        google.colab.kernel.accessAllowed ? 'block' : 'none';\n",
              "    })();\n",
              "  </script>\n",
              "</div>\n",
              "\n",
              "    </div>\n",
              "  </div>\n"
            ],
            "application/vnd.google.colaboratory.intrinsic+json": {
              "type": "dataframe",
              "summary": "{\n  \"name\": \"df_review\",\n  \"rows\": 5,\n  \"fields\": [\n    {\n      \"column\": \"review_id\",\n      \"properties\": {\n        \"dtype\": \"string\",\n        \"num_unique_values\": 5,\n        \"samples\": [\n          \"QlJCOW0-HSGPJqZ6B053rA\",\n          \"FltbvGRdsTY4pZaKTI8qvg\",\n          \"JiDNu7jOw6bEh1y8Rg_hQA\"\n        ],\n        \"semantic_type\": \"\",\n        \"description\": \"\"\n      }\n    },\n    {\n      \"column\": \"user_id\",\n      \"properties\": {\n        \"dtype\": \"string\",\n        \"num_unique_values\": 5,\n        \"samples\": [\n          \"GX4lio7E96sCpRsyUfzGdQ\",\n          \"FkqGDFPrQ707JUWN43HYXQ\",\n          \"zmgugyeeSwM0wtFcnRxdlw\"\n        ],\n        \"semantic_type\": \"\",\n        \"description\": \"\"\n      }\n    },\n    {\n      \"column\": \"business_id\",\n      \"properties\": {\n        \"dtype\": \"string\",\n        \"num_unique_values\": 5,\n        \"samples\": [\n          \"IGxrAQcqw8Mr1x9WLXQsNA\",\n          \"-Gg-_RZTUItml37klrTXoA\",\n          \"JpwG8sDNsHuD0f6NF6YuGw\"\n        ],\n        \"semantic_type\": \"\",\n        \"description\": \"\"\n      }\n    },\n    {\n      \"column\": \"stars\",\n      \"properties\": {\n        \"dtype\": \"number\",\n        \"std\": 1,\n        \"min\": 1,\n        \"max\": 5,\n        \"num_unique_values\": 3,\n        \"samples\": [\n          5,\n          4,\n          1\n        ],\n        \"semantic_type\": \"\",\n        \"description\": \"\"\n      }\n    },\n    {\n      \"column\": \"useful\",\n      \"properties\": {\n        \"dtype\": \"number\",\n        \"std\": 2,\n        \"min\": 1,\n        \"max\": 5,\n        \"num_unique_values\": 2,\n        \"samples\": [\n          5,\n          1\n        ],\n        \"semantic_type\": \"\",\n        \"description\": \"\"\n      }\n    },\n    {\n      \"column\": \"funny\",\n      \"properties\": {\n        \"dtype\": \"number\",\n        \"std\": 0,\n        \"min\": 0,\n        \"max\": 1,\n        \"num_unique_values\": 2,\n        \"samples\": [\n          1,\n          0\n        ],\n        \"semantic_type\": \"\",\n        \"description\": \"\"\n      }\n    },\n    {\n      \"column\": \"cool\",\n      \"properties\": {\n        \"dtype\": \"number\",\n        \"std\": 1,\n        \"min\": 0,\n        \"max\": 3,\n        \"num_unique_values\": 3,\n        \"samples\": [\n          0,\n          1\n        ],\n        \"semantic_type\": \"\",\n        \"description\": \"\"\n      }\n    },\n    {\n      \"column\": \"text\",\n      \"properties\": {\n        \"dtype\": \"string\",\n        \"num_unique_values\": 5,\n        \"samples\": [\n          \"I came here with a large party (about 10 people) one evening and we were the only people in the whole place. The wait staff were very friendly and attentive and gave great service. The self-serve beer fridges were really cool and everyone enjoyed the vibe. The food was fresh and came out in a timely manner.\\n\\nThe reason I'm only giving 4 stars though is because someone in my party was up the whole night with food poisoning. She was the only one who got sick thankfully, but it was not a good experience for her. And personally, it makes me less inclined to go back.\",\n          \"We were very disappointed with this experience. Both of our kids were bored and under-stimulated, so much so that I agreed to take off work and let them stay home the last day. Although the kids were safe and in a clean environment, they learned nothing about robotics, and the staff did not share their knowledge.\"\n        ],\n        \"semantic_type\": \"\",\n        \"description\": \"\"\n      }\n    },\n    {\n      \"column\": \"date\",\n      \"properties\": {\n        \"dtype\": \"date\",\n        \"min\": \"2014-08-27 16:33:13\",\n        \"max\": \"2021-01-05 18:16:54\",\n        \"num_unique_values\": 5,\n        \"samples\": [\n          \"2019-09-17 00:06:42\",\n          \"2014-08-27 16:33:13\"\n        ],\n        \"semantic_type\": \"\",\n        \"description\": \"\"\n      }\n    }\n  ]\n}"
            }
          },
          "metadata": {}
        },
        {
          "output_type": "execute_result",
          "data": {
            "text/plain": [
              "(3690280, 9)"
            ]
          },
          "metadata": {},
          "execution_count": 7
        }
      ]
    },
    {
      "cell_type": "code",
      "source": [
        "df_review_iter"
      ],
      "metadata": {
        "colab": {
          "base_uri": "https://localhost:8080/"
        },
        "id": "2DTiyOR0jquC",
        "outputId": "acf433b1-b503-4f39-9ee6-33c5c2e752c1"
      },
      "execution_count": null,
      "outputs": [
        {
          "output_type": "execute_result",
          "data": {
            "text/plain": [
              "<pandas.io.json._json.JsonReader at 0x7e557b3f41c0>"
            ]
          },
          "metadata": {},
          "execution_count": 9
        }
      ]
    },
    {
      "cell_type": "code",
      "source": [
        "aaa"
      ],
      "metadata": {
        "id": "VLsaUqX-gpvy"
      },
      "execution_count": null,
      "outputs": []
    },
    {
      "cell_type": "markdown",
      "metadata": {
        "id": "LA3cIuIOOKH8"
      },
      "source": [
        "## Exploración de datos"
      ]
    },
    {
      "cell_type": "markdown",
      "metadata": {
        "id": "pR9pkx1rohMT"
      },
      "source": [
        "### Tabla de interacciones"
      ]
    },
    {
      "cell_type": "markdown",
      "metadata": {
        "id": "9adUjY_2OB46"
      },
      "source": [
        "\n",
        "Modificamos los nombres de las columnas"
      ]
    },
    {
      "cell_type": "code",
      "execution_count": null,
      "metadata": {
        "id": "c7CKWYXkMLTd"
      },
      "outputs": [],
      "source": [
        "path = os.path.join('lastfm-dataset-1K', 'userid-timestamp-artid-artname-traid-traname.tsv')\n",
        "\n",
        "columns = ['user-id', 'timestamp', 'artist-id', 'artist-name', 'track-id', 'track-name']\n",
        "\n",
        "# cargamos la columna de de timestamp con formato de fecha\n",
        "df = pd.read_csv(path, sep='\\t', error_bad_lines=False, header=None,\n",
        "                 names=columns, parse_dates = ['timestamp'])"
      ]
    },
    {
      "cell_type": "code",
      "execution_count": null,
      "metadata": {
        "id": "ZlfEOBNWPGYW"
      },
      "outputs": [],
      "source": [
        "df.info()"
      ]
    },
    {
      "cell_type": "code",
      "execution_count": null,
      "metadata": {
        "id": "Za4oDlRTaB8n"
      },
      "outputs": [],
      "source": [
        "df.head()"
      ]
    },
    {
      "cell_type": "code",
      "execution_count": null,
      "metadata": {
        "id": "u20B1LLtbx00"
      },
      "outputs": [],
      "source": [
        "df['timestamp'].sort_values()"
      ]
    },
    {
      "cell_type": "markdown",
      "metadata": {
        "id": "d9nT38PlodkV"
      },
      "source": [
        "### Tabla de usuarios"
      ]
    },
    {
      "cell_type": "code",
      "execution_count": null,
      "metadata": {
        "id": "QAqXdN7RYHS6"
      },
      "outputs": [],
      "source": [
        "path_user = os.path.join('lastfm-dataset-1K', 'userid-profile.tsv')\n",
        "\n",
        "df_user = pd.read_csv(path_user, sep='\\t')\n",
        "df_user.info()\n",
        "df_user.country.unique()"
      ]
    },
    {
      "cell_type": "code",
      "execution_count": null,
      "metadata": {
        "id": "rAJxVoAbgBnb"
      },
      "outputs": [],
      "source": [
        "selected_countries = ['Colombia', 'Venezuela', 'Peru', 'Chile', 'Argentina']"
      ]
    },
    {
      "cell_type": "code",
      "execution_count": null,
      "metadata": {
        "id": "RUWUwsB5Yptv"
      },
      "outputs": [],
      "source": [
        "selected_users = df_user[df_user['country'].isin(selected_countries)]['#id']\n",
        "selected_users\n",
        "\n",
        "print(f'Los usuarios seleccionados son el {round(len(selected_users)/len(df_user)*100,2)}% del total de usuarios y será nuestro mercado objetivo de negocio')"
      ]
    },
    {
      "cell_type": "markdown",
      "metadata": {
        "id": "da5TIEr103Qb"
      },
      "source": [
        "Decisión: Filtraremos solo por usuarios latinos de los países de \"Colombia\" y \"Venezuela\" porque se alinea con nuestros objetivos del negocio"
      ]
    },
    {
      "cell_type": "code",
      "execution_count": null,
      "metadata": {
        "id": "YAHr__fJ8jr3"
      },
      "outputs": [],
      "source": [
        "aaaa"
      ]
    },
    {
      "cell_type": "markdown",
      "metadata": {
        "id": "L0rgKtdyTR1R"
      },
      "source": [
        "## Limpieza y filtrado de datos"
      ]
    },
    {
      "cell_type": "markdown",
      "metadata": {
        "id": "JOPQi4clP_am"
      },
      "source": [
        "Decisión 1: Nos quedamos solo con los registros para el año 2009 a partir de los cuales construiremos el sistema. Esto por diferentes razones: hay suficientes datos para entrenar un modelo (aproximadamente 2.5 M) y para el objetivo de nuestro negocio, es suficiente este año."
      ]
    },
    {
      "cell_type": "code",
      "execution_count": null,
      "metadata": {
        "id": "n6Tse154bxae"
      },
      "outputs": [],
      "source": [
        "# Filtrar las filas para el año 2008\n",
        "# 2005 1M\n",
        "# 2006 4M\n",
        "# 2007 5M\n",
        "# 2008 6M\n",
        "# 2009 2.5M\n",
        "\n",
        "df = df[df['timestamp'].dt.year == 2008]"
      ]
    },
    {
      "cell_type": "code",
      "execution_count": null,
      "metadata": {
        "id": "iBr_FOKjcICs"
      },
      "outputs": [],
      "source": [
        "df.info()"
      ]
    },
    {
      "cell_type": "code",
      "execution_count": null,
      "metadata": {
        "id": "0hBabiKqb6AM"
      },
      "outputs": [],
      "source": [
        "df.head()"
      ]
    },
    {
      "cell_type": "markdown",
      "metadata": {
        "id": "1fs0Tb7Ee6-e"
      },
      "source": [
        "Identificamos la cantidad de NaN en las columnas"
      ]
    },
    {
      "cell_type": "code",
      "execution_count": null,
      "metadata": {
        "id": "0jmlsksJc-bb"
      },
      "outputs": [],
      "source": [
        "df.isna().sum()"
      ]
    },
    {
      "cell_type": "markdown",
      "metadata": {
        "id": "j1DsYcV8e92r"
      },
      "source": [
        "Tomamos la decisión de eliminar las fila cuyo artist-id es NaN, puesto que solo representan alreadedor del 3% de las interacciones."
      ]
    },
    {
      "cell_type": "code",
      "execution_count": null,
      "metadata": {
        "id": "SNZSnIvLfMPD"
      },
      "outputs": [],
      "source": [
        "df = df.dropna(subset=['artist-id'])"
      ]
    },
    {
      "cell_type": "code",
      "execution_count": null,
      "metadata": {
        "id": "EkEomi10fciO"
      },
      "outputs": [],
      "source": [
        "df.isna().sum()"
      ]
    },
    {
      "cell_type": "code",
      "execution_count": null,
      "metadata": {
        "id": "25oux7rrfe-H"
      },
      "outputs": [],
      "source": [
        "df.info()"
      ]
    },
    {
      "cell_type": "markdown",
      "metadata": {
        "id": "mDk8WP3mgZX2"
      },
      "source": [
        "Para el caso de los track-id() con NaN, generamos un hash teniendo en cuenta el artist-id y el track-name que identifique la canción."
      ]
    },
    {
      "cell_type": "code",
      "execution_count": null,
      "metadata": {
        "id": "RbVojZ6zgXsw"
      },
      "outputs": [],
      "source": [
        "import hashlib\n",
        "\n",
        "# Función para generar un hash único basado en el nombre de la pista y el id del artista\n",
        "def generate_unique_id(track_name, artist_id):\n",
        "    # Convertir a string y codificar para generar un hash\n",
        "    unique_str = str(track_name) + str(artist_id)\n",
        "    unique_hash = hashlib.sha256(unique_str.encode()).hexdigest()\n",
        "    # Podrías acortar el hash si deseas un identificador más corto\n",
        "    return unique_hash[:16]\n",
        "\n",
        "# Rellenar NaN en la columna 'track-id' utilizando las columnas 'track-name' y 'artist-id'\n",
        "df['track-id'] = df.apply(lambda row: generate_unique_id(row['track-name'], row['artist-id']) if pd.isna(row['track-id']) else row['track-id'], axis=1)"
      ]
    },
    {
      "cell_type": "code",
      "execution_count": null,
      "metadata": {
        "id": "VNI2HmDTz34Z"
      },
      "outputs": [],
      "source": [
        "import uuid\n",
        "\n",
        "# Función para generar un UUID único\n",
        "def generate_unique_id(track_name, artist_id):\n",
        "    # No necesitamos combinar el nombre de la pista y el id del artista para generar un UUID\n",
        "    return str(uuid.uuid4())\n",
        "\n",
        "# Suponiendo que 'df' es un DataFrame de pandas y tienes las columnas 'track-name', 'artist-id', y 'track-id'\n",
        "# Rellenar NaN en la columna 'track-id' utilizando la función generate_unique_id\n",
        "df['track-id'] = df.apply(lambda row: generate_unique_id(row['track-name'], row['artist-id']) if pd.isna(row['track-id']) else row['track-id'], axis=1)"
      ]
    },
    {
      "cell_type": "code",
      "execution_count": null,
      "metadata": {
        "id": "P371f52yhMgp"
      },
      "outputs": [],
      "source": [
        "df.head()"
      ]
    },
    {
      "cell_type": "markdown",
      "metadata": {
        "id": "ku7n0JlVOXGE"
      },
      "source": [
        "Verificamos que ya no hayan NaNs\n"
      ]
    },
    {
      "cell_type": "code",
      "execution_count": null,
      "metadata": {
        "id": "0TU1H2wkhXub"
      },
      "outputs": [],
      "source": [
        "df.isna().sum()"
      ]
    },
    {
      "cell_type": "code",
      "execution_count": null,
      "metadata": {
        "id": "-8AjuF7SkAug"
      },
      "outputs": [],
      "source": [
        "user_count = df.groupby('user-id')['track-id'].agg({'count'}).sort_values(by='count', ascending=False)\n",
        "user_count = user_count.reset_index()\n",
        "user_count"
      ]
    },
    {
      "cell_type": "markdown",
      "metadata": {
        "id": "fbUq8IRbObaA"
      },
      "source": [
        "Identificamos fenómeno de cola larga"
      ]
    },
    {
      "cell_type": "code",
      "execution_count": null,
      "metadata": {
        "id": "R02L1iGklNNv"
      },
      "outputs": [],
      "source": [
        "import matplotlib.pyplot as plt\n",
        "\n",
        "user_count['count'].hist()\n",
        "plt.xlabel('cantidad de interacción')\n",
        "plt.ylabel('frecuencia de usuarios')\n",
        "plt.show()"
      ]
    },
    {
      "cell_type": "markdown",
      "metadata": {
        "id": "D5VeJU5vOx3u"
      },
      "source": [
        "Buscamos obtener un DataFrame con cada 'track-id' único y el número de veces que cada uno aparece en el DataFrame original, ordenado de mayor a menor por este recuento. La variable mt se asigna a este DataFrame resultante."
      ]
    },
    {
      "cell_type": "code",
      "execution_count": null,
      "metadata": {
        "id": "N2AcFci8mi8y"
      },
      "outputs": [],
      "source": [
        "# Esto lo usaremos para identificar las pistas más populares en el conjunto de datos, ya que las pistas con más usuarios únicos serían las más populares.\n",
        "mt = df.groupby('track-id')['user-id'].agg({'count'}).sort_values(by='count', ascending=False)\n",
        "mt"
      ]
    },
    {
      "cell_type": "code",
      "execution_count": null,
      "metadata": {
        "id": "VYsA8ZRKlgXv"
      },
      "outputs": [],
      "source": [
        "#Fenómeno de cola larga por interacciones usuario tracks\n",
        "mt['count'].hist(bins=100)\n",
        "plt.xlabel('número de interacciones')\n",
        "plt.ylabel('frecuencia de interacciones')\n",
        "plt.title('Fenómeno de cola larga en dataset')\n",
        "plt.show()"
      ]
    },
    {
      "cell_type": "markdown",
      "metadata": {
        "id": "V5EYvIwtP2yT"
      },
      "source": [
        "Nos quedamos solo con las columnas user-id y track-id a partir de las cuales construiremos nuestro sistema de recomendación."
      ]
    },
    {
      "cell_type": "code",
      "execution_count": null,
      "metadata": {
        "id": "x3irFrGcng0p"
      },
      "outputs": [],
      "source": [
        "user_track = df[['user-id', 'track-id']]\n",
        "user_track"
      ]
    },
    {
      "cell_type": "code",
      "execution_count": null,
      "metadata": {
        "id": "hkhU2YAXpCi2"
      },
      "outputs": [],
      "source": [
        "user_track.groupby('track-id')['track-id'].count().sort_values()"
      ]
    },
    {
      "cell_type": "code",
      "execution_count": null,
      "metadata": {
        "id": "3sKW5Wn7ofuB"
      },
      "outputs": [],
      "source": [
        "user_track.groupby('track-id')['track-id'].count().sort_values().describe()"
      ]
    },
    {
      "cell_type": "code",
      "execution_count": null,
      "metadata": {
        "id": "oo_Pa4C0lkWn"
      },
      "outputs": [],
      "source": [
        "user_track['track-id'].nunique()"
      ]
    },
    {
      "cell_type": "markdown",
      "metadata": {
        "id": "bw0Nw8u7pSht"
      },
      "source": [
        "Evidenciamos muchas canciones que solo se han escuchado una vez. Ignoraremos estas canciones para reducir la dimensionalidad de la matriz de utilidad."
      ]
    },
    {
      "cell_type": "code",
      "execution_count": null,
      "metadata": {
        "id": "Tc-7--xAnut-"
      },
      "outputs": [],
      "source": [
        "track_counts = user_track['track-id'].value_counts()\n",
        "threshold = 30 # tiene que haber sido escuchada al menos n veces"
      ]
    },
    {
      "cell_type": "code",
      "execution_count": null,
      "metadata": {
        "id": "-C5pa5jtni1M"
      },
      "outputs": [],
      "source": [
        "user_track = user_track[user_track['track-id'].map(track_counts) >= threshold]"
      ]
    },
    {
      "cell_type": "code",
      "execution_count": null,
      "metadata": {
        "id": "PMyIt6HapdSa"
      },
      "outputs": [],
      "source": [
        "user_track.groupby('track-id')['track-id'].count().sort_values()"
      ]
    },
    {
      "cell_type": "code",
      "execution_count": null,
      "metadata": {
        "id": "80iXo8p5n6Kj"
      },
      "outputs": [],
      "source": [
        "user_track['track-id'].value_counts().describe()"
      ]
    },
    {
      "cell_type": "code",
      "execution_count": null,
      "metadata": {
        "id": "qNieaVgjoBd9"
      },
      "outputs": [],
      "source": [
        "user_track['track-id'].nunique()"
      ]
    },
    {
      "cell_type": "code",
      "execution_count": null,
      "metadata": {
        "id": "Bc1q51YzoeME"
      },
      "outputs": [],
      "source": [
        "user_track['count'] = user_track.groupby(['user-id', 'track-id'])['track-id'].transform('count')\n",
        "user_track = user_track.drop_duplicates()\n",
        "user_track"
      ]
    },
    {
      "cell_type": "code",
      "execution_count": null,
      "metadata": {
        "id": "Vpoo12OItqM_"
      },
      "outputs": [],
      "source": [
        "user_track.sort_values(by='count',ascending=False).head(20)"
      ]
    },
    {
      "cell_type": "markdown",
      "metadata": {
        "id": "HuOsc20wuupg"
      },
      "source": [
        "Identificamos que había un usuario (user_000008) cuya actividad era anormal, puesto que había reproducido más de 15k canciones en un año lo cual no tiene mucho sentido práctco. Lo identificamos como outlier y lo eliminamos del dataset porque además no era representativo para la cantidad de datos que tenemos más sí dañaba la muestra."
      ]
    },
    {
      "cell_type": "code",
      "execution_count": null,
      "metadata": {
        "id": "y_hnK_pAuwRR"
      },
      "outputs": [],
      "source": [
        "df = df[df['user-id']!='user_000008']\n",
        "user_count = user_count[user_count['user-id']!='user_000008']\n",
        "user_track = user_track[user_track['user-id']!='user_000008']"
      ]
    },
    {
      "cell_type": "code",
      "execution_count": null,
      "metadata": {
        "id": "_iDxzI61wWmV"
      },
      "outputs": [],
      "source": [
        "user_track.sort_values(by='count',ascending=False).head()"
      ]
    },
    {
      "cell_type": "code",
      "execution_count": null,
      "metadata": {
        "id": "En3WLc7du_l9"
      },
      "outputs": [],
      "source": [
        "# Filtrar el df para incluir solo usuarios seleccionados previamente\n",
        "user_track = user_track[user_track['user-id'].isin(selected_users)]\n",
        "user_track.sort_values(by='count',ascending=False)\n",
        "user_track.describe()"
      ]
    },
    {
      "cell_type": "code",
      "execution_count": null,
      "metadata": {
        "id": "iwaTpimJtNY9"
      },
      "outputs": [],
      "source": [
        "user_track['count'].hist(bins=100)\n",
        "plt.xlabel('número de interacciones')\n",
        "plt.ylabel('frecuencia de interacciones')\n",
        "plt.title('Fenómeno de cola larga en dataset')\n",
        "plt.show()"
      ]
    },
    {
      "cell_type": "markdown",
      "metadata": {
        "id": "QX2StlH7ZtD-"
      },
      "source": [
        "### Calificación implícita basándonos en las interacciones"
      ]
    },
    {
      "cell_type": "markdown",
      "metadata": {
        "id": "e01j77YdoW4r"
      },
      "source": [
        "Primero, normalizamos las interacciones"
      ]
    },
    {
      "cell_type": "code",
      "execution_count": null,
      "metadata": {
        "id": "FJAXBLLNrmq0"
      },
      "outputs": [],
      "source": [
        "user_track['count_normalized'] = (user_track['count'] - user_track['count'].min()) / (user_track['count'].max() - user_track['count'].min())\n",
        "user_track.describe()"
      ]
    },
    {
      "cell_type": "markdown",
      "metadata": {
        "id": "yCbGG5vt5MI0"
      },
      "source": [
        "Vamos a desarrollar un sistema de recomendación basado en clasificación numérica entre 1 y 5. Para ello, primero agruparemos los usuarios y para cada uno sacaremos los percentiles 20, 40, 60 y 80. Luego asignaremos la frecuencia de interaccion con un track al percentil que corresponda (1,2,3,4 o 5)."
      ]
    },
    {
      "cell_type": "code",
      "execution_count": null,
      "metadata": {
        "id": "crDxFx3RuKeo"
      },
      "outputs": [],
      "source": [
        "def asignar_ranking(df, columna_frecuencia):\n",
        "    # Calcula los percentiles 20, 40, 60, 80 para cada usuario\n",
        "    percentiles = df.groupby('user-id')[columna_frecuencia].describe(percentiles=[.2, .4, .6, .8])\n",
        "    percentiles = percentiles[['20%', '40%', '60%', '80%']].rename(columns={'20%': 'p20', '40%': 'p40', '60%': 'p60', '80%': 'p80'})\n",
        "\n",
        "    # Inicializar columna de ranking\n",
        "    df['ranking'] = 0\n",
        "\n",
        "    # Asignar rankings basados en los percentiles\n",
        "    for index, row in percentiles.iterrows():\n",
        "        user_id = index\n",
        "        p20, p40, p60, p80 = row['p20'], row['p40'], row['p60'], row['p80']\n",
        "\n",
        "        # Asigna rankings de 1 a 5 basados en los percentiles de frecuencia\n",
        "        df.loc[(df['user-id'] == user_id) & (df[columna_frecuencia] <= p20), 'ranking'] = 1\n",
        "        df.loc[(df['user-id'] == user_id) & (df[columna_frecuencia] > p20) & (df[columna_frecuencia] <= p40), 'ranking'] = 2\n",
        "        df.loc[(df['user-id'] == user_id) & (df[columna_frecuencia] > p40) & (df[columna_frecuencia] <= p60), 'ranking'] = 3\n",
        "        df.loc[(df['user-id'] == user_id) & (df[columna_frecuencia] > p60) & (df[columna_frecuencia] <= p80), 'ranking'] = 4\n",
        "        df.loc[(df['user-id'] == user_id) & (df[columna_frecuencia] > p80), 'ranking'] = 5\n",
        "\n",
        "    return df\n",
        "\n",
        "# Aplica la función al DataFrame 'user_track' y la columna 'count_normalized'\n",
        "user_track_ranked = asignar_ranking(user_track, 'count_normalized')"
      ]
    },
    {
      "cell_type": "code",
      "execution_count": null,
      "metadata": {
        "id": "uioV0eoUuXvU"
      },
      "outputs": [],
      "source": [
        "user_track.describe()"
      ]
    },
    {
      "cell_type": "markdown",
      "metadata": {
        "id": "B2wah1d85vnJ"
      },
      "source": [
        "Se puede observar la columna \"ranking\" con el nivel al que pertenece cada interacción usuario-item."
      ]
    },
    {
      "cell_type": "code",
      "execution_count": null,
      "metadata": {
        "id": "ofZ8kHaSvfat"
      },
      "outputs": [],
      "source": [
        "user_track"
      ]
    },
    {
      "cell_type": "code",
      "execution_count": null,
      "metadata": {
        "id": "DjwomzRgqpGM"
      },
      "outputs": [],
      "source": [
        "# ver la cantidad de usuarios y items\n",
        "num_users = user_track['user-id'].nunique()\n",
        "num_items = user_track['track-id'].nunique()\n",
        "print(f'número de usuarios = {num_users}, número de tracks = {num_items}')\n",
        "print(22*16900)"
      ]
    },
    {
      "cell_type": "code",
      "execution_count": null,
      "metadata": {
        "id": "3i4v2-W4qArS"
      },
      "outputs": [],
      "source": [
        "user_track.describe()"
      ]
    },
    {
      "cell_type": "markdown",
      "metadata": {
        "id": "nrz4QEgt57qj"
      },
      "source": [
        "Este fragmento de código en Python utiliza la biblioteca Surprise para sistemas de recomendación. Primero, se crea un objeto Reader con una escala de calificación de 1 a 5. Luego, se carga el dataset desde un dataframe de pandas llamado user_track, que contiene las columnas 'user-id', 'track-id' y 'ranking'. El 'ranking' representa las calificaciones que asignamos previamente a los tracks por usuario. El resultado es un objeto Dataset de Surprise que se puede utilizar para entrenar un modelo de sistema de recomendación."
      ]
    },
    {
      "cell_type": "code",
      "execution_count": null,
      "metadata": {
        "id": "jfArerInvzqR"
      },
      "outputs": [],
      "source": [
        "reader = Reader(rating_scale = (1, 5))\n",
        "#Se crea el dataset a partir del dataframe\n",
        "surprise_dataset = Dataset.load_from_df( user_track[ ['user-id', 'track-id', 'ranking'] ], reader )"
      ]
    },
    {
      "cell_type": "markdown",
      "metadata": {
        "id": "EaCE-fQaVgLZ"
      },
      "source": [
        "## Experimentación"
      ]
    },
    {
      "cell_type": "markdown",
      "metadata": {
        "id": "32D5P3sOVtD5"
      },
      "source": [
        "Vamos a probar variando la métrica de similitud entre Coseno y Pearson, que se encuentran en la librería Surprise. Además, utilizaremos los dos tipos de modelos colaborativos: basado en usuario y en item. Por último, experimentaremos con tres valores de k y tres valores de umbral.\n",
        "\n",
        "Utilizando cross-validation con un valor de k=2 (número de pliegues), compararemos las métricas RMSE y MAE de los distintos modelos y seleccionaremos el mejor para hacer nuestro modelo de recomendación."
      ]
    },
    {
      "cell_type": "code",
      "execution_count": null,
      "metadata": {
        "id": "LOcOAULVVnXS"
      },
      "outputs": [],
      "source": [
        "print(f'Obtendremos {3*3*2} modelos con Coseno y {3*3*2} modelos con Pearson')"
      ]
    },
    {
      "cell_type": "markdown",
      "metadata": {
        "id": "P9N7ScdlLpTC"
      },
      "source": [
        "### Coseno"
      ]
    },
    {
      "cell_type": "code",
      "execution_count": null,
      "metadata": {
        "id": "nyN8fy7nMGPQ"
      },
      "outputs": [],
      "source": [
        "from surprise.model_selection import cross_validate\n",
        "\n",
        "# Valores de k y threshold para iterar\n",
        "ks = [4, 8, 12]  # Ejemplo de valores de k\n",
        "thresholds = [2, 4, 6]  # Ejemplo de valores de threshold"
      ]
    },
    {
      "cell_type": "code",
      "execution_count": null,
      "metadata": {
        "id": "pdx0_l_mDclL"
      },
      "outputs": [],
      "source": [
        "# Iterar sobre todos los métodos de similitud, valores de k y user/item based\n",
        "results = []\n",
        "i = 1\n",
        "\n",
        "similarity = 'cosine'\n",
        "for user_based in [True, False]:  # True para user-based, False para item-based\n",
        "    for k in ks:\n",
        "        for min_support in thresholds:\n",
        "            sim_options = {\n",
        "                'name': similarity,\n",
        "                'user_based': user_based,\n",
        "                'min_support': min_support\n",
        "            }\n",
        "            model_name = f'user={user_based}, sim_method={similarity}, k={k}, threshold={min_support}'\n",
        "            print(i, model_name)\n",
        "            i+=1\n",
        "            algo = KNNBasic(k=k, sim_options=sim_options)\n",
        "            # Realizar validación cruzada y guardar los resultados\n",
        "            # Se usa cross_validation\n",
        "            cv_results = cross_validate(algo, surprise_dataset, measures=['RMSE', 'MAE'], cv=2, verbose=False)\n",
        "            print('cv done')\n",
        "            # Guardar los resultados con los parámetros utilizados\n",
        "            results.append({\n",
        "                'model_name': model_name,\n",
        "                'similarity': similarity,\n",
        "                'user_based': user_based,\n",
        "                'k': k,\n",
        "                'min_support': min_support,\n",
        "                'rmse': cv_results['test_rmse'].mean(),\n",
        "\n",
        "                'mae': cv_results['test_mae'].mean()\n",
        "            })\n",
        "            print(results[-1])\n",
        "            print()"
      ]
    },
    {
      "cell_type": "markdown",
      "metadata": {
        "id": "hNA_Y94SUc5h"
      },
      "source": [
        "10 user=False, sim_method=cosine, k=4, threshold=2\n",
        "Computing the cosine similarity matrix...\n",
        "Done computing similarity matrix.\n",
        "Computing the cosine similarity matrix...\n",
        "Done computing similarity matrix.\n",
        "cv done\n",
        "{'model_name': 'user=False, sim_method=cosine, k=4, threshold=2', 'similarity': 'cosine', 'user_based': False, 'k': 4, 'min_support': 2, 'rmse': 1.566076035654027, 'mae': 1.4238594281559753}\n",
        "\n",
        "\n",
        "13 user=False, sim_method=cosine, k=8, threshold=2\n",
        "Computing the cosine similarity matrix...\n",
        "Done computing similarity matrix.\n",
        "Computing the cosine similarity matrix...\n",
        "Done computing similarity matrix.\n",
        "cv done\n",
        "{'model_name': 'user=False, sim_method=cosine, k=8, threshold=2', 'similarity': 'cosine', 'user_based': False, 'k': 8, 'min_support': 2, 'rmse': 1.565440006647099, 'mae': 1.424497954736243}\n",
        "\n",
        "\n",
        "16 user=False, sim_method=cosine, k=12, threshold=2\n",
        "Computing the cosine similarity matrix...\n",
        "Done computing similarity matrix.\n",
        "Computing the cosine similarity matrix...\n",
        "Done computing similarity matrix.\n",
        "cv done\n",
        "{'model_name': 'user=False, sim_method=cosine, k=12, threshold=2', 'similarity': 'cosine', 'user_based': False, 'k': 12, 'min_support': 2, 'rmse': 1.5664152017049005, 'mae': 1.4253633265408503}\n",
        "\n"
      ]
    },
    {
      "cell_type": "markdown",
      "metadata": {
        "id": "DOA3CsjtLsh3"
      },
      "source": [
        "### Pearson"
      ]
    },
    {
      "cell_type": "code",
      "execution_count": null,
      "metadata": {
        "id": "xMmA2BEZLxv-"
      },
      "outputs": [],
      "source": [
        "# Iterar sobre todos los métodos de similitud, valores de k y user/item based\n",
        "results = []\n",
        "i = 1\n",
        "\n",
        "similarity = 'pearson'\n",
        "for user_based in [True, False]:  # True para user-based, False para item-based\n",
        "    for k in ks:\n",
        "        for min_support in thresholds:\n",
        "            sim_options = {\n",
        "                'name': similarity,\n",
        "                'user_based': user_based,\n",
        "                'min_support': min_support\n",
        "            }\n",
        "            model_name = f'user={user_based}, sim_method={similarity}, k={k}, threshold={min_support}'\n",
        "            print(i, model_name)\n",
        "            i+=1\n",
        "            algo = KNNBasic(k=k, sim_options=sim_options)\n",
        "            # Realizar validación cruzada y guardar los resultados\n",
        "            # Se usa cross_validation\n",
        "            cv_results = cross_validate(algo, surprise_dataset, measures=['RMSE', 'MAE'], cv=2, verbose=False)\n",
        "            print('cv done')\n",
        "            # Guardar los resultados con los parámetros utilizados\n",
        "            results.append({\n",
        "                'model_name': model_name,\n",
        "                'similarity': similarity,\n",
        "                'user_based': user_based,\n",
        "                'k': k,\n",
        "                'min_support': min_support,\n",
        "                'rmse': cv_results['test_rmse'].mean(),\n",
        "                'mae': cv_results['test_mae'].mean()\n",
        "            })\n",
        "            print(results[-1])\n",
        "            print()"
      ]
    },
    {
      "cell_type": "markdown",
      "metadata": {
        "id": "5lydsUqPUQXI"
      },
      "source": [
        "13 user=False, sim_method=pearson, k=8, threshold=2\n",
        "Computing the pearson similarity matrix...\n",
        "Done computing similarity matrix.\n",
        "Computing the pearson similarity matrix...\n",
        "Done computing similarity matrix.\n",
        "cv done\n",
        "{'model_name': 'user=False, sim_method=pearson, k=8, threshold=2', 'similarity': 'pearson', 'user_based': False, 'k': 8, 'min_support': 2, 'rmse': 1.5711759451986893, 'mae': 1.4298265720888699}\n",
        "\n",
        "16 user=False, sim_method=pearson, k=12, threshold=2\n",
        "Computing the pearson similarity matrix...\n",
        "Done computing similarity matrix.\n",
        "Computing the pearson similarity matrix...\n",
        "Done computing similarity matrix.\n",
        "cv done\n",
        "{'model_name': 'user=False, sim_method=pearson, k=12, threshold=2', 'similarity': 'pearson', 'user_based': False, 'k': 12, 'min_support': 2, 'rmse': 1.5708668892285091, 'mae': 1.428253970218262}\n"
      ]
    },
    {
      "cell_type": "markdown",
      "metadata": {
        "id": "SnlWqgwHaUHJ"
      },
      "source": [
        "Todos los mejores modelos son item-item."
      ]
    },
    {
      "cell_type": "markdown",
      "metadata": {
        "id": "JobLc7O-TA_-"
      },
      "source": [
        "## Selección del modelo"
      ]
    },
    {
      "cell_type": "markdown",
      "metadata": {
        "id": "TxqL3GhUaO4o"
      },
      "source": [
        "Después de comparar los mejores modelos, tomamos la decisión de optar por el modelo con las siguientes características"
      ]
    },
    {
      "cell_type": "markdown",
      "metadata": {
        "id": "FRrU4jMvaYrh"
      },
      "source": [
        "13 user=False, sim_method=cosine, k=8, threshold=2\n",
        "\n",
        "{'model_name': 'user=False, sim_method=cosine, k=8, threshold=2', 'similarity': 'cosine', 'user_based': False, 'k': 8, 'min_support': 2, 'rmse': 1.565440006647099, 'mae': 1.424497954736243}"
      ]
    },
    {
      "cell_type": "code",
      "execution_count": null,
      "metadata": {
        "id": "TZ2HM2rA4jJL"
      },
      "outputs": [],
      "source": [
        "print('llega')"
      ]
    },
    {
      "cell_type": "code",
      "execution_count": null,
      "metadata": {
        "id": "3CWgsaaWacIn"
      },
      "outputs": [],
      "source": [
        "sim_options = {\n",
        "    'name': 'cosine',\n",
        "    'user_based': False,\n",
        "    'min_support': 2\n",
        "}\n",
        "model = KNNBasic(k=8, sim_options=sim_options)"
      ]
    },
    {
      "cell_type": "markdown",
      "metadata": {
        "id": "9q-IpcT3tM-_"
      },
      "source": [
        "Dividimos el dataset en un conjunto de entrenamiento y un conjunto de prueba con una proporción 80-20."
      ]
    },
    {
      "cell_type": "code",
      "execution_count": null,
      "metadata": {
        "id": "eU-PC2G9bq7b"
      },
      "outputs": [],
      "source": [
        "train_set, test_set = train_test_split(surprise_dataset, test_size=.2)"
      ]
    },
    {
      "cell_type": "markdown",
      "metadata": {
        "id": "PazpM6ZTxSYZ"
      },
      "source": [
        "30.000 interacciones falla\n",
        "\n",
        "15.000 funciona\n",
        "\n",
        "Estimo máximo 22.000"
      ]
    },
    {
      "cell_type": "code",
      "execution_count": null,
      "metadata": {
        "id": "VnAjEJdi5ZMg"
      },
      "outputs": [],
      "source": [
        "#Se le pasa la matriz de utilidad al algoritmo\n",
        "model.fit(trainset=train_set)"
      ]
    },
    {
      "cell_type": "code",
      "execution_count": null,
      "metadata": {
        "id": "_Xm_seg0_h-q"
      },
      "outputs": [],
      "source": [
        "test_predictions=model.test(test_set)"
      ]
    },
    {
      "cell_type": "code",
      "execution_count": null,
      "metadata": {
        "id": "W2ZoOU4Ld3G5"
      },
      "outputs": [],
      "source": [
        "random.sample(test_predictions, 20)"
      ]
    },
    {
      "cell_type": "code",
      "execution_count": null,
      "metadata": {
        "id": "vAIkmc1ycKlG"
      },
      "outputs": [],
      "source": [
        "accuracy.rmse(test_predictions)"
      ]
    },
    {
      "cell_type": "markdown",
      "metadata": {
        "id": "bRr38Um6b6WQ"
      },
      "source": [
        "### Exportación del modelo"
      ]
    },
    {
      "cell_type": "code",
      "execution_count": null,
      "metadata": {
        "id": "n1ghsaQAY76p"
      },
      "outputs": [],
      "source": [
        "from surprise.dump import dump, load\n",
        "dump('/content/drive/MyDrive/Colab files/model', algo=model)"
      ]
    },
    {
      "cell_type": "code",
      "execution_count": null,
      "metadata": {
        "id": "g611rWDrb1X5"
      },
      "outputs": [],
      "source": [
        "import gc\n",
        "import ctypes\n",
        "\n",
        "# borrar cache\n",
        "libc = ctypes.CDLL(\"libc.so.6\")\n",
        "libc.malloc_trim(0)\n",
        "\n",
        "gc.collect()"
      ]
    },
    {
      "cell_type": "markdown",
      "metadata": {
        "id": "CA9qYdAY2VKP"
      },
      "source": [
        "## Exportación de datos para el backend"
      ]
    },
    {
      "cell_type": "markdown",
      "metadata": {
        "id": "wN1gyc5UPIXl"
      },
      "source": [
        "### Tabla user"
      ]
    },
    {
      "cell_type": "code",
      "execution_count": null,
      "metadata": {
        "id": "jHq2qOxIJH6l"
      },
      "outputs": [],
      "source": [
        "!pip install faker\n",
        "!pip install unidecode"
      ]
    },
    {
      "cell_type": "code",
      "execution_count": null,
      "metadata": {
        "id": "6Lz4HJAdGUfj"
      },
      "outputs": [],
      "source": [
        "from faker import Faker\n",
        "from unidecode import unidecode\n",
        "import random\n",
        "import uuid\n",
        "\n",
        "# Instanciar Faker\n",
        "fake = Faker(['es_CO', 'es_CL'])\n",
        "\n",
        "# Seleccionar los usuarios unicos de user_track que aparezcan en df_user. Tomar las filas de estos usuarios en df_user\n",
        "tabla_user = df_user[df_user['#id'].isin(user_track['user-id'].unique())]\n",
        "# Crear columna con nombre de usuario\n",
        "tabla_user['nombre'] = tabla_user['#id'].apply(lambda x: unidecode(fake.name()))\n",
        "tabla_user.rename(columns={'#id':'user-id'}, inplace=True)\n",
        "tabla_user['user-id'] = [str(uuid.uuid4()) for _ in range(len(tabla_user))]\n",
        "\n",
        "tabla_user"
      ]
    },
    {
      "cell_type": "code",
      "execution_count": null,
      "metadata": {
        "id": "uxqgITTmcKxt"
      },
      "outputs": [],
      "source": [
        "drive_path = os.path.join('drive', 'MyDrive', 'Colab files')\n",
        "tabla_user.to_csv(os.path.join(drive_path,'tabla_user.csv'), index=False)"
      ]
    },
    {
      "cell_type": "markdown",
      "metadata": {
        "id": "99KSdgV6PNjX"
      },
      "source": [
        "### Tabla tracks"
      ]
    },
    {
      "cell_type": "code",
      "execution_count": null,
      "metadata": {
        "id": "h4CNzihCGfhu"
      },
      "outputs": [],
      "source": [
        "user_track['track-id'] = user_track['track-id'].astype(str)\n",
        "df['track-id'] = df['track-id'].astype(str)\n",
        "\n",
        "tabla_track = user_track.groupby('track-id')['track-id'].agg({'count'}).sort_values(by='count', ascending=False).reset_index()\n",
        "\n",
        "tabla_track = pd.merge(tabla_track, df[['track-id','track-name','artist-id']], on='track-id', how='left').drop_duplicates(['track-id'])\n",
        "tabla_track"
      ]
    },
    {
      "cell_type": "code",
      "execution_count": null,
      "metadata": {
        "id": "BjlmNwdndOqj"
      },
      "outputs": [],
      "source": [
        "tabla_track.to_csv(os.path.join(drive_path,'tabla_track.csv'), index=False)"
      ]
    },
    {
      "cell_type": "markdown",
      "metadata": {
        "id": "fCgHmxdCTt2P"
      },
      "source": [
        "### Tabla artistas"
      ]
    },
    {
      "cell_type": "code",
      "execution_count": null,
      "metadata": {
        "id": "idCehwycPh4t"
      },
      "outputs": [],
      "source": [
        "tabla_artist = pd.merge(tabla_track['artist-id'].drop_duplicates(), df[['artist-id','artist-name']], on='artist-id', how='left').drop_duplicates(['artist-id'])\n",
        "tabla_artist"
      ]
    },
    {
      "cell_type": "code",
      "execution_count": null,
      "metadata": {
        "id": "ESh1vYbrdRcG"
      },
      "outputs": [],
      "source": [
        "tabla_artist.to_csv(os.path.join(drive_path,'tabla_artist.csv'), index=False)"
      ]
    }
  ],
  "metadata": {
    "colab": {
      "provenance": []
    },
    "kernelspec": {
      "display_name": "Python 3",
      "name": "python3"
    },
    "language_info": {
      "name": "python"
    }
  },
  "nbformat": 4,
  "nbformat_minor": 0
}