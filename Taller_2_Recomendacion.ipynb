{
  "cells": [
    {
      "cell_type": "markdown",
      "metadata": {
        "id": "1pyMfd8CKP9w"
      },
      "source": [
        "# MINE4201- SR -  Taller 2\n",
        "## Modelos colaborativos"
      ]
    },
    {
      "cell_type": "code",
      "execution_count": 1,
      "metadata": {
        "colab": {
          "base_uri": "https://localhost:8080/"
        },
        "id": "dwyfy8TzVIqp",
        "outputId": "c1564a36-5dc3-42e9-acf5-5a32765d9097"
      },
      "outputs": [
        {
          "output_type": "stream",
          "name": "stdout",
          "text": [
            "Mounted at /content/drive\n"
          ]
        }
      ],
      "source": [
        "from google.colab import drive\n",
        "drive.mount('/content/drive')"
      ]
    },
    {
      "cell_type": "markdown",
      "metadata": {
        "id": "No_6oHdvN6Yr"
      },
      "source": [
        "## Configuración inicial"
      ]
    },
    {
      "cell_type": "code",
      "execution_count": 3,
      "metadata": {
        "id": "IwYqCUspKlq0",
        "colab": {
          "base_uri": "https://localhost:8080/"
        },
        "outputId": "705bcf1b-dedd-4aef-f1f6-32b903cbeb0f"
      },
      "outputs": [
        {
          "output_type": "stream",
          "name": "stdout",
          "text": [
            "Collecting scikit-surprise\n",
            "  Downloading scikit-surprise-1.1.3.tar.gz (771 kB)\n",
            "\u001b[?25l     \u001b[90m━━━━━━━━━━━━━━━━━━━━━━━━━━━━━━━━━━━━━━━━\u001b[0m \u001b[32m0.0/772.0 kB\u001b[0m \u001b[31m?\u001b[0m eta \u001b[36m-:--:--\u001b[0m\r\u001b[2K     \u001b[91m━━\u001b[0m\u001b[91m╸\u001b[0m\u001b[90m━━━━━━━━━━━━━━━━━━━━━━━━━━━━━━━━━━━━━\u001b[0m \u001b[32m51.2/772.0 kB\u001b[0m \u001b[31m1.6 MB/s\u001b[0m eta \u001b[36m0:00:01\u001b[0m\r\u001b[2K     \u001b[91m━━━━━━━━━━━━━━━━━━━━━━━━━━━━━━━━━━━━━━━\u001b[0m\u001b[91m╸\u001b[0m \u001b[32m768.0/772.0 kB\u001b[0m \u001b[31m11.8 MB/s\u001b[0m eta \u001b[36m0:00:01\u001b[0m\r\u001b[2K     \u001b[90m━━━━━━━━━━━━━━━━━━━━━━━━━━━━━━━━━━━━━━━━\u001b[0m \u001b[32m772.0/772.0 kB\u001b[0m \u001b[31m10.1 MB/s\u001b[0m eta \u001b[36m0:00:00\u001b[0m\n",
            "\u001b[?25h  Preparing metadata (setup.py) ... \u001b[?25l\u001b[?25hdone\n",
            "Requirement already satisfied: joblib>=1.0.0 in /usr/local/lib/python3.10/dist-packages (from scikit-surprise) (1.4.0)\n",
            "Requirement already satisfied: numpy>=1.17.3 in /usr/local/lib/python3.10/dist-packages (from scikit-surprise) (1.25.2)\n",
            "Requirement already satisfied: scipy>=1.3.2 in /usr/local/lib/python3.10/dist-packages (from scikit-surprise) (1.11.4)\n",
            "Building wheels for collected packages: scikit-surprise\n",
            "  Building wheel for scikit-surprise (setup.py) ... \u001b[?25l\u001b[?25hdone\n",
            "  Created wheel for scikit-surprise: filename=scikit_surprise-1.1.3-cp310-cp310-linux_x86_64.whl size=3162991 sha256=6a67d0b6b3095bc32a2ec145eeec1632c07d8ee641cc8262b2fd31bb118650f8\n",
            "  Stored in directory: /root/.cache/pip/wheels/a5/ca/a8/4e28def53797fdc4363ca4af740db15a9c2f1595ebc51fb445\n",
            "Successfully built scikit-surprise\n",
            "Installing collected packages: scikit-surprise\n",
            "Successfully installed scikit-surprise-1.1.3\n"
          ]
        }
      ],
      "source": [
        "!pip install scikit-surprise"
      ]
    },
    {
      "cell_type": "code",
      "execution_count": 3,
      "metadata": {
        "id": "w8WU3IPXKhrz"
      },
      "outputs": [],
      "source": [
        "import os\n",
        "import numpy as np\n",
        "import pandas as pd\n",
        "from surprise import Reader\n",
        "from surprise import Dataset\n",
        "from surprise.model_selection import train_test_split\n",
        "from surprise import KNNBasic\n",
        "from surprise import accuracy\n",
        "import random\n",
        "\n",
        "#Para garantizar reproducibilidad en resultados\n",
        "seed = 10\n",
        "random.seed(seed)\n",
        "np.random.seed(seed)"
      ]
    },
    {
      "cell_type": "code",
      "execution_count": 5,
      "metadata": {
        "id": "TgdZKmUYLm7z",
        "colab": {
          "base_uri": "https://localhost:8080/"
        },
        "outputId": "e7dbb3c4-e7d0-4c63-a7b4-e448af9c6158"
      },
      "outputs": [
        {
          "output_type": "stream",
          "name": "stdout",
          "text": [
            "Dataset_User_Agreement.pdf\n",
            "yelp_academic_dataset_business.json\n",
            "yelp_academic_dataset_checkin.json\n",
            "yelp_academic_dataset_review.json\n",
            "yelp_academic_dataset_tip.json\n",
            "yelp_academic_dataset_user.json\n"
          ]
        }
      ],
      "source": [
        "# se cargan los datos desde Google Drive\n",
        "drive_path = '/content/drive/MyDrive/Colab files/recomendacion_files/taller2_recomendacion/'\n",
        "#dataset_path = drive_path + 'yelp_dataset.tar'\n",
        "\n",
        "!tar -xzvf '/content/drive/MyDrive/Colab files/recomendacion_files/taller2_recomendacion/yelp_dataset.tar'"
      ]
    },
    {
      "cell_type": "markdown",
      "source": [
        "## Carga de datos"
      ],
      "metadata": {
        "id": "8B26P5kOj0Uh"
      }
    },
    {
      "cell_type": "markdown",
      "source": [
        "No tendremos en cuenta Checkins ni Tips"
      ],
      "metadata": {
        "id": "SZ4ObrgB6slV"
      }
    },
    {
      "cell_type": "markdown",
      "source": [
        "### Business"
      ],
      "metadata": {
        "id": "W1Ly-JDb-KOB"
      }
    },
    {
      "cell_type": "code",
      "source": [
        "business_path = '/content/yelp_academic_dataset_business.json'\n",
        "\n",
        "df_business = pd.read_json(business_path, lines=True)\n",
        "\n",
        "display(df_business.head())\n",
        "df_business.info()\n",
        "df_business.shape"
      ],
      "metadata": {
        "id": "OD_A6xIO6Q0I",
        "colab": {
          "base_uri": "https://localhost:8080/",
          "height": 972
        },
        "outputId": "775ffa6a-9eb1-40ad-b122-4a4b8d87ab1c"
      },
      "execution_count": 23,
      "outputs": [
        {
          "output_type": "display_data",
          "data": {
            "text/plain": [
              "              business_id                      name  \\\n",
              "0  Pns2l4eNsfO8kk83dixA6A  Abby Rappoport, LAC, CMQ   \n",
              "1  mpf3x-BjTdTEA3yCZrAYPw             The UPS Store   \n",
              "2  tUFrWirKiKi_TAnsVWINQQ                    Target   \n",
              "3  MTSW4McQd7CbVtyjqoe9mw        St Honore Pastries   \n",
              "4  mWMc6_wTdE0EUBKIGXDVfA  Perkiomen Valley Brewery   \n",
              "\n",
              "                           address           city state postal_code  \\\n",
              "0           1616 Chapala St, Ste 2  Santa Barbara    CA       93101   \n",
              "1  87 Grasso Plaza Shopping Center         Affton    MO       63123   \n",
              "2             5255 E Broadway Blvd         Tucson    AZ       85711   \n",
              "3                      935 Race St   Philadelphia    PA       19107   \n",
              "4                    101 Walnut St     Green Lane    PA       18054   \n",
              "\n",
              "    latitude   longitude  stars  review_count  is_open  \\\n",
              "0  34.426679 -119.711197    5.0             7        0   \n",
              "1  38.551126  -90.335695    3.0            15        1   \n",
              "2  32.223236 -110.880452    3.5            22        0   \n",
              "3  39.955505  -75.155564    4.0            80        1   \n",
              "4  40.338183  -75.471659    4.5            13        1   \n",
              "\n",
              "                                          attributes  \\\n",
              "0                      {'ByAppointmentOnly': 'True'}   \n",
              "1             {'BusinessAcceptsCreditCards': 'True'}   \n",
              "2  {'BikeParking': 'True', 'BusinessAcceptsCredit...   \n",
              "3  {'RestaurantsDelivery': 'False', 'OutdoorSeati...   \n",
              "4  {'BusinessAcceptsCreditCards': 'True', 'Wheelc...   \n",
              "\n",
              "                                          categories  \\\n",
              "0  Doctors, Traditional Chinese Medicine, Naturop...   \n",
              "1  Shipping Centers, Local Services, Notaries, Ma...   \n",
              "2  Department Stores, Shopping, Fashion, Home & G...   \n",
              "3  Restaurants, Food, Bubble Tea, Coffee & Tea, B...   \n",
              "4                          Brewpubs, Breweries, Food   \n",
              "\n",
              "                                               hours  \n",
              "0                                               None  \n",
              "1  {'Monday': '0:0-0:0', 'Tuesday': '8:0-18:30', ...  \n",
              "2  {'Monday': '8:0-22:0', 'Tuesday': '8:0-22:0', ...  \n",
              "3  {'Monday': '7:0-20:0', 'Tuesday': '7:0-20:0', ...  \n",
              "4  {'Wednesday': '14:0-22:0', 'Thursday': '16:0-2...  "
            ],
            "text/html": [
              "\n",
              "  <div id=\"df-1314ba8a-47c5-4835-9844-d38fcfe78e55\" class=\"colab-df-container\">\n",
              "    <div>\n",
              "<style scoped>\n",
              "    .dataframe tbody tr th:only-of-type {\n",
              "        vertical-align: middle;\n",
              "    }\n",
              "\n",
              "    .dataframe tbody tr th {\n",
              "        vertical-align: top;\n",
              "    }\n",
              "\n",
              "    .dataframe thead th {\n",
              "        text-align: right;\n",
              "    }\n",
              "</style>\n",
              "<table border=\"1\" class=\"dataframe\">\n",
              "  <thead>\n",
              "    <tr style=\"text-align: right;\">\n",
              "      <th></th>\n",
              "      <th>business_id</th>\n",
              "      <th>name</th>\n",
              "      <th>address</th>\n",
              "      <th>city</th>\n",
              "      <th>state</th>\n",
              "      <th>postal_code</th>\n",
              "      <th>latitude</th>\n",
              "      <th>longitude</th>\n",
              "      <th>stars</th>\n",
              "      <th>review_count</th>\n",
              "      <th>is_open</th>\n",
              "      <th>attributes</th>\n",
              "      <th>categories</th>\n",
              "      <th>hours</th>\n",
              "    </tr>\n",
              "  </thead>\n",
              "  <tbody>\n",
              "    <tr>\n",
              "      <th>0</th>\n",
              "      <td>Pns2l4eNsfO8kk83dixA6A</td>\n",
              "      <td>Abby Rappoport, LAC, CMQ</td>\n",
              "      <td>1616 Chapala St, Ste 2</td>\n",
              "      <td>Santa Barbara</td>\n",
              "      <td>CA</td>\n",
              "      <td>93101</td>\n",
              "      <td>34.426679</td>\n",
              "      <td>-119.711197</td>\n",
              "      <td>5.0</td>\n",
              "      <td>7</td>\n",
              "      <td>0</td>\n",
              "      <td>{'ByAppointmentOnly': 'True'}</td>\n",
              "      <td>Doctors, Traditional Chinese Medicine, Naturop...</td>\n",
              "      <td>None</td>\n",
              "    </tr>\n",
              "    <tr>\n",
              "      <th>1</th>\n",
              "      <td>mpf3x-BjTdTEA3yCZrAYPw</td>\n",
              "      <td>The UPS Store</td>\n",
              "      <td>87 Grasso Plaza Shopping Center</td>\n",
              "      <td>Affton</td>\n",
              "      <td>MO</td>\n",
              "      <td>63123</td>\n",
              "      <td>38.551126</td>\n",
              "      <td>-90.335695</td>\n",
              "      <td>3.0</td>\n",
              "      <td>15</td>\n",
              "      <td>1</td>\n",
              "      <td>{'BusinessAcceptsCreditCards': 'True'}</td>\n",
              "      <td>Shipping Centers, Local Services, Notaries, Ma...</td>\n",
              "      <td>{'Monday': '0:0-0:0', 'Tuesday': '8:0-18:30', ...</td>\n",
              "    </tr>\n",
              "    <tr>\n",
              "      <th>2</th>\n",
              "      <td>tUFrWirKiKi_TAnsVWINQQ</td>\n",
              "      <td>Target</td>\n",
              "      <td>5255 E Broadway Blvd</td>\n",
              "      <td>Tucson</td>\n",
              "      <td>AZ</td>\n",
              "      <td>85711</td>\n",
              "      <td>32.223236</td>\n",
              "      <td>-110.880452</td>\n",
              "      <td>3.5</td>\n",
              "      <td>22</td>\n",
              "      <td>0</td>\n",
              "      <td>{'BikeParking': 'True', 'BusinessAcceptsCredit...</td>\n",
              "      <td>Department Stores, Shopping, Fashion, Home &amp; G...</td>\n",
              "      <td>{'Monday': '8:0-22:0', 'Tuesday': '8:0-22:0', ...</td>\n",
              "    </tr>\n",
              "    <tr>\n",
              "      <th>3</th>\n",
              "      <td>MTSW4McQd7CbVtyjqoe9mw</td>\n",
              "      <td>St Honore Pastries</td>\n",
              "      <td>935 Race St</td>\n",
              "      <td>Philadelphia</td>\n",
              "      <td>PA</td>\n",
              "      <td>19107</td>\n",
              "      <td>39.955505</td>\n",
              "      <td>-75.155564</td>\n",
              "      <td>4.0</td>\n",
              "      <td>80</td>\n",
              "      <td>1</td>\n",
              "      <td>{'RestaurantsDelivery': 'False', 'OutdoorSeati...</td>\n",
              "      <td>Restaurants, Food, Bubble Tea, Coffee &amp; Tea, B...</td>\n",
              "      <td>{'Monday': '7:0-20:0', 'Tuesday': '7:0-20:0', ...</td>\n",
              "    </tr>\n",
              "    <tr>\n",
              "      <th>4</th>\n",
              "      <td>mWMc6_wTdE0EUBKIGXDVfA</td>\n",
              "      <td>Perkiomen Valley Brewery</td>\n",
              "      <td>101 Walnut St</td>\n",
              "      <td>Green Lane</td>\n",
              "      <td>PA</td>\n",
              "      <td>18054</td>\n",
              "      <td>40.338183</td>\n",
              "      <td>-75.471659</td>\n",
              "      <td>4.5</td>\n",
              "      <td>13</td>\n",
              "      <td>1</td>\n",
              "      <td>{'BusinessAcceptsCreditCards': 'True', 'Wheelc...</td>\n",
              "      <td>Brewpubs, Breweries, Food</td>\n",
              "      <td>{'Wednesday': '14:0-22:0', 'Thursday': '16:0-2...</td>\n",
              "    </tr>\n",
              "  </tbody>\n",
              "</table>\n",
              "</div>\n",
              "    <div class=\"colab-df-buttons\">\n",
              "\n",
              "  <div class=\"colab-df-container\">\n",
              "    <button class=\"colab-df-convert\" onclick=\"convertToInteractive('df-1314ba8a-47c5-4835-9844-d38fcfe78e55')\"\n",
              "            title=\"Convert this dataframe to an interactive table.\"\n",
              "            style=\"display:none;\">\n",
              "\n",
              "  <svg xmlns=\"http://www.w3.org/2000/svg\" height=\"24px\" viewBox=\"0 -960 960 960\">\n",
              "    <path d=\"M120-120v-720h720v720H120Zm60-500h600v-160H180v160Zm220 220h160v-160H400v160Zm0 220h160v-160H400v160ZM180-400h160v-160H180v160Zm440 0h160v-160H620v160ZM180-180h160v-160H180v160Zm440 0h160v-160H620v160Z\"/>\n",
              "  </svg>\n",
              "    </button>\n",
              "\n",
              "  <style>\n",
              "    .colab-df-container {\n",
              "      display:flex;\n",
              "      gap: 12px;\n",
              "    }\n",
              "\n",
              "    .colab-df-convert {\n",
              "      background-color: #E8F0FE;\n",
              "      border: none;\n",
              "      border-radius: 50%;\n",
              "      cursor: pointer;\n",
              "      display: none;\n",
              "      fill: #1967D2;\n",
              "      height: 32px;\n",
              "      padding: 0 0 0 0;\n",
              "      width: 32px;\n",
              "    }\n",
              "\n",
              "    .colab-df-convert:hover {\n",
              "      background-color: #E2EBFA;\n",
              "      box-shadow: 0px 1px 2px rgba(60, 64, 67, 0.3), 0px 1px 3px 1px rgba(60, 64, 67, 0.15);\n",
              "      fill: #174EA6;\n",
              "    }\n",
              "\n",
              "    .colab-df-buttons div {\n",
              "      margin-bottom: 4px;\n",
              "    }\n",
              "\n",
              "    [theme=dark] .colab-df-convert {\n",
              "      background-color: #3B4455;\n",
              "      fill: #D2E3FC;\n",
              "    }\n",
              "\n",
              "    [theme=dark] .colab-df-convert:hover {\n",
              "      background-color: #434B5C;\n",
              "      box-shadow: 0px 1px 3px 1px rgba(0, 0, 0, 0.15);\n",
              "      filter: drop-shadow(0px 1px 2px rgba(0, 0, 0, 0.3));\n",
              "      fill: #FFFFFF;\n",
              "    }\n",
              "  </style>\n",
              "\n",
              "    <script>\n",
              "      const buttonEl =\n",
              "        document.querySelector('#df-1314ba8a-47c5-4835-9844-d38fcfe78e55 button.colab-df-convert');\n",
              "      buttonEl.style.display =\n",
              "        google.colab.kernel.accessAllowed ? 'block' : 'none';\n",
              "\n",
              "      async function convertToInteractive(key) {\n",
              "        const element = document.querySelector('#df-1314ba8a-47c5-4835-9844-d38fcfe78e55');\n",
              "        const dataTable =\n",
              "          await google.colab.kernel.invokeFunction('convertToInteractive',\n",
              "                                                    [key], {});\n",
              "        if (!dataTable) return;\n",
              "\n",
              "        const docLinkHtml = 'Like what you see? Visit the ' +\n",
              "          '<a target=\"_blank\" href=https://colab.research.google.com/notebooks/data_table.ipynb>data table notebook</a>'\n",
              "          + ' to learn more about interactive tables.';\n",
              "        element.innerHTML = '';\n",
              "        dataTable['output_type'] = 'display_data';\n",
              "        await google.colab.output.renderOutput(dataTable, element);\n",
              "        const docLink = document.createElement('div');\n",
              "        docLink.innerHTML = docLinkHtml;\n",
              "        element.appendChild(docLink);\n",
              "      }\n",
              "    </script>\n",
              "  </div>\n",
              "\n",
              "\n",
              "<div id=\"df-999b9e9d-dfa7-4348-a7f9-d40d05d51ae5\">\n",
              "  <button class=\"colab-df-quickchart\" onclick=\"quickchart('df-999b9e9d-dfa7-4348-a7f9-d40d05d51ae5')\"\n",
              "            title=\"Suggest charts\"\n",
              "            style=\"display:none;\">\n",
              "\n",
              "<svg xmlns=\"http://www.w3.org/2000/svg\" height=\"24px\"viewBox=\"0 0 24 24\"\n",
              "     width=\"24px\">\n",
              "    <g>\n",
              "        <path d=\"M19 3H5c-1.1 0-2 .9-2 2v14c0 1.1.9 2 2 2h14c1.1 0 2-.9 2-2V5c0-1.1-.9-2-2-2zM9 17H7v-7h2v7zm4 0h-2V7h2v10zm4 0h-2v-4h2v4z\"/>\n",
              "    </g>\n",
              "</svg>\n",
              "  </button>\n",
              "\n",
              "<style>\n",
              "  .colab-df-quickchart {\n",
              "      --bg-color: #E8F0FE;\n",
              "      --fill-color: #1967D2;\n",
              "      --hover-bg-color: #E2EBFA;\n",
              "      --hover-fill-color: #174EA6;\n",
              "      --disabled-fill-color: #AAA;\n",
              "      --disabled-bg-color: #DDD;\n",
              "  }\n",
              "\n",
              "  [theme=dark] .colab-df-quickchart {\n",
              "      --bg-color: #3B4455;\n",
              "      --fill-color: #D2E3FC;\n",
              "      --hover-bg-color: #434B5C;\n",
              "      --hover-fill-color: #FFFFFF;\n",
              "      --disabled-bg-color: #3B4455;\n",
              "      --disabled-fill-color: #666;\n",
              "  }\n",
              "\n",
              "  .colab-df-quickchart {\n",
              "    background-color: var(--bg-color);\n",
              "    border: none;\n",
              "    border-radius: 50%;\n",
              "    cursor: pointer;\n",
              "    display: none;\n",
              "    fill: var(--fill-color);\n",
              "    height: 32px;\n",
              "    padding: 0;\n",
              "    width: 32px;\n",
              "  }\n",
              "\n",
              "  .colab-df-quickchart:hover {\n",
              "    background-color: var(--hover-bg-color);\n",
              "    box-shadow: 0 1px 2px rgba(60, 64, 67, 0.3), 0 1px 3px 1px rgba(60, 64, 67, 0.15);\n",
              "    fill: var(--button-hover-fill-color);\n",
              "  }\n",
              "\n",
              "  .colab-df-quickchart-complete:disabled,\n",
              "  .colab-df-quickchart-complete:disabled:hover {\n",
              "    background-color: var(--disabled-bg-color);\n",
              "    fill: var(--disabled-fill-color);\n",
              "    box-shadow: none;\n",
              "  }\n",
              "\n",
              "  .colab-df-spinner {\n",
              "    border: 2px solid var(--fill-color);\n",
              "    border-color: transparent;\n",
              "    border-bottom-color: var(--fill-color);\n",
              "    animation:\n",
              "      spin 1s steps(1) infinite;\n",
              "  }\n",
              "\n",
              "  @keyframes spin {\n",
              "    0% {\n",
              "      border-color: transparent;\n",
              "      border-bottom-color: var(--fill-color);\n",
              "      border-left-color: var(--fill-color);\n",
              "    }\n",
              "    20% {\n",
              "      border-color: transparent;\n",
              "      border-left-color: var(--fill-color);\n",
              "      border-top-color: var(--fill-color);\n",
              "    }\n",
              "    30% {\n",
              "      border-color: transparent;\n",
              "      border-left-color: var(--fill-color);\n",
              "      border-top-color: var(--fill-color);\n",
              "      border-right-color: var(--fill-color);\n",
              "    }\n",
              "    40% {\n",
              "      border-color: transparent;\n",
              "      border-right-color: var(--fill-color);\n",
              "      border-top-color: var(--fill-color);\n",
              "    }\n",
              "    60% {\n",
              "      border-color: transparent;\n",
              "      border-right-color: var(--fill-color);\n",
              "    }\n",
              "    80% {\n",
              "      border-color: transparent;\n",
              "      border-right-color: var(--fill-color);\n",
              "      border-bottom-color: var(--fill-color);\n",
              "    }\n",
              "    90% {\n",
              "      border-color: transparent;\n",
              "      border-bottom-color: var(--fill-color);\n",
              "    }\n",
              "  }\n",
              "</style>\n",
              "\n",
              "  <script>\n",
              "    async function quickchart(key) {\n",
              "      const quickchartButtonEl =\n",
              "        document.querySelector('#' + key + ' button');\n",
              "      quickchartButtonEl.disabled = true;  // To prevent multiple clicks.\n",
              "      quickchartButtonEl.classList.add('colab-df-spinner');\n",
              "      try {\n",
              "        const charts = await google.colab.kernel.invokeFunction(\n",
              "            'suggestCharts', [key], {});\n",
              "      } catch (error) {\n",
              "        console.error('Error during call to suggestCharts:', error);\n",
              "      }\n",
              "      quickchartButtonEl.classList.remove('colab-df-spinner');\n",
              "      quickchartButtonEl.classList.add('colab-df-quickchart-complete');\n",
              "    }\n",
              "    (() => {\n",
              "      let quickchartButtonEl =\n",
              "        document.querySelector('#df-999b9e9d-dfa7-4348-a7f9-d40d05d51ae5 button');\n",
              "      quickchartButtonEl.style.display =\n",
              "        google.colab.kernel.accessAllowed ? 'block' : 'none';\n",
              "    })();\n",
              "  </script>\n",
              "</div>\n",
              "\n",
              "    </div>\n",
              "  </div>\n"
            ],
            "application/vnd.google.colaboratory.intrinsic+json": {
              "type": "dataframe",
              "summary": "{\n  \"name\": \"df_business\",\n  \"rows\": 5,\n  \"fields\": [\n    {\n      \"column\": \"business_id\",\n      \"properties\": {\n        \"dtype\": \"string\",\n        \"num_unique_values\": 5,\n        \"samples\": [\n          \"mpf3x-BjTdTEA3yCZrAYPw\",\n          \"mWMc6_wTdE0EUBKIGXDVfA\",\n          \"tUFrWirKiKi_TAnsVWINQQ\"\n        ],\n        \"semantic_type\": \"\",\n        \"description\": \"\"\n      }\n    },\n    {\n      \"column\": \"name\",\n      \"properties\": {\n        \"dtype\": \"string\",\n        \"num_unique_values\": 5,\n        \"samples\": [\n          \"The UPS Store\",\n          \"Perkiomen Valley Brewery\",\n          \"Target\"\n        ],\n        \"semantic_type\": \"\",\n        \"description\": \"\"\n      }\n    },\n    {\n      \"column\": \"address\",\n      \"properties\": {\n        \"dtype\": \"string\",\n        \"num_unique_values\": 5,\n        \"samples\": [\n          \"87 Grasso Plaza Shopping Center\",\n          \"101 Walnut St\",\n          \"5255 E Broadway Blvd\"\n        ],\n        \"semantic_type\": \"\",\n        \"description\": \"\"\n      }\n    },\n    {\n      \"column\": \"city\",\n      \"properties\": {\n        \"dtype\": \"string\",\n        \"num_unique_values\": 5,\n        \"samples\": [\n          \"Affton\",\n          \"Green Lane\",\n          \"Tucson\"\n        ],\n        \"semantic_type\": \"\",\n        \"description\": \"\"\n      }\n    },\n    {\n      \"column\": \"state\",\n      \"properties\": {\n        \"dtype\": \"string\",\n        \"num_unique_values\": 4,\n        \"samples\": [\n          \"MO\",\n          \"PA\",\n          \"CA\"\n        ],\n        \"semantic_type\": \"\",\n        \"description\": \"\"\n      }\n    },\n    {\n      \"column\": \"postal_code\",\n      \"properties\": {\n        \"dtype\": \"string\",\n        \"num_unique_values\": 5,\n        \"samples\": [\n          \"63123\",\n          \"18054\",\n          \"85711\"\n        ],\n        \"semantic_type\": \"\",\n        \"description\": \"\"\n      }\n    },\n    {\n      \"column\": \"latitude\",\n      \"properties\": {\n        \"dtype\": \"number\",\n        \"std\": 3.594265298391328,\n        \"min\": 32.223236,\n        \"max\": 40.3381827,\n        \"num_unique_values\": 5,\n        \"samples\": [\n          38.551126,\n          40.3381827,\n          32.223236\n        ],\n        \"semantic_type\": \"\",\n        \"description\": \"\"\n      }\n    },\n    {\n      \"column\": \"longitude\",\n      \"properties\": {\n        \"dtype\": \"number\",\n        \"std\": 20.35541266799256,\n        \"min\": -119.7111968,\n        \"max\": -75.1555641,\n        \"num_unique_values\": 5,\n        \"samples\": [\n          -90.335695,\n          -75.4716585,\n          -110.880452\n        ],\n        \"semantic_type\": \"\",\n        \"description\": \"\"\n      }\n    },\n    {\n      \"column\": \"stars\",\n      \"properties\": {\n        \"dtype\": \"number\",\n        \"std\": 0.7905694150420949,\n        \"min\": 3.0,\n        \"max\": 5.0,\n        \"num_unique_values\": 5,\n        \"samples\": [\n          3.0,\n          4.5,\n          3.5\n        ],\n        \"semantic_type\": \"\",\n        \"description\": \"\"\n      }\n    },\n    {\n      \"column\": \"review_count\",\n      \"properties\": {\n        \"dtype\": \"number\",\n        \"std\": 29,\n        \"min\": 7,\n        \"max\": 80,\n        \"num_unique_values\": 5,\n        \"samples\": [\n          15,\n          13,\n          22\n        ],\n        \"semantic_type\": \"\",\n        \"description\": \"\"\n      }\n    },\n    {\n      \"column\": \"is_open\",\n      \"properties\": {\n        \"dtype\": \"number\",\n        \"std\": 0,\n        \"min\": 0,\n        \"max\": 1,\n        \"num_unique_values\": 2,\n        \"samples\": [\n          1,\n          0\n        ],\n        \"semantic_type\": \"\",\n        \"description\": \"\"\n      }\n    },\n    {\n      \"column\": \"attributes\",\n      \"properties\": {\n        \"dtype\": \"object\",\n        \"semantic_type\": \"\",\n        \"description\": \"\"\n      }\n    },\n    {\n      \"column\": \"categories\",\n      \"properties\": {\n        \"dtype\": \"string\",\n        \"num_unique_values\": 5,\n        \"samples\": [\n          \"Shipping Centers, Local Services, Notaries, Mailbox Centers, Printing Services\",\n          \"Brewpubs, Breweries, Food\"\n        ],\n        \"semantic_type\": \"\",\n        \"description\": \"\"\n      }\n    },\n    {\n      \"column\": \"hours\",\n      \"properties\": {\n        \"dtype\": \"object\",\n        \"semantic_type\": \"\",\n        \"description\": \"\"\n      }\n    }\n  ]\n}"
            }
          },
          "metadata": {}
        },
        {
          "output_type": "stream",
          "name": "stdout",
          "text": [
            "<class 'pandas.core.frame.DataFrame'>\n",
            "RangeIndex: 150346 entries, 0 to 150345\n",
            "Data columns (total 14 columns):\n",
            " #   Column        Non-Null Count   Dtype  \n",
            "---  ------        --------------   -----  \n",
            " 0   business_id   150346 non-null  object \n",
            " 1   name          150346 non-null  object \n",
            " 2   address       150346 non-null  object \n",
            " 3   city          150346 non-null  object \n",
            " 4   state         150346 non-null  object \n",
            " 5   postal_code   150346 non-null  object \n",
            " 6   latitude      150346 non-null  float64\n",
            " 7   longitude     150346 non-null  float64\n",
            " 8   stars         150346 non-null  float64\n",
            " 9   review_count  150346 non-null  int64  \n",
            " 10  is_open       150346 non-null  int64  \n",
            " 11  attributes    136602 non-null  object \n",
            " 12  categories    150243 non-null  object \n",
            " 13  hours         127123 non-null  object \n",
            "dtypes: float64(3), int64(2), object(9)\n",
            "memory usage: 16.1+ MB\n"
          ]
        },
        {
          "output_type": "execute_result",
          "data": {
            "text/plain": [
              "(150346, 14)"
            ]
          },
          "metadata": {},
          "execution_count": 23
        }
      ]
    },
    {
      "cell_type": "markdown",
      "source": [
        "### User"
      ],
      "metadata": {
        "id": "XZwTtvFk4m9N"
      }
    },
    {
      "cell_type": "code",
      "source": [
        "user_path = '/content/yelp_academic_dataset_user.json'\n",
        "\n",
        "# se usa un JsonReader para leer el json de a pedazos\n",
        "# https://pandas.pydata.org/pandas-docs/stable/reference/api/pandas.read_json.html\n",
        "df_user_iter = pd.read_json(user_path, lines=True, chunksize=100000) # JsonReader"
      ],
      "metadata": {
        "id": "F_Kit6YM5Ai2"
      },
      "execution_count": 6,
      "outputs": []
    },
    {
      "cell_type": "code",
      "source": [
        "df_user = pd.DataFrame()\n",
        "\n",
        "i=1\n",
        "for df in df_user_iter:\n",
        "    #df = df[df['business_id'].isin(df_business['business_id'])]\n",
        "    # se van leyendo 100.000 lineas y se van agregando al df\n",
        "\n",
        "    selected_columns = ['user_id', 'name']\n",
        "    df_user = pd.concat([df_user, df[selected_columns]])\n",
        "    # TODO: solo agregar las dimensiones que vamos a uar\n",
        "    print(i)\n",
        "    i+=1\n",
        "    # segementacion de usuarios\n",
        "    #if i==10:\n",
        "    #  break\n",
        "\n",
        "selected_users = df_user['user_id']\n",
        "\n",
        "display(df_user.head())\n",
        "df_user.shape"
      ],
      "metadata": {
        "colab": {
          "base_uri": "https://localhost:8080/",
          "height": 569
        },
        "id": "OEtDCvuv4qoD",
        "outputId": "ffedda48-b97f-407c-b5a8-38697e0a6a7e"
      },
      "execution_count": 8,
      "outputs": [
        {
          "output_type": "stream",
          "name": "stdout",
          "text": [
            "1\n",
            "2\n",
            "3\n",
            "4\n",
            "5\n",
            "6\n",
            "7\n",
            "8\n",
            "9\n",
            "10\n",
            "11\n",
            "12\n",
            "13\n",
            "14\n",
            "15\n",
            "16\n",
            "17\n",
            "18\n",
            "19\n"
          ]
        },
        {
          "output_type": "display_data",
          "data": {
            "text/plain": [
              "                       user_id     name\n",
              "100000  wjPr1G2xPN8kqO6Rcee5eA  Richard\n",
              "100001  DyLXpHDgdoONAvkN6Op1BA  Katurah\n",
              "100002  yg9zQGUzqjPwKJhFTnNm8Q     Katy\n",
              "100003  9sFm8hp5paha2zUZKjucUg      Jay\n",
              "100004  EaWda5u5X6wCvkl4c3Skpg     Nita"
            ],
            "text/html": [
              "\n",
              "  <div id=\"df-e01c8540-2858-4b0e-a45d-cb9e9842e553\" class=\"colab-df-container\">\n",
              "    <div>\n",
              "<style scoped>\n",
              "    .dataframe tbody tr th:only-of-type {\n",
              "        vertical-align: middle;\n",
              "    }\n",
              "\n",
              "    .dataframe tbody tr th {\n",
              "        vertical-align: top;\n",
              "    }\n",
              "\n",
              "    .dataframe thead th {\n",
              "        text-align: right;\n",
              "    }\n",
              "</style>\n",
              "<table border=\"1\" class=\"dataframe\">\n",
              "  <thead>\n",
              "    <tr style=\"text-align: right;\">\n",
              "      <th></th>\n",
              "      <th>user_id</th>\n",
              "      <th>name</th>\n",
              "    </tr>\n",
              "  </thead>\n",
              "  <tbody>\n",
              "    <tr>\n",
              "      <th>100000</th>\n",
              "      <td>wjPr1G2xPN8kqO6Rcee5eA</td>\n",
              "      <td>Richard</td>\n",
              "    </tr>\n",
              "    <tr>\n",
              "      <th>100001</th>\n",
              "      <td>DyLXpHDgdoONAvkN6Op1BA</td>\n",
              "      <td>Katurah</td>\n",
              "    </tr>\n",
              "    <tr>\n",
              "      <th>100002</th>\n",
              "      <td>yg9zQGUzqjPwKJhFTnNm8Q</td>\n",
              "      <td>Katy</td>\n",
              "    </tr>\n",
              "    <tr>\n",
              "      <th>100003</th>\n",
              "      <td>9sFm8hp5paha2zUZKjucUg</td>\n",
              "      <td>Jay</td>\n",
              "    </tr>\n",
              "    <tr>\n",
              "      <th>100004</th>\n",
              "      <td>EaWda5u5X6wCvkl4c3Skpg</td>\n",
              "      <td>Nita</td>\n",
              "    </tr>\n",
              "  </tbody>\n",
              "</table>\n",
              "</div>\n",
              "    <div class=\"colab-df-buttons\">\n",
              "\n",
              "  <div class=\"colab-df-container\">\n",
              "    <button class=\"colab-df-convert\" onclick=\"convertToInteractive('df-e01c8540-2858-4b0e-a45d-cb9e9842e553')\"\n",
              "            title=\"Convert this dataframe to an interactive table.\"\n",
              "            style=\"display:none;\">\n",
              "\n",
              "  <svg xmlns=\"http://www.w3.org/2000/svg\" height=\"24px\" viewBox=\"0 -960 960 960\">\n",
              "    <path d=\"M120-120v-720h720v720H120Zm60-500h600v-160H180v160Zm220 220h160v-160H400v160Zm0 220h160v-160H400v160ZM180-400h160v-160H180v160Zm440 0h160v-160H620v160ZM180-180h160v-160H180v160Zm440 0h160v-160H620v160Z\"/>\n",
              "  </svg>\n",
              "    </button>\n",
              "\n",
              "  <style>\n",
              "    .colab-df-container {\n",
              "      display:flex;\n",
              "      gap: 12px;\n",
              "    }\n",
              "\n",
              "    .colab-df-convert {\n",
              "      background-color: #E8F0FE;\n",
              "      border: none;\n",
              "      border-radius: 50%;\n",
              "      cursor: pointer;\n",
              "      display: none;\n",
              "      fill: #1967D2;\n",
              "      height: 32px;\n",
              "      padding: 0 0 0 0;\n",
              "      width: 32px;\n",
              "    }\n",
              "\n",
              "    .colab-df-convert:hover {\n",
              "      background-color: #E2EBFA;\n",
              "      box-shadow: 0px 1px 2px rgba(60, 64, 67, 0.3), 0px 1px 3px 1px rgba(60, 64, 67, 0.15);\n",
              "      fill: #174EA6;\n",
              "    }\n",
              "\n",
              "    .colab-df-buttons div {\n",
              "      margin-bottom: 4px;\n",
              "    }\n",
              "\n",
              "    [theme=dark] .colab-df-convert {\n",
              "      background-color: #3B4455;\n",
              "      fill: #D2E3FC;\n",
              "    }\n",
              "\n",
              "    [theme=dark] .colab-df-convert:hover {\n",
              "      background-color: #434B5C;\n",
              "      box-shadow: 0px 1px 3px 1px rgba(0, 0, 0, 0.15);\n",
              "      filter: drop-shadow(0px 1px 2px rgba(0, 0, 0, 0.3));\n",
              "      fill: #FFFFFF;\n",
              "    }\n",
              "  </style>\n",
              "\n",
              "    <script>\n",
              "      const buttonEl =\n",
              "        document.querySelector('#df-e01c8540-2858-4b0e-a45d-cb9e9842e553 button.colab-df-convert');\n",
              "      buttonEl.style.display =\n",
              "        google.colab.kernel.accessAllowed ? 'block' : 'none';\n",
              "\n",
              "      async function convertToInteractive(key) {\n",
              "        const element = document.querySelector('#df-e01c8540-2858-4b0e-a45d-cb9e9842e553');\n",
              "        const dataTable =\n",
              "          await google.colab.kernel.invokeFunction('convertToInteractive',\n",
              "                                                    [key], {});\n",
              "        if (!dataTable) return;\n",
              "\n",
              "        const docLinkHtml = 'Like what you see? Visit the ' +\n",
              "          '<a target=\"_blank\" href=https://colab.research.google.com/notebooks/data_table.ipynb>data table notebook</a>'\n",
              "          + ' to learn more about interactive tables.';\n",
              "        element.innerHTML = '';\n",
              "        dataTable['output_type'] = 'display_data';\n",
              "        await google.colab.output.renderOutput(dataTable, element);\n",
              "        const docLink = document.createElement('div');\n",
              "        docLink.innerHTML = docLinkHtml;\n",
              "        element.appendChild(docLink);\n",
              "      }\n",
              "    </script>\n",
              "  </div>\n",
              "\n",
              "\n",
              "<div id=\"df-d6b1cb78-441a-4f5d-98a8-cbe1a673088f\">\n",
              "  <button class=\"colab-df-quickchart\" onclick=\"quickchart('df-d6b1cb78-441a-4f5d-98a8-cbe1a673088f')\"\n",
              "            title=\"Suggest charts\"\n",
              "            style=\"display:none;\">\n",
              "\n",
              "<svg xmlns=\"http://www.w3.org/2000/svg\" height=\"24px\"viewBox=\"0 0 24 24\"\n",
              "     width=\"24px\">\n",
              "    <g>\n",
              "        <path d=\"M19 3H5c-1.1 0-2 .9-2 2v14c0 1.1.9 2 2 2h14c1.1 0 2-.9 2-2V5c0-1.1-.9-2-2-2zM9 17H7v-7h2v7zm4 0h-2V7h2v10zm4 0h-2v-4h2v4z\"/>\n",
              "    </g>\n",
              "</svg>\n",
              "  </button>\n",
              "\n",
              "<style>\n",
              "  .colab-df-quickchart {\n",
              "      --bg-color: #E8F0FE;\n",
              "      --fill-color: #1967D2;\n",
              "      --hover-bg-color: #E2EBFA;\n",
              "      --hover-fill-color: #174EA6;\n",
              "      --disabled-fill-color: #AAA;\n",
              "      --disabled-bg-color: #DDD;\n",
              "  }\n",
              "\n",
              "  [theme=dark] .colab-df-quickchart {\n",
              "      --bg-color: #3B4455;\n",
              "      --fill-color: #D2E3FC;\n",
              "      --hover-bg-color: #434B5C;\n",
              "      --hover-fill-color: #FFFFFF;\n",
              "      --disabled-bg-color: #3B4455;\n",
              "      --disabled-fill-color: #666;\n",
              "  }\n",
              "\n",
              "  .colab-df-quickchart {\n",
              "    background-color: var(--bg-color);\n",
              "    border: none;\n",
              "    border-radius: 50%;\n",
              "    cursor: pointer;\n",
              "    display: none;\n",
              "    fill: var(--fill-color);\n",
              "    height: 32px;\n",
              "    padding: 0;\n",
              "    width: 32px;\n",
              "  }\n",
              "\n",
              "  .colab-df-quickchart:hover {\n",
              "    background-color: var(--hover-bg-color);\n",
              "    box-shadow: 0 1px 2px rgba(60, 64, 67, 0.3), 0 1px 3px 1px rgba(60, 64, 67, 0.15);\n",
              "    fill: var(--button-hover-fill-color);\n",
              "  }\n",
              "\n",
              "  .colab-df-quickchart-complete:disabled,\n",
              "  .colab-df-quickchart-complete:disabled:hover {\n",
              "    background-color: var(--disabled-bg-color);\n",
              "    fill: var(--disabled-fill-color);\n",
              "    box-shadow: none;\n",
              "  }\n",
              "\n",
              "  .colab-df-spinner {\n",
              "    border: 2px solid var(--fill-color);\n",
              "    border-color: transparent;\n",
              "    border-bottom-color: var(--fill-color);\n",
              "    animation:\n",
              "      spin 1s steps(1) infinite;\n",
              "  }\n",
              "\n",
              "  @keyframes spin {\n",
              "    0% {\n",
              "      border-color: transparent;\n",
              "      border-bottom-color: var(--fill-color);\n",
              "      border-left-color: var(--fill-color);\n",
              "    }\n",
              "    20% {\n",
              "      border-color: transparent;\n",
              "      border-left-color: var(--fill-color);\n",
              "      border-top-color: var(--fill-color);\n",
              "    }\n",
              "    30% {\n",
              "      border-color: transparent;\n",
              "      border-left-color: var(--fill-color);\n",
              "      border-top-color: var(--fill-color);\n",
              "      border-right-color: var(--fill-color);\n",
              "    }\n",
              "    40% {\n",
              "      border-color: transparent;\n",
              "      border-right-color: var(--fill-color);\n",
              "      border-top-color: var(--fill-color);\n",
              "    }\n",
              "    60% {\n",
              "      border-color: transparent;\n",
              "      border-right-color: var(--fill-color);\n",
              "    }\n",
              "    80% {\n",
              "      border-color: transparent;\n",
              "      border-right-color: var(--fill-color);\n",
              "      border-bottom-color: var(--fill-color);\n",
              "    }\n",
              "    90% {\n",
              "      border-color: transparent;\n",
              "      border-bottom-color: var(--fill-color);\n",
              "    }\n",
              "  }\n",
              "</style>\n",
              "\n",
              "  <script>\n",
              "    async function quickchart(key) {\n",
              "      const quickchartButtonEl =\n",
              "        document.querySelector('#' + key + ' button');\n",
              "      quickchartButtonEl.disabled = true;  // To prevent multiple clicks.\n",
              "      quickchartButtonEl.classList.add('colab-df-spinner');\n",
              "      try {\n",
              "        const charts = await google.colab.kernel.invokeFunction(\n",
              "            'suggestCharts', [key], {});\n",
              "      } catch (error) {\n",
              "        console.error('Error during call to suggestCharts:', error);\n",
              "      }\n",
              "      quickchartButtonEl.classList.remove('colab-df-spinner');\n",
              "      quickchartButtonEl.classList.add('colab-df-quickchart-complete');\n",
              "    }\n",
              "    (() => {\n",
              "      let quickchartButtonEl =\n",
              "        document.querySelector('#df-d6b1cb78-441a-4f5d-98a8-cbe1a673088f button');\n",
              "      quickchartButtonEl.style.display =\n",
              "        google.colab.kernel.accessAllowed ? 'block' : 'none';\n",
              "    })();\n",
              "  </script>\n",
              "</div>\n",
              "\n",
              "    </div>\n",
              "  </div>\n"
            ],
            "application/vnd.google.colaboratory.intrinsic+json": {
              "type": "dataframe",
              "summary": "{\n  \"name\": \"df_user\",\n  \"rows\": 5,\n  \"fields\": [\n    {\n      \"column\": \"user_id\",\n      \"properties\": {\n        \"dtype\": \"string\",\n        \"num_unique_values\": 5,\n        \"samples\": [\n          \"DyLXpHDgdoONAvkN6Op1BA\",\n          \"EaWda5u5X6wCvkl4c3Skpg\",\n          \"yg9zQGUzqjPwKJhFTnNm8Q\"\n        ],\n        \"semantic_type\": \"\",\n        \"description\": \"\"\n      }\n    },\n    {\n      \"column\": \"name\",\n      \"properties\": {\n        \"dtype\": \"string\",\n        \"num_unique_values\": 5,\n        \"samples\": [\n          \"Katurah\",\n          \"Nita\",\n          \"Katy\"\n        ],\n        \"semantic_type\": \"\",\n        \"description\": \"\"\n      }\n    }\n  ]\n}"
            }
          },
          "metadata": {}
        },
        {
          "output_type": "execute_result",
          "data": {
            "text/plain": [
              "(1887897, 2)"
            ]
          },
          "metadata": {},
          "execution_count": 8
        }
      ]
    },
    {
      "cell_type": "markdown",
      "source": [
        "### Review"
      ],
      "metadata": {
        "id": "8Qi1yXSl-PaM"
      }
    },
    {
      "cell_type": "code",
      "source": [
        "review_path = '/content/yelp_academic_dataset_review.json'\n",
        "\n",
        "# se usa un JsonReader para leer el json de a pedazos\n",
        "# https://pandas.pydata.org/pandas-docs/stable/reference/api/pandas.read_json.html\n",
        "df_review_iter = pd.read_json(review_path, lines=True, chunksize=100000) # JsonReader"
      ],
      "metadata": {
        "id": "4WRCvYORjxMT"
      },
      "execution_count": 21,
      "outputs": []
    },
    {
      "cell_type": "code",
      "source": [
        "df_review = pd.DataFrame()\n",
        "\n",
        "i=1\n",
        "for df in df_review_iter:\n",
        "    # las reviews deben ser de usuarios conocidos\n",
        "    df = df[df['user_id'].isin(df_user['user_id'])]\n",
        "    # las reviews deben ser de negocios conocidos\n",
        "    df = df[df['business_id'].isin(df_business['business_id'])]\n",
        "\n",
        "    # tomamos reviews recientes (desde 2019 hasta 2022 enero)\n",
        "    df = df[df['date'].dt.year >= 2019]\n",
        "\n",
        "    # se van leyendo 100.000 lineas y se van agregando al df\n",
        "    selected_columns = ['user_id', 'business_id', 'stars', 'date']\n",
        "    df_review = pd.concat([df_review, df[selected_columns]])\n",
        "    print(i)\n",
        "    i+=1\n",
        "\n",
        "\n",
        "display(df_review.head())\n",
        "df_review.shape"
      ],
      "metadata": {
        "colab": {
          "base_uri": "https://localhost:8080/",
          "height": 1000
        },
        "id": "3BZwBbxHi0hU",
        "outputId": "436aa1fc-8757-4927-80ac-1b6d96a5b923"
      },
      "execution_count": 24,
      "outputs": [
        {
          "output_type": "stream",
          "name": "stdout",
          "text": [
            "1\n",
            "2\n",
            "3\n",
            "4\n",
            "5\n",
            "6\n",
            "7\n",
            "8\n",
            "9\n",
            "10\n",
            "11\n",
            "12\n",
            "13\n",
            "14\n",
            "15\n",
            "16\n",
            "17\n",
            "18\n",
            "19\n",
            "20\n",
            "21\n",
            "22\n",
            "23\n",
            "24\n",
            "25\n",
            "26\n",
            "27\n",
            "28\n",
            "29\n",
            "30\n",
            "31\n",
            "32\n",
            "33\n",
            "34\n",
            "35\n",
            "36\n",
            "37\n",
            "38\n",
            "39\n",
            "40\n",
            "41\n",
            "42\n",
            "43\n",
            "44\n",
            "45\n",
            "46\n",
            "47\n",
            "48\n",
            "49\n",
            "50\n",
            "51\n",
            "52\n",
            "53\n",
            "54\n",
            "55\n",
            "56\n",
            "57\n",
            "58\n",
            "59\n",
            "60\n",
            "61\n",
            "62\n",
            "63\n",
            "64\n",
            "65\n",
            "66\n",
            "67\n",
            "68\n",
            "69\n"
          ]
        },
        {
          "output_type": "display_data",
          "data": {
            "text/plain": [
              "                       user_id             business_id  stars  \\\n",
              "194087  s4sR0rvVOf6iby77xGeyLg  z7em5co2qckbAXoDGXynsA      5   \n",
              "194089  SRp90x9d2719GOZ_PT-a6A  M0r9lUn2gLFYgIwIfG8-bQ      5   \n",
              "203215  X71-eKfjEgfSxApe2MtrfQ  TVGuOv0Nc0omLXtGKVOwdQ      1   \n",
              "204271  jAgaHj1hc7z34PRWPEPEhQ  WLiqfxv_GhFFA5sm878a2w      5   \n",
              "204275  F8wJVQrOppgOwSXU08mTdA  720J1v3TX-J95cdTJbCpKA      5   \n",
              "\n",
              "                      date  \n",
              "194087 2019-01-04 02:18:09  \n",
              "194089 2019-01-06 11:48:21  \n",
              "203215 2019-02-17 17:17:56  \n",
              "204271 2019-02-11 14:59:40  \n",
              "204275 2019-02-20 23:03:26  "
            ],
            "text/html": [
              "\n",
              "  <div id=\"df-5a903ff1-434d-4941-ab18-0cca8fc6e8a6\" class=\"colab-df-container\">\n",
              "    <div>\n",
              "<style scoped>\n",
              "    .dataframe tbody tr th:only-of-type {\n",
              "        vertical-align: middle;\n",
              "    }\n",
              "\n",
              "    .dataframe tbody tr th {\n",
              "        vertical-align: top;\n",
              "    }\n",
              "\n",
              "    .dataframe thead th {\n",
              "        text-align: right;\n",
              "    }\n",
              "</style>\n",
              "<table border=\"1\" class=\"dataframe\">\n",
              "  <thead>\n",
              "    <tr style=\"text-align: right;\">\n",
              "      <th></th>\n",
              "      <th>user_id</th>\n",
              "      <th>business_id</th>\n",
              "      <th>stars</th>\n",
              "      <th>date</th>\n",
              "    </tr>\n",
              "  </thead>\n",
              "  <tbody>\n",
              "    <tr>\n",
              "      <th>194087</th>\n",
              "      <td>s4sR0rvVOf6iby77xGeyLg</td>\n",
              "      <td>z7em5co2qckbAXoDGXynsA</td>\n",
              "      <td>5</td>\n",
              "      <td>2019-01-04 02:18:09</td>\n",
              "    </tr>\n",
              "    <tr>\n",
              "      <th>194089</th>\n",
              "      <td>SRp90x9d2719GOZ_PT-a6A</td>\n",
              "      <td>M0r9lUn2gLFYgIwIfG8-bQ</td>\n",
              "      <td>5</td>\n",
              "      <td>2019-01-06 11:48:21</td>\n",
              "    </tr>\n",
              "    <tr>\n",
              "      <th>203215</th>\n",
              "      <td>X71-eKfjEgfSxApe2MtrfQ</td>\n",
              "      <td>TVGuOv0Nc0omLXtGKVOwdQ</td>\n",
              "      <td>1</td>\n",
              "      <td>2019-02-17 17:17:56</td>\n",
              "    </tr>\n",
              "    <tr>\n",
              "      <th>204271</th>\n",
              "      <td>jAgaHj1hc7z34PRWPEPEhQ</td>\n",
              "      <td>WLiqfxv_GhFFA5sm878a2w</td>\n",
              "      <td>5</td>\n",
              "      <td>2019-02-11 14:59:40</td>\n",
              "    </tr>\n",
              "    <tr>\n",
              "      <th>204275</th>\n",
              "      <td>F8wJVQrOppgOwSXU08mTdA</td>\n",
              "      <td>720J1v3TX-J95cdTJbCpKA</td>\n",
              "      <td>5</td>\n",
              "      <td>2019-02-20 23:03:26</td>\n",
              "    </tr>\n",
              "  </tbody>\n",
              "</table>\n",
              "</div>\n",
              "    <div class=\"colab-df-buttons\">\n",
              "\n",
              "  <div class=\"colab-df-container\">\n",
              "    <button class=\"colab-df-convert\" onclick=\"convertToInteractive('df-5a903ff1-434d-4941-ab18-0cca8fc6e8a6')\"\n",
              "            title=\"Convert this dataframe to an interactive table.\"\n",
              "            style=\"display:none;\">\n",
              "\n",
              "  <svg xmlns=\"http://www.w3.org/2000/svg\" height=\"24px\" viewBox=\"0 -960 960 960\">\n",
              "    <path d=\"M120-120v-720h720v720H120Zm60-500h600v-160H180v160Zm220 220h160v-160H400v160Zm0 220h160v-160H400v160ZM180-400h160v-160H180v160Zm440 0h160v-160H620v160ZM180-180h160v-160H180v160Zm440 0h160v-160H620v160Z\"/>\n",
              "  </svg>\n",
              "    </button>\n",
              "\n",
              "  <style>\n",
              "    .colab-df-container {\n",
              "      display:flex;\n",
              "      gap: 12px;\n",
              "    }\n",
              "\n",
              "    .colab-df-convert {\n",
              "      background-color: #E8F0FE;\n",
              "      border: none;\n",
              "      border-radius: 50%;\n",
              "      cursor: pointer;\n",
              "      display: none;\n",
              "      fill: #1967D2;\n",
              "      height: 32px;\n",
              "      padding: 0 0 0 0;\n",
              "      width: 32px;\n",
              "    }\n",
              "\n",
              "    .colab-df-convert:hover {\n",
              "      background-color: #E2EBFA;\n",
              "      box-shadow: 0px 1px 2px rgba(60, 64, 67, 0.3), 0px 1px 3px 1px rgba(60, 64, 67, 0.15);\n",
              "      fill: #174EA6;\n",
              "    }\n",
              "\n",
              "    .colab-df-buttons div {\n",
              "      margin-bottom: 4px;\n",
              "    }\n",
              "\n",
              "    [theme=dark] .colab-df-convert {\n",
              "      background-color: #3B4455;\n",
              "      fill: #D2E3FC;\n",
              "    }\n",
              "\n",
              "    [theme=dark] .colab-df-convert:hover {\n",
              "      background-color: #434B5C;\n",
              "      box-shadow: 0px 1px 3px 1px rgba(0, 0, 0, 0.15);\n",
              "      filter: drop-shadow(0px 1px 2px rgba(0, 0, 0, 0.3));\n",
              "      fill: #FFFFFF;\n",
              "    }\n",
              "  </style>\n",
              "\n",
              "    <script>\n",
              "      const buttonEl =\n",
              "        document.querySelector('#df-5a903ff1-434d-4941-ab18-0cca8fc6e8a6 button.colab-df-convert');\n",
              "      buttonEl.style.display =\n",
              "        google.colab.kernel.accessAllowed ? 'block' : 'none';\n",
              "\n",
              "      async function convertToInteractive(key) {\n",
              "        const element = document.querySelector('#df-5a903ff1-434d-4941-ab18-0cca8fc6e8a6');\n",
              "        const dataTable =\n",
              "          await google.colab.kernel.invokeFunction('convertToInteractive',\n",
              "                                                    [key], {});\n",
              "        if (!dataTable) return;\n",
              "\n",
              "        const docLinkHtml = 'Like what you see? Visit the ' +\n",
              "          '<a target=\"_blank\" href=https://colab.research.google.com/notebooks/data_table.ipynb>data table notebook</a>'\n",
              "          + ' to learn more about interactive tables.';\n",
              "        element.innerHTML = '';\n",
              "        dataTable['output_type'] = 'display_data';\n",
              "        await google.colab.output.renderOutput(dataTable, element);\n",
              "        const docLink = document.createElement('div');\n",
              "        docLink.innerHTML = docLinkHtml;\n",
              "        element.appendChild(docLink);\n",
              "      }\n",
              "    </script>\n",
              "  </div>\n",
              "\n",
              "\n",
              "<div id=\"df-39078d07-c40d-4f98-a573-9c2c5cdc363f\">\n",
              "  <button class=\"colab-df-quickchart\" onclick=\"quickchart('df-39078d07-c40d-4f98-a573-9c2c5cdc363f')\"\n",
              "            title=\"Suggest charts\"\n",
              "            style=\"display:none;\">\n",
              "\n",
              "<svg xmlns=\"http://www.w3.org/2000/svg\" height=\"24px\"viewBox=\"0 0 24 24\"\n",
              "     width=\"24px\">\n",
              "    <g>\n",
              "        <path d=\"M19 3H5c-1.1 0-2 .9-2 2v14c0 1.1.9 2 2 2h14c1.1 0 2-.9 2-2V5c0-1.1-.9-2-2-2zM9 17H7v-7h2v7zm4 0h-2V7h2v10zm4 0h-2v-4h2v4z\"/>\n",
              "    </g>\n",
              "</svg>\n",
              "  </button>\n",
              "\n",
              "<style>\n",
              "  .colab-df-quickchart {\n",
              "      --bg-color: #E8F0FE;\n",
              "      --fill-color: #1967D2;\n",
              "      --hover-bg-color: #E2EBFA;\n",
              "      --hover-fill-color: #174EA6;\n",
              "      --disabled-fill-color: #AAA;\n",
              "      --disabled-bg-color: #DDD;\n",
              "  }\n",
              "\n",
              "  [theme=dark] .colab-df-quickchart {\n",
              "      --bg-color: #3B4455;\n",
              "      --fill-color: #D2E3FC;\n",
              "      --hover-bg-color: #434B5C;\n",
              "      --hover-fill-color: #FFFFFF;\n",
              "      --disabled-bg-color: #3B4455;\n",
              "      --disabled-fill-color: #666;\n",
              "  }\n",
              "\n",
              "  .colab-df-quickchart {\n",
              "    background-color: var(--bg-color);\n",
              "    border: none;\n",
              "    border-radius: 50%;\n",
              "    cursor: pointer;\n",
              "    display: none;\n",
              "    fill: var(--fill-color);\n",
              "    height: 32px;\n",
              "    padding: 0;\n",
              "    width: 32px;\n",
              "  }\n",
              "\n",
              "  .colab-df-quickchart:hover {\n",
              "    background-color: var(--hover-bg-color);\n",
              "    box-shadow: 0 1px 2px rgba(60, 64, 67, 0.3), 0 1px 3px 1px rgba(60, 64, 67, 0.15);\n",
              "    fill: var(--button-hover-fill-color);\n",
              "  }\n",
              "\n",
              "  .colab-df-quickchart-complete:disabled,\n",
              "  .colab-df-quickchart-complete:disabled:hover {\n",
              "    background-color: var(--disabled-bg-color);\n",
              "    fill: var(--disabled-fill-color);\n",
              "    box-shadow: none;\n",
              "  }\n",
              "\n",
              "  .colab-df-spinner {\n",
              "    border: 2px solid var(--fill-color);\n",
              "    border-color: transparent;\n",
              "    border-bottom-color: var(--fill-color);\n",
              "    animation:\n",
              "      spin 1s steps(1) infinite;\n",
              "  }\n",
              "\n",
              "  @keyframes spin {\n",
              "    0% {\n",
              "      border-color: transparent;\n",
              "      border-bottom-color: var(--fill-color);\n",
              "      border-left-color: var(--fill-color);\n",
              "    }\n",
              "    20% {\n",
              "      border-color: transparent;\n",
              "      border-left-color: var(--fill-color);\n",
              "      border-top-color: var(--fill-color);\n",
              "    }\n",
              "    30% {\n",
              "      border-color: transparent;\n",
              "      border-left-color: var(--fill-color);\n",
              "      border-top-color: var(--fill-color);\n",
              "      border-right-color: var(--fill-color);\n",
              "    }\n",
              "    40% {\n",
              "      border-color: transparent;\n",
              "      border-right-color: var(--fill-color);\n",
              "      border-top-color: var(--fill-color);\n",
              "    }\n",
              "    60% {\n",
              "      border-color: transparent;\n",
              "      border-right-color: var(--fill-color);\n",
              "    }\n",
              "    80% {\n",
              "      border-color: transparent;\n",
              "      border-right-color: var(--fill-color);\n",
              "      border-bottom-color: var(--fill-color);\n",
              "    }\n",
              "    90% {\n",
              "      border-color: transparent;\n",
              "      border-bottom-color: var(--fill-color);\n",
              "    }\n",
              "  }\n",
              "</style>\n",
              "\n",
              "  <script>\n",
              "    async function quickchart(key) {\n",
              "      const quickchartButtonEl =\n",
              "        document.querySelector('#' + key + ' button');\n",
              "      quickchartButtonEl.disabled = true;  // To prevent multiple clicks.\n",
              "      quickchartButtonEl.classList.add('colab-df-spinner');\n",
              "      try {\n",
              "        const charts = await google.colab.kernel.invokeFunction(\n",
              "            'suggestCharts', [key], {});\n",
              "      } catch (error) {\n",
              "        console.error('Error during call to suggestCharts:', error);\n",
              "      }\n",
              "      quickchartButtonEl.classList.remove('colab-df-spinner');\n",
              "      quickchartButtonEl.classList.add('colab-df-quickchart-complete');\n",
              "    }\n",
              "    (() => {\n",
              "      let quickchartButtonEl =\n",
              "        document.querySelector('#df-39078d07-c40d-4f98-a573-9c2c5cdc363f button');\n",
              "      quickchartButtonEl.style.display =\n",
              "        google.colab.kernel.accessAllowed ? 'block' : 'none';\n",
              "    })();\n",
              "  </script>\n",
              "</div>\n",
              "\n",
              "    </div>\n",
              "  </div>\n"
            ],
            "application/vnd.google.colaboratory.intrinsic+json": {
              "type": "dataframe",
              "summary": "{\n  \"name\": \"df_review\",\n  \"rows\": 5,\n  \"fields\": [\n    {\n      \"column\": \"user_id\",\n      \"properties\": {\n        \"dtype\": \"string\",\n        \"num_unique_values\": 5,\n        \"samples\": [\n          \"SRp90x9d2719GOZ_PT-a6A\",\n          \"F8wJVQrOppgOwSXU08mTdA\",\n          \"X71-eKfjEgfSxApe2MtrfQ\"\n        ],\n        \"semantic_type\": \"\",\n        \"description\": \"\"\n      }\n    },\n    {\n      \"column\": \"business_id\",\n      \"properties\": {\n        \"dtype\": \"string\",\n        \"num_unique_values\": 5,\n        \"samples\": [\n          \"M0r9lUn2gLFYgIwIfG8-bQ\",\n          \"720J1v3TX-J95cdTJbCpKA\",\n          \"TVGuOv0Nc0omLXtGKVOwdQ\"\n        ],\n        \"semantic_type\": \"\",\n        \"description\": \"\"\n      }\n    },\n    {\n      \"column\": \"stars\",\n      \"properties\": {\n        \"dtype\": \"number\",\n        \"std\": 1,\n        \"min\": 1,\n        \"max\": 5,\n        \"num_unique_values\": 2,\n        \"samples\": [\n          1,\n          5\n        ],\n        \"semantic_type\": \"\",\n        \"description\": \"\"\n      }\n    },\n    {\n      \"column\": \"date\",\n      \"properties\": {\n        \"dtype\": \"date\",\n        \"min\": \"2019-01-04 02:18:09\",\n        \"max\": \"2019-02-20 23:03:26\",\n        \"num_unique_values\": 5,\n        \"samples\": [\n          \"2019-01-06 11:48:21\",\n          \"2019-02-20 23:03:26\"\n        ],\n        \"semantic_type\": \"\",\n        \"description\": \"\"\n      }\n    }\n  ]\n}"
            }
          },
          "metadata": {}
        },
        {
          "output_type": "execute_result",
          "data": {
            "text/plain": [
              "(1857199, 4)"
            ]
          },
          "metadata": {},
          "execution_count": 24
        }
      ]
    },
    {
      "cell_type": "code",
      "source": [
        "df_review.info()"
      ],
      "metadata": {
        "colab": {
          "base_uri": "https://localhost:8080/"
        },
        "id": "bsskx2-Q_IUa",
        "outputId": "ba4db2b3-60e2-4100-f245-015a99c85370"
      },
      "execution_count": 25,
      "outputs": [
        {
          "output_type": "stream",
          "name": "stdout",
          "text": [
            "<class 'pandas.core.frame.DataFrame'>\n",
            "Index: 1857199 entries, 194087 to 6990278\n",
            "Data columns (total 4 columns):\n",
            " #   Column       Dtype         \n",
            "---  ------       -----         \n",
            " 0   user_id      object        \n",
            " 1   business_id  object        \n",
            " 2   stars        int64         \n",
            " 3   date         datetime64[ns]\n",
            "dtypes: datetime64[ns](1), int64(1), object(2)\n",
            "memory usage: 70.8+ MB\n"
          ]
        }
      ]
    },
    {
      "cell_type": "code",
      "source": [
        "df_review.describe()"
      ],
      "metadata": {
        "colab": {
          "base_uri": "https://localhost:8080/",
          "height": 300
        },
        "id": "vKlNdwxJ87_C",
        "outputId": "69f0a2e6-8498-439e-81bb-efe0ed85e63e"
      },
      "execution_count": 26,
      "outputs": [
        {
          "output_type": "execute_result",
          "data": {
            "text/plain": [
              "              stars                           date\n",
              "count  1.857199e+06                        1857199\n",
              "mean   3.718320e+00  2020-05-22 18:43:06.768745216\n",
              "min    1.000000e+00            2019-01-01 00:00:21\n",
              "25%    2.000000e+00     2019-07-27 19:59:27.500000\n",
              "50%    5.000000e+00            2020-03-16 14:37:36\n",
              "75%    5.000000e+00     2021-03-27 21:07:24.500000\n",
              "max    5.000000e+00            2022-01-19 19:48:25\n",
              "std    1.615647e+00                            NaN"
            ],
            "text/html": [
              "\n",
              "  <div id=\"df-45d6297e-54c8-4541-b27d-48b4057a7cdf\" class=\"colab-df-container\">\n",
              "    <div>\n",
              "<style scoped>\n",
              "    .dataframe tbody tr th:only-of-type {\n",
              "        vertical-align: middle;\n",
              "    }\n",
              "\n",
              "    .dataframe tbody tr th {\n",
              "        vertical-align: top;\n",
              "    }\n",
              "\n",
              "    .dataframe thead th {\n",
              "        text-align: right;\n",
              "    }\n",
              "</style>\n",
              "<table border=\"1\" class=\"dataframe\">\n",
              "  <thead>\n",
              "    <tr style=\"text-align: right;\">\n",
              "      <th></th>\n",
              "      <th>stars</th>\n",
              "      <th>date</th>\n",
              "    </tr>\n",
              "  </thead>\n",
              "  <tbody>\n",
              "    <tr>\n",
              "      <th>count</th>\n",
              "      <td>1.857199e+06</td>\n",
              "      <td>1857199</td>\n",
              "    </tr>\n",
              "    <tr>\n",
              "      <th>mean</th>\n",
              "      <td>3.718320e+00</td>\n",
              "      <td>2020-05-22 18:43:06.768745216</td>\n",
              "    </tr>\n",
              "    <tr>\n",
              "      <th>min</th>\n",
              "      <td>1.000000e+00</td>\n",
              "      <td>2019-01-01 00:00:21</td>\n",
              "    </tr>\n",
              "    <tr>\n",
              "      <th>25%</th>\n",
              "      <td>2.000000e+00</td>\n",
              "      <td>2019-07-27 19:59:27.500000</td>\n",
              "    </tr>\n",
              "    <tr>\n",
              "      <th>50%</th>\n",
              "      <td>5.000000e+00</td>\n",
              "      <td>2020-03-16 14:37:36</td>\n",
              "    </tr>\n",
              "    <tr>\n",
              "      <th>75%</th>\n",
              "      <td>5.000000e+00</td>\n",
              "      <td>2021-03-27 21:07:24.500000</td>\n",
              "    </tr>\n",
              "    <tr>\n",
              "      <th>max</th>\n",
              "      <td>5.000000e+00</td>\n",
              "      <td>2022-01-19 19:48:25</td>\n",
              "    </tr>\n",
              "    <tr>\n",
              "      <th>std</th>\n",
              "      <td>1.615647e+00</td>\n",
              "      <td>NaN</td>\n",
              "    </tr>\n",
              "  </tbody>\n",
              "</table>\n",
              "</div>\n",
              "    <div class=\"colab-df-buttons\">\n",
              "\n",
              "  <div class=\"colab-df-container\">\n",
              "    <button class=\"colab-df-convert\" onclick=\"convertToInteractive('df-45d6297e-54c8-4541-b27d-48b4057a7cdf')\"\n",
              "            title=\"Convert this dataframe to an interactive table.\"\n",
              "            style=\"display:none;\">\n",
              "\n",
              "  <svg xmlns=\"http://www.w3.org/2000/svg\" height=\"24px\" viewBox=\"0 -960 960 960\">\n",
              "    <path d=\"M120-120v-720h720v720H120Zm60-500h600v-160H180v160Zm220 220h160v-160H400v160Zm0 220h160v-160H400v160ZM180-400h160v-160H180v160Zm440 0h160v-160H620v160ZM180-180h160v-160H180v160Zm440 0h160v-160H620v160Z\"/>\n",
              "  </svg>\n",
              "    </button>\n",
              "\n",
              "  <style>\n",
              "    .colab-df-container {\n",
              "      display:flex;\n",
              "      gap: 12px;\n",
              "    }\n",
              "\n",
              "    .colab-df-convert {\n",
              "      background-color: #E8F0FE;\n",
              "      border: none;\n",
              "      border-radius: 50%;\n",
              "      cursor: pointer;\n",
              "      display: none;\n",
              "      fill: #1967D2;\n",
              "      height: 32px;\n",
              "      padding: 0 0 0 0;\n",
              "      width: 32px;\n",
              "    }\n",
              "\n",
              "    .colab-df-convert:hover {\n",
              "      background-color: #E2EBFA;\n",
              "      box-shadow: 0px 1px 2px rgba(60, 64, 67, 0.3), 0px 1px 3px 1px rgba(60, 64, 67, 0.15);\n",
              "      fill: #174EA6;\n",
              "    }\n",
              "\n",
              "    .colab-df-buttons div {\n",
              "      margin-bottom: 4px;\n",
              "    }\n",
              "\n",
              "    [theme=dark] .colab-df-convert {\n",
              "      background-color: #3B4455;\n",
              "      fill: #D2E3FC;\n",
              "    }\n",
              "\n",
              "    [theme=dark] .colab-df-convert:hover {\n",
              "      background-color: #434B5C;\n",
              "      box-shadow: 0px 1px 3px 1px rgba(0, 0, 0, 0.15);\n",
              "      filter: drop-shadow(0px 1px 2px rgba(0, 0, 0, 0.3));\n",
              "      fill: #FFFFFF;\n",
              "    }\n",
              "  </style>\n",
              "\n",
              "    <script>\n",
              "      const buttonEl =\n",
              "        document.querySelector('#df-45d6297e-54c8-4541-b27d-48b4057a7cdf button.colab-df-convert');\n",
              "      buttonEl.style.display =\n",
              "        google.colab.kernel.accessAllowed ? 'block' : 'none';\n",
              "\n",
              "      async function convertToInteractive(key) {\n",
              "        const element = document.querySelector('#df-45d6297e-54c8-4541-b27d-48b4057a7cdf');\n",
              "        const dataTable =\n",
              "          await google.colab.kernel.invokeFunction('convertToInteractive',\n",
              "                                                    [key], {});\n",
              "        if (!dataTable) return;\n",
              "\n",
              "        const docLinkHtml = 'Like what you see? Visit the ' +\n",
              "          '<a target=\"_blank\" href=https://colab.research.google.com/notebooks/data_table.ipynb>data table notebook</a>'\n",
              "          + ' to learn more about interactive tables.';\n",
              "        element.innerHTML = '';\n",
              "        dataTable['output_type'] = 'display_data';\n",
              "        await google.colab.output.renderOutput(dataTable, element);\n",
              "        const docLink = document.createElement('div');\n",
              "        docLink.innerHTML = docLinkHtml;\n",
              "        element.appendChild(docLink);\n",
              "      }\n",
              "    </script>\n",
              "  </div>\n",
              "\n",
              "\n",
              "<div id=\"df-04e1e8e6-e1f0-4e9e-8f40-173567405b8c\">\n",
              "  <button class=\"colab-df-quickchart\" onclick=\"quickchart('df-04e1e8e6-e1f0-4e9e-8f40-173567405b8c')\"\n",
              "            title=\"Suggest charts\"\n",
              "            style=\"display:none;\">\n",
              "\n",
              "<svg xmlns=\"http://www.w3.org/2000/svg\" height=\"24px\"viewBox=\"0 0 24 24\"\n",
              "     width=\"24px\">\n",
              "    <g>\n",
              "        <path d=\"M19 3H5c-1.1 0-2 .9-2 2v14c0 1.1.9 2 2 2h14c1.1 0 2-.9 2-2V5c0-1.1-.9-2-2-2zM9 17H7v-7h2v7zm4 0h-2V7h2v10zm4 0h-2v-4h2v4z\"/>\n",
              "    </g>\n",
              "</svg>\n",
              "  </button>\n",
              "\n",
              "<style>\n",
              "  .colab-df-quickchart {\n",
              "      --bg-color: #E8F0FE;\n",
              "      --fill-color: #1967D2;\n",
              "      --hover-bg-color: #E2EBFA;\n",
              "      --hover-fill-color: #174EA6;\n",
              "      --disabled-fill-color: #AAA;\n",
              "      --disabled-bg-color: #DDD;\n",
              "  }\n",
              "\n",
              "  [theme=dark] .colab-df-quickchart {\n",
              "      --bg-color: #3B4455;\n",
              "      --fill-color: #D2E3FC;\n",
              "      --hover-bg-color: #434B5C;\n",
              "      --hover-fill-color: #FFFFFF;\n",
              "      --disabled-bg-color: #3B4455;\n",
              "      --disabled-fill-color: #666;\n",
              "  }\n",
              "\n",
              "  .colab-df-quickchart {\n",
              "    background-color: var(--bg-color);\n",
              "    border: none;\n",
              "    border-radius: 50%;\n",
              "    cursor: pointer;\n",
              "    display: none;\n",
              "    fill: var(--fill-color);\n",
              "    height: 32px;\n",
              "    padding: 0;\n",
              "    width: 32px;\n",
              "  }\n",
              "\n",
              "  .colab-df-quickchart:hover {\n",
              "    background-color: var(--hover-bg-color);\n",
              "    box-shadow: 0 1px 2px rgba(60, 64, 67, 0.3), 0 1px 3px 1px rgba(60, 64, 67, 0.15);\n",
              "    fill: var(--button-hover-fill-color);\n",
              "  }\n",
              "\n",
              "  .colab-df-quickchart-complete:disabled,\n",
              "  .colab-df-quickchart-complete:disabled:hover {\n",
              "    background-color: var(--disabled-bg-color);\n",
              "    fill: var(--disabled-fill-color);\n",
              "    box-shadow: none;\n",
              "  }\n",
              "\n",
              "  .colab-df-spinner {\n",
              "    border: 2px solid var(--fill-color);\n",
              "    border-color: transparent;\n",
              "    border-bottom-color: var(--fill-color);\n",
              "    animation:\n",
              "      spin 1s steps(1) infinite;\n",
              "  }\n",
              "\n",
              "  @keyframes spin {\n",
              "    0% {\n",
              "      border-color: transparent;\n",
              "      border-bottom-color: var(--fill-color);\n",
              "      border-left-color: var(--fill-color);\n",
              "    }\n",
              "    20% {\n",
              "      border-color: transparent;\n",
              "      border-left-color: var(--fill-color);\n",
              "      border-top-color: var(--fill-color);\n",
              "    }\n",
              "    30% {\n",
              "      border-color: transparent;\n",
              "      border-left-color: var(--fill-color);\n",
              "      border-top-color: var(--fill-color);\n",
              "      border-right-color: var(--fill-color);\n",
              "    }\n",
              "    40% {\n",
              "      border-color: transparent;\n",
              "      border-right-color: var(--fill-color);\n",
              "      border-top-color: var(--fill-color);\n",
              "    }\n",
              "    60% {\n",
              "      border-color: transparent;\n",
              "      border-right-color: var(--fill-color);\n",
              "    }\n",
              "    80% {\n",
              "      border-color: transparent;\n",
              "      border-right-color: var(--fill-color);\n",
              "      border-bottom-color: var(--fill-color);\n",
              "    }\n",
              "    90% {\n",
              "      border-color: transparent;\n",
              "      border-bottom-color: var(--fill-color);\n",
              "    }\n",
              "  }\n",
              "</style>\n",
              "\n",
              "  <script>\n",
              "    async function quickchart(key) {\n",
              "      const quickchartButtonEl =\n",
              "        document.querySelector('#' + key + ' button');\n",
              "      quickchartButtonEl.disabled = true;  // To prevent multiple clicks.\n",
              "      quickchartButtonEl.classList.add('colab-df-spinner');\n",
              "      try {\n",
              "        const charts = await google.colab.kernel.invokeFunction(\n",
              "            'suggestCharts', [key], {});\n",
              "      } catch (error) {\n",
              "        console.error('Error during call to suggestCharts:', error);\n",
              "      }\n",
              "      quickchartButtonEl.classList.remove('colab-df-spinner');\n",
              "      quickchartButtonEl.classList.add('colab-df-quickchart-complete');\n",
              "    }\n",
              "    (() => {\n",
              "      let quickchartButtonEl =\n",
              "        document.querySelector('#df-04e1e8e6-e1f0-4e9e-8f40-173567405b8c button');\n",
              "      quickchartButtonEl.style.display =\n",
              "        google.colab.kernel.accessAllowed ? 'block' : 'none';\n",
              "    })();\n",
              "  </script>\n",
              "</div>\n",
              "\n",
              "    </div>\n",
              "  </div>\n"
            ],
            "application/vnd.google.colaboratory.intrinsic+json": {
              "type": "dataframe",
              "summary": "{\n  \"name\": \"df_review\",\n  \"rows\": 8,\n  \"fields\": [\n    {\n      \"column\": \"stars\",\n      \"properties\": {\n        \"dtype\": \"number\",\n        \"std\": 656617.8249151516,\n        \"min\": 1.0,\n        \"max\": 1857199.0,\n        \"num_unique_values\": 6,\n        \"samples\": [\n          1857199.0,\n          3.718320438466745,\n          1.615646723492288\n        ],\n        \"semantic_type\": \"\",\n        \"description\": \"\"\n      }\n    },\n    {\n      \"column\": \"date\",\n      \"properties\": {\n        \"dtype\": \"date\",\n        \"min\": \"1970-01-01 00:00:00.001857199\",\n        \"max\": \"2022-01-19 19:48:25\",\n        \"num_unique_values\": 7,\n        \"samples\": [\n          \"1857199\",\n          \"2020-05-22 18:43:06.768745216\",\n          \"2021-03-27 21:07:24.500000\"\n        ],\n        \"semantic_type\": \"\",\n        \"description\": \"\"\n      }\n    }\n  ]\n}"
            }
          },
          "metadata": {},
          "execution_count": 26
        }
      ]
    },
    {
      "cell_type": "markdown",
      "source": [
        "Las calificaciones están en el rango correcto (1 a 5). Fechas va del 2005 (febrero) al 2022 (enero)"
      ],
      "metadata": {
        "id": "68gjQ6iS9LZQ"
      }
    },
    {
      "cell_type": "code",
      "source": [
        "df_review.stars.hist()"
      ],
      "metadata": {
        "colab": {
          "base_uri": "https://localhost:8080/",
          "height": 463
        },
        "id": "Yss1Lm0j9UOa",
        "outputId": "e824e9bf-3e2c-42d0-a42b-783d74d0bcb6"
      },
      "execution_count": 27,
      "outputs": [
        {
          "output_type": "execute_result",
          "data": {
            "text/plain": [
              "<Axes: >"
            ]
          },
          "metadata": {},
          "execution_count": 27
        },
        {
          "output_type": "display_data",
          "data": {
            "text/plain": [
              "<Figure size 640x480 with 1 Axes>"
            ],
            "image/png": "[encoded data removed]"
          },
          "metadata": {}
        }
      ]
    },
    {
      "cell_type": "markdown",
      "source": [
        "Las calificaciones están desbalanceadas, no se distribuyen uniformemente. Verificar la correspondencia con la realidad en este tipo de calificaciones."
      ],
      "metadata": {
        "id": "1SA5hCck92g6"
      }
    },
    {
      "cell_type": "code",
      "source": [
        "display(df_review.useful.value_counts())\n",
        "print()\n",
        "\n",
        "display(df_review.funny.value_counts())\n",
        "print()\n",
        "\n",
        "display(df_review.cool.value_counts())"
      ],
      "metadata": {
        "colab": {
          "base_uri": "https://localhost:8080/",
          "height": 346
        },
        "id": "eaPRiWaV-3Qv",
        "outputId": "efa8cf53-6c5c-4bba-8e77-b142a97ad586"
      },
      "execution_count": 28,
      "outputs": [
        {
          "output_type": "error",
          "ename": "AttributeError",
          "evalue": "'DataFrame' object has no attribute 'useful'",
          "traceback": [
            "\u001b[0;31m---------------------------------------------------------------------------\u001b[0m",
            "\u001b[0;31mAttributeError\u001b[0m                            Traceback (most recent call last)",
            "\u001b[0;32m<ipython-input-28-80b3e159eb80>\u001b[0m in \u001b[0;36m<cell line: 1>\u001b[0;34m()\u001b[0m\n\u001b[0;32m----> 1\u001b[0;31m \u001b[0mdisplay\u001b[0m\u001b[0;34m(\u001b[0m\u001b[0mdf_review\u001b[0m\u001b[0;34m.\u001b[0m\u001b[0museful\u001b[0m\u001b[0;34m.\u001b[0m\u001b[0mvalue_counts\u001b[0m\u001b[0;34m(\u001b[0m\u001b[0;34m)\u001b[0m\u001b[0;34m)\u001b[0m\u001b[0;34m\u001b[0m\u001b[0;34m\u001b[0m\u001b[0m\n\u001b[0m\u001b[1;32m      2\u001b[0m \u001b[0mprint\u001b[0m\u001b[0;34m(\u001b[0m\u001b[0;34m)\u001b[0m\u001b[0;34m\u001b[0m\u001b[0;34m\u001b[0m\u001b[0m\n\u001b[1;32m      3\u001b[0m \u001b[0;34m\u001b[0m\u001b[0m\n\u001b[1;32m      4\u001b[0m \u001b[0mdisplay\u001b[0m\u001b[0;34m(\u001b[0m\u001b[0mdf_review\u001b[0m\u001b[0;34m.\u001b[0m\u001b[0mfunny\u001b[0m\u001b[0;34m.\u001b[0m\u001b[0mvalue_counts\u001b[0m\u001b[0;34m(\u001b[0m\u001b[0;34m)\u001b[0m\u001b[0;34m)\u001b[0m\u001b[0;34m\u001b[0m\u001b[0;34m\u001b[0m\u001b[0m\n\u001b[1;32m      5\u001b[0m \u001b[0mprint\u001b[0m\u001b[0;34m(\u001b[0m\u001b[0;34m)\u001b[0m\u001b[0;34m\u001b[0m\u001b[0;34m\u001b[0m\u001b[0m\n",
            "\u001b[0;32m/usr/local/lib/python3.10/dist-packages/pandas/core/generic.py\u001b[0m in \u001b[0;36m__getattr__\u001b[0;34m(self, name)\u001b[0m\n\u001b[1;32m   5987\u001b[0m         ):\n\u001b[1;32m   5988\u001b[0m             \u001b[0;32mreturn\u001b[0m \u001b[0mself\u001b[0m\u001b[0;34m[\u001b[0m\u001b[0mname\u001b[0m\u001b[0;34m]\u001b[0m\u001b[0;34m\u001b[0m\u001b[0;34m\u001b[0m\u001b[0m\n\u001b[0;32m-> 5989\u001b[0;31m         \u001b[0;32mreturn\u001b[0m \u001b[0mobject\u001b[0m\u001b[0;34m.\u001b[0m\u001b[0m__getattribute__\u001b[0m\u001b[0;34m(\u001b[0m\u001b[0mself\u001b[0m\u001b[0;34m,\u001b[0m \u001b[0mname\u001b[0m\u001b[0;34m)\u001b[0m\u001b[0;34m\u001b[0m\u001b[0;34m\u001b[0m\u001b[0m\n\u001b[0m\u001b[1;32m   5990\u001b[0m \u001b[0;34m\u001b[0m\u001b[0m\n\u001b[1;32m   5991\u001b[0m     \u001b[0;32mdef\u001b[0m \u001b[0m__setattr__\u001b[0m\u001b[0;34m(\u001b[0m\u001b[0mself\u001b[0m\u001b[0;34m,\u001b[0m \u001b[0mname\u001b[0m\u001b[0;34m:\u001b[0m \u001b[0mstr\u001b[0m\u001b[0;34m,\u001b[0m \u001b[0mvalue\u001b[0m\u001b[0;34m)\u001b[0m \u001b[0;34m->\u001b[0m \u001b[0;32mNone\u001b[0m\u001b[0;34m:\u001b[0m\u001b[0;34m\u001b[0m\u001b[0;34m\u001b[0m\u001b[0m\n",
            "\u001b[0;31mAttributeError\u001b[0m: 'DataFrame' object has no attribute 'useful'"
          ]
        }
      ]
    },
    {
      "cell_type": "code",
      "source": [
        "df_review.useful.hist(bins=100)"
      ],
      "metadata": {
        "colab": {
          "base_uri": "https://localhost:8080/",
          "height": 463
        },
        "id": "Sd5t5us_-zFx",
        "outputId": "1d0d3f73-de13-4420-99b3-3fb0aaf3e4cd"
      },
      "execution_count": 15,
      "outputs": [
        {
          "output_type": "execute_result",
          "data": {
            "text/plain": [
              "<Axes: >"
            ]
          },
          "metadata": {},
          "execution_count": 15
        },
        {
          "output_type": "display_data",
          "data": {
            "text/plain": [
              "<Figure size 640x480 with 1 Axes>"
            ],
            "image/png": "[encoded data removed]"
          },
          "metadata": {}
        }
      ]
    },
    {
      "cell_type": "code",
      "source": [
        "df_review.funny.hist(bins=100)"
      ],
      "metadata": {
        "colab": {
          "base_uri": "https://localhost:8080/",
          "height": 463
        },
        "id": "v3JT-91BALD_",
        "outputId": "7af2fea0-f58d-4fb9-ab09-045713fcf73e"
      },
      "execution_count": 16,
      "outputs": [
        {
          "output_type": "execute_result",
          "data": {
            "text/plain": [
              "<Axes: >"
            ]
          },
          "metadata": {},
          "execution_count": 16
        },
        {
          "output_type": "display_data",
          "data": {
            "text/plain": [
              "<Figure size 640x480 with 1 Axes>"
            ],
            "image/png": "[encoded data removed]"
          },
          "metadata": {}
        }
      ]
    },
    {
      "cell_type": "code",
      "source": [
        "df_review.cool.hist(bins=100)"
      ],
      "metadata": {
        "colab": {
          "base_uri": "https://localhost:8080/",
          "height": 463
        },
        "id": "v-Z5T2lMAOFs",
        "outputId": "18393c46-89dc-4b6e-b124-d89f892f727b"
      },
      "execution_count": 17,
      "outputs": [
        {
          "output_type": "execute_result",
          "data": {
            "text/plain": [
              "<Axes: >"
            ]
          },
          "metadata": {},
          "execution_count": 17
        },
        {
          "output_type": "display_data",
          "data": {
            "text/plain": [
              "<Figure size 640x480 with 1 Axes>"
            ],
            "image/png": "[encoded data removed]"
          },
          "metadata": {}
        }
      ]
    },
    {
      "cell_type": "markdown",
      "source": [
        "La mayoría de reviews reciben pocas interacciones, y muy pocas reviews reciben muchas interacciones (son virales)"
      ],
      "metadata": {
        "id": "8XgmT614_5nE"
      }
    },
    {
      "cell_type": "code",
      "source": [
        "display(df_review.user_id.value_counts())"
      ],
      "metadata": {
        "colab": {
          "base_uri": "https://localhost:8080/",
          "height": 253
        },
        "id": "siy7NOeB-nqH",
        "outputId": "45bcaa08-07b1-47e5-c726-fddc9cb5e5e9"
      },
      "execution_count": 18,
      "outputs": [
        {
          "output_type": "display_data",
          "data": {
            "text/plain": [
              "user_id\n",
              "ET8n-r7glWYqZhuR6GcdNw    1653\n",
              "bJ5FtCtZX3ZZacz2_2PJjA    1298\n",
              "6s-g2vFu12OemhiK3FJuOQ     888\n",
              "E4BsVQnG5zetbwv2x8QIWg     780\n",
              "cufhYFdyrUAt4SWe-m0grQ     742\n",
              "                          ... \n",
              "xDt81BM_hVfJFKBYdQHBeA       1\n",
              "BDiauYRuPG3kdTTSszLVEg       1\n",
              "qyxadOAq4lShzijCPKTpXg       1\n",
              "Abk3IsXReaOL7pW7mdFFYQ       1\n",
              "_XVdmFWSgTN6YlojUxixTA       1\n",
              "Name: count, Length: 1879506, dtype: int64"
            ]
          },
          "metadata": {}
        }
      ]
    },
    {
      "cell_type": "code",
      "source": [
        "df_review.user_id.hist()"
      ],
      "metadata": {
        "id": "l58kXt1mAjff"
      },
      "execution_count": null,
      "outputs": []
    },
    {
      "cell_type": "code",
      "source": [
        "display(df_review.business_id.value_counts())\n",
        "df_review.business_id.hist()"
      ],
      "metadata": {
        "colab": {
          "base_uri": "https://localhost:8080/",
          "height": 1000
        },
        "id": "e6G8Iz0mArcT",
        "outputId": "a1306076-4c60-49e0-bac2-7dbd230b9445"
      },
      "execution_count": 19,
      "outputs": [
        {
          "output_type": "display_data",
          "data": {
            "text/plain": [
              "business_id\n",
              "ac1AeYqs8Z4_e2X5M3if2A    6713\n",
              "_ab50qdWOk0DdB6XOrBitw    6137\n",
              "GXFMD0Z4jEVZBCsbPf4CTQ    5162\n",
              "oBNrLz4EDhiscSlbOl8uAw    4555\n",
              "VQcCL9PiNL_wkGf-uF3fjg    4395\n",
              "                          ... \n",
              "ysorxni_kbHXU5XxvBmyUg       1\n",
              "-HFXvEB8mBf7jZRd2on-zA       1\n",
              "eGPVgQpxV-XjMMsO6-2zuw       1\n",
              "NAlA6hiNlg7mfdLfITyLvw       1\n",
              "fIkjhTeH2p7L5PTe2hzXEQ       1\n",
              "Name: count, Length: 149780, dtype: int64"
            ]
          },
          "metadata": {}
        },
        {
          "output_type": "execute_result",
          "data": {
            "text/plain": [
              "<Axes: >"
            ]
          },
          "metadata": {},
          "execution_count": 19
        },
        {
          "output_type": "stream",
          "name": "stdout",
          "text": [
            "Error in callback <function _draw_all_if_interactive at 0x7be98c819120> (for post_execute):\n"
          ]
        },
        {
          "output_type": "error",
          "ename": "KeyboardInterrupt",
          "evalue": "",
          "traceback": [
            "\u001b[0;31m---------------------------------------------------------------------------\u001b[0m",
            "\u001b[0;31mKeyboardInterrupt\u001b[0m                         Traceback (most recent call last)",
            "\u001b[0;32m/usr/local/lib/python3.10/dist-packages/matplotlib/pyplot.py\u001b[0m in \u001b[0;36m_draw_all_if_interactive\u001b[0;34m()\u001b[0m\n\u001b[1;32m    118\u001b[0m \u001b[0;32mdef\u001b[0m \u001b[0m_draw_all_if_interactive\u001b[0m\u001b[0;34m(\u001b[0m\u001b[0;34m)\u001b[0m\u001b[0;34m:\u001b[0m\u001b[0;34m\u001b[0m\u001b[0;34m\u001b[0m\u001b[0m\n\u001b[1;32m    119\u001b[0m     \u001b[0;32mif\u001b[0m \u001b[0mmatplotlib\u001b[0m\u001b[0;34m.\u001b[0m\u001b[0mis_interactive\u001b[0m\u001b[0;34m(\u001b[0m\u001b[0;34m)\u001b[0m\u001b[0;34m:\u001b[0m\u001b[0;34m\u001b[0m\u001b[0;34m\u001b[0m\u001b[0m\n\u001b[0;32m--> 120\u001b[0;31m         \u001b[0mdraw_all\u001b[0m\u001b[0;34m(\u001b[0m\u001b[0;34m)\u001b[0m\u001b[0;34m\u001b[0m\u001b[0;34m\u001b[0m\u001b[0m\n\u001b[0m\u001b[1;32m    121\u001b[0m \u001b[0;34m\u001b[0m\u001b[0m\n\u001b[1;32m    122\u001b[0m \u001b[0;34m\u001b[0m\u001b[0m\n",
            "\u001b[0;32m/usr/local/lib/python3.10/dist-packages/matplotlib/_pylab_helpers.py\u001b[0m in \u001b[0;36mdraw_all\u001b[0;34m(cls, force)\u001b[0m\n\u001b[1;32m    130\u001b[0m         \u001b[0;32mfor\u001b[0m \u001b[0mmanager\u001b[0m \u001b[0;32min\u001b[0m \u001b[0mcls\u001b[0m\u001b[0;34m.\u001b[0m\u001b[0mget_all_fig_managers\u001b[0m\u001b[0;34m(\u001b[0m\u001b[0;34m)\u001b[0m\u001b[0;34m:\u001b[0m\u001b[0;34m\u001b[0m\u001b[0;34m\u001b[0m\u001b[0m\n\u001b[1;32m    131\u001b[0m             \u001b[0;32mif\u001b[0m \u001b[0mforce\u001b[0m \u001b[0;32mor\u001b[0m \u001b[0mmanager\u001b[0m\u001b[0;34m.\u001b[0m\u001b[0mcanvas\u001b[0m\u001b[0;34m.\u001b[0m\u001b[0mfigure\u001b[0m\u001b[0;34m.\u001b[0m\u001b[0mstale\u001b[0m\u001b[0;34m:\u001b[0m\u001b[0;34m\u001b[0m\u001b[0;34m\u001b[0m\u001b[0m\n\u001b[0;32m--> 132\u001b[0;31m                 \u001b[0mmanager\u001b[0m\u001b[0;34m.\u001b[0m\u001b[0mcanvas\u001b[0m\u001b[0;34m.\u001b[0m\u001b[0mdraw_idle\u001b[0m\u001b[0;34m(\u001b[0m\u001b[0;34m)\u001b[0m\u001b[0;34m\u001b[0m\u001b[0;34m\u001b[0m\u001b[0m\n\u001b[0m\u001b[1;32m    133\u001b[0m \u001b[0;34m\u001b[0m\u001b[0m\n\u001b[1;32m    134\u001b[0m \u001b[0;34m\u001b[0m\u001b[0m\n",
            "\u001b[0;32m/usr/local/lib/python3.10/dist-packages/matplotlib/backend_bases.py\u001b[0m in \u001b[0;36mdraw_idle\u001b[0;34m(self, *args, **kwargs)\u001b[0m\n\u001b[1;32m   2080\u001b[0m         \u001b[0;32mif\u001b[0m \u001b[0;32mnot\u001b[0m \u001b[0mself\u001b[0m\u001b[0;34m.\u001b[0m\u001b[0m_is_idle_drawing\u001b[0m\u001b[0;34m:\u001b[0m\u001b[0;34m\u001b[0m\u001b[0;34m\u001b[0m\u001b[0m\n\u001b[1;32m   2081\u001b[0m             \u001b[0;32mwith\u001b[0m \u001b[0mself\u001b[0m\u001b[0;34m.\u001b[0m\u001b[0m_idle_draw_cntx\u001b[0m\u001b[0;34m(\u001b[0m\u001b[0;34m)\u001b[0m\u001b[0;34m:\u001b[0m\u001b[0;34m\u001b[0m\u001b[0;34m\u001b[0m\u001b[0m\n\u001b[0;32m-> 2082\u001b[0;31m                 \u001b[0mself\u001b[0m\u001b[0;34m.\u001b[0m\u001b[0mdraw\u001b[0m\u001b[0;34m(\u001b[0m\u001b[0;34m*\u001b[0m\u001b[0margs\u001b[0m\u001b[0;34m,\u001b[0m \u001b[0;34m**\u001b[0m\u001b[0mkwargs\u001b[0m\u001b[0;34m)\u001b[0m\u001b[0;34m\u001b[0m\u001b[0;34m\u001b[0m\u001b[0m\n\u001b[0m\u001b[1;32m   2083\u001b[0m \u001b[0;34m\u001b[0m\u001b[0m\n\u001b[1;32m   2084\u001b[0m     \u001b[0;34m@\u001b[0m\u001b[0mproperty\u001b[0m\u001b[0;34m\u001b[0m\u001b[0;34m\u001b[0m\u001b[0m\n",
            "\u001b[0;32m/usr/local/lib/python3.10/dist-packages/matplotlib/backends/backend_agg.py\u001b[0m in \u001b[0;36mdraw\u001b[0;34m(self)\u001b[0m\n\u001b[1;32m    398\u001b[0m              (self.toolbar._wait_cursor_for_draw_cm() if self.toolbar\n\u001b[1;32m    399\u001b[0m               else nullcontext()):\n\u001b[0;32m--> 400\u001b[0;31m             \u001b[0mself\u001b[0m\u001b[0;34m.\u001b[0m\u001b[0mfigure\u001b[0m\u001b[0;34m.\u001b[0m\u001b[0mdraw\u001b[0m\u001b[0;34m(\u001b[0m\u001b[0mself\u001b[0m\u001b[0;34m.\u001b[0m\u001b[0mrenderer\u001b[0m\u001b[0;34m)\u001b[0m\u001b[0;34m\u001b[0m\u001b[0;34m\u001b[0m\u001b[0m\n\u001b[0m\u001b[1;32m    401\u001b[0m             \u001b[0;31m# A GUI class may be need to update a window using this draw, so\u001b[0m\u001b[0;34m\u001b[0m\u001b[0;34m\u001b[0m\u001b[0m\n\u001b[1;32m    402\u001b[0m             \u001b[0;31m# don't forget to call the superclass.\u001b[0m\u001b[0;34m\u001b[0m\u001b[0;34m\u001b[0m\u001b[0m\n",
            "\u001b[0;32m/usr/local/lib/python3.10/dist-packages/matplotlib/artist.py\u001b[0m in \u001b[0;36mdraw_wrapper\u001b[0;34m(artist, renderer, *args, **kwargs)\u001b[0m\n\u001b[1;32m     93\u001b[0m     \u001b[0;34m@\u001b[0m\u001b[0mwraps\u001b[0m\u001b[0;34m(\u001b[0m\u001b[0mdraw\u001b[0m\u001b[0;34m)\u001b[0m\u001b[0;34m\u001b[0m\u001b[0;34m\u001b[0m\u001b[0m\n\u001b[1;32m     94\u001b[0m     \u001b[0;32mdef\u001b[0m \u001b[0mdraw_wrapper\u001b[0m\u001b[0;34m(\u001b[0m\u001b[0martist\u001b[0m\u001b[0;34m,\u001b[0m \u001b[0mrenderer\u001b[0m\u001b[0;34m,\u001b[0m \u001b[0;34m*\u001b[0m\u001b[0margs\u001b[0m\u001b[0;34m,\u001b[0m \u001b[0;34m**\u001b[0m\u001b[0mkwargs\u001b[0m\u001b[0;34m)\u001b[0m\u001b[0;34m:\u001b[0m\u001b[0;34m\u001b[0m\u001b[0;34m\u001b[0m\u001b[0m\n\u001b[0;32m---> 95\u001b[0;31m         \u001b[0mresult\u001b[0m \u001b[0;34m=\u001b[0m \u001b[0mdraw\u001b[0m\u001b[0;34m(\u001b[0m\u001b[0martist\u001b[0m\u001b[0;34m,\u001b[0m \u001b[0mrenderer\u001b[0m\u001b[0;34m,\u001b[0m \u001b[0;34m*\u001b[0m\u001b[0margs\u001b[0m\u001b[0;34m,\u001b[0m \u001b[0;34m**\u001b[0m\u001b[0mkwargs\u001b[0m\u001b[0;34m)\u001b[0m\u001b[0;34m\u001b[0m\u001b[0;34m\u001b[0m\u001b[0m\n\u001b[0m\u001b[1;32m     96\u001b[0m         \u001b[0;32mif\u001b[0m \u001b[0mrenderer\u001b[0m\u001b[0;34m.\u001b[0m\u001b[0m_rasterizing\u001b[0m\u001b[0;34m:\u001b[0m\u001b[0;34m\u001b[0m\u001b[0;34m\u001b[0m\u001b[0m\n\u001b[1;32m     97\u001b[0m             \u001b[0mrenderer\u001b[0m\u001b[0;34m.\u001b[0m\u001b[0mstop_rasterizing\u001b[0m\u001b[0;34m(\u001b[0m\u001b[0;34m)\u001b[0m\u001b[0;34m\u001b[0m\u001b[0;34m\u001b[0m\u001b[0m\n",
            "\u001b[0;32m/usr/local/lib/python3.10/dist-packages/matplotlib/artist.py\u001b[0m in \u001b[0;36mdraw_wrapper\u001b[0;34m(artist, renderer)\u001b[0m\n\u001b[1;32m     70\u001b[0m                 \u001b[0mrenderer\u001b[0m\u001b[0;34m.\u001b[0m\u001b[0mstart_filter\u001b[0m\u001b[0;34m(\u001b[0m\u001b[0;34m)\u001b[0m\u001b[0;34m\u001b[0m\u001b[0;34m\u001b[0m\u001b[0m\n\u001b[1;32m     71\u001b[0m \u001b[0;34m\u001b[0m\u001b[0m\n\u001b[0;32m---> 72\u001b[0;31m             \u001b[0;32mreturn\u001b[0m \u001b[0mdraw\u001b[0m\u001b[0;34m(\u001b[0m\u001b[0martist\u001b[0m\u001b[0;34m,\u001b[0m \u001b[0mrenderer\u001b[0m\u001b[0;34m)\u001b[0m\u001b[0;34m\u001b[0m\u001b[0;34m\u001b[0m\u001b[0m\n\u001b[0m\u001b[1;32m     73\u001b[0m         \u001b[0;32mfinally\u001b[0m\u001b[0;34m:\u001b[0m\u001b[0;34m\u001b[0m\u001b[0;34m\u001b[0m\u001b[0m\n\u001b[1;32m     74\u001b[0m             \u001b[0;32mif\u001b[0m \u001b[0martist\u001b[0m\u001b[0;34m.\u001b[0m\u001b[0mget_agg_filter\u001b[0m\u001b[0;34m(\u001b[0m\u001b[0;34m)\u001b[0m \u001b[0;32mis\u001b[0m \u001b[0;32mnot\u001b[0m \u001b[0;32mNone\u001b[0m\u001b[0;34m:\u001b[0m\u001b[0;34m\u001b[0m\u001b[0;34m\u001b[0m\u001b[0m\n",
            "\u001b[0;32m/usr/local/lib/python3.10/dist-packages/matplotlib/figure.py\u001b[0m in \u001b[0;36mdraw\u001b[0;34m(self, renderer)\u001b[0m\n\u001b[1;32m   3138\u001b[0m \u001b[0;34m\u001b[0m\u001b[0m\n\u001b[1;32m   3139\u001b[0m             \u001b[0mself\u001b[0m\u001b[0;34m.\u001b[0m\u001b[0mpatch\u001b[0m\u001b[0;34m.\u001b[0m\u001b[0mdraw\u001b[0m\u001b[0;34m(\u001b[0m\u001b[0mrenderer\u001b[0m\u001b[0;34m)\u001b[0m\u001b[0;34m\u001b[0m\u001b[0;34m\u001b[0m\u001b[0m\n\u001b[0;32m-> 3140\u001b[0;31m             mimage._draw_list_compositing_images(\n\u001b[0m\u001b[1;32m   3141\u001b[0m                 renderer, self, artists, self.suppressComposite)\n\u001b[1;32m   3142\u001b[0m \u001b[0;34m\u001b[0m\u001b[0m\n",
            "\u001b[0;32m/usr/local/lib/python3.10/dist-packages/matplotlib/image.py\u001b[0m in \u001b[0;36m_draw_list_compositing_images\u001b[0;34m(renderer, parent, artists, suppress_composite)\u001b[0m\n\u001b[1;32m    129\u001b[0m     \u001b[0;32mif\u001b[0m \u001b[0mnot_composite\u001b[0m \u001b[0;32mor\u001b[0m \u001b[0;32mnot\u001b[0m \u001b[0mhas_images\u001b[0m\u001b[0;34m:\u001b[0m\u001b[0;34m\u001b[0m\u001b[0;34m\u001b[0m\u001b[0m\n\u001b[1;32m    130\u001b[0m         \u001b[0;32mfor\u001b[0m \u001b[0ma\u001b[0m \u001b[0;32min\u001b[0m \u001b[0martists\u001b[0m\u001b[0;34m:\u001b[0m\u001b[0;34m\u001b[0m\u001b[0;34m\u001b[0m\u001b[0m\n\u001b[0;32m--> 131\u001b[0;31m             \u001b[0ma\u001b[0m\u001b[0;34m.\u001b[0m\u001b[0mdraw\u001b[0m\u001b[0;34m(\u001b[0m\u001b[0mrenderer\u001b[0m\u001b[0;34m)\u001b[0m\u001b[0;34m\u001b[0m\u001b[0;34m\u001b[0m\u001b[0m\n\u001b[0m\u001b[1;32m    132\u001b[0m     \u001b[0;32melse\u001b[0m\u001b[0;34m:\u001b[0m\u001b[0;34m\u001b[0m\u001b[0;34m\u001b[0m\u001b[0m\n\u001b[1;32m    133\u001b[0m         \u001b[0;31m# Composite any adjacent images together\u001b[0m\u001b[0;34m\u001b[0m\u001b[0;34m\u001b[0m\u001b[0m\n",
            "\u001b[0;32m/usr/local/lib/python3.10/dist-packages/matplotlib/artist.py\u001b[0m in \u001b[0;36mdraw_wrapper\u001b[0;34m(artist, renderer)\u001b[0m\n\u001b[1;32m     70\u001b[0m                 \u001b[0mrenderer\u001b[0m\u001b[0;34m.\u001b[0m\u001b[0mstart_filter\u001b[0m\u001b[0;34m(\u001b[0m\u001b[0;34m)\u001b[0m\u001b[0;34m\u001b[0m\u001b[0;34m\u001b[0m\u001b[0m\n\u001b[1;32m     71\u001b[0m \u001b[0;34m\u001b[0m\u001b[0m\n\u001b[0;32m---> 72\u001b[0;31m             \u001b[0;32mreturn\u001b[0m \u001b[0mdraw\u001b[0m\u001b[0;34m(\u001b[0m\u001b[0martist\u001b[0m\u001b[0;34m,\u001b[0m \u001b[0mrenderer\u001b[0m\u001b[0;34m)\u001b[0m\u001b[0;34m\u001b[0m\u001b[0;34m\u001b[0m\u001b[0m\n\u001b[0m\u001b[1;32m     73\u001b[0m         \u001b[0;32mfinally\u001b[0m\u001b[0;34m:\u001b[0m\u001b[0;34m\u001b[0m\u001b[0;34m\u001b[0m\u001b[0m\n\u001b[1;32m     74\u001b[0m             \u001b[0;32mif\u001b[0m \u001b[0martist\u001b[0m\u001b[0;34m.\u001b[0m\u001b[0mget_agg_filter\u001b[0m\u001b[0;34m(\u001b[0m\u001b[0;34m)\u001b[0m \u001b[0;32mis\u001b[0m \u001b[0;32mnot\u001b[0m \u001b[0;32mNone\u001b[0m\u001b[0;34m:\u001b[0m\u001b[0;34m\u001b[0m\u001b[0;34m\u001b[0m\u001b[0m\n",
            "\u001b[0;32m/usr/local/lib/python3.10/dist-packages/matplotlib/axes/_base.py\u001b[0m in \u001b[0;36mdraw\u001b[0;34m(self, renderer)\u001b[0m\n\u001b[1;32m   3062\u001b[0m             \u001b[0m_draw_rasterized\u001b[0m\u001b[0;34m(\u001b[0m\u001b[0mself\u001b[0m\u001b[0;34m.\u001b[0m\u001b[0mfigure\u001b[0m\u001b[0;34m,\u001b[0m \u001b[0martists_rasterized\u001b[0m\u001b[0;34m,\u001b[0m \u001b[0mrenderer\u001b[0m\u001b[0;34m)\u001b[0m\u001b[0;34m\u001b[0m\u001b[0;34m\u001b[0m\u001b[0m\n\u001b[1;32m   3063\u001b[0m \u001b[0;34m\u001b[0m\u001b[0m\n\u001b[0;32m-> 3064\u001b[0;31m         mimage._draw_list_compositing_images(\n\u001b[0m\u001b[1;32m   3065\u001b[0m             renderer, self, artists, self.figure.suppressComposite)\n\u001b[1;32m   3066\u001b[0m \u001b[0;34m\u001b[0m\u001b[0m\n",
            "\u001b[0;32m/usr/local/lib/python3.10/dist-packages/matplotlib/image.py\u001b[0m in \u001b[0;36m_draw_list_compositing_images\u001b[0;34m(renderer, parent, artists, suppress_composite)\u001b[0m\n\u001b[1;32m    129\u001b[0m     \u001b[0;32mif\u001b[0m \u001b[0mnot_composite\u001b[0m \u001b[0;32mor\u001b[0m \u001b[0;32mnot\u001b[0m \u001b[0mhas_images\u001b[0m\u001b[0;34m:\u001b[0m\u001b[0;34m\u001b[0m\u001b[0;34m\u001b[0m\u001b[0m\n\u001b[1;32m    130\u001b[0m         \u001b[0;32mfor\u001b[0m \u001b[0ma\u001b[0m \u001b[0;32min\u001b[0m \u001b[0martists\u001b[0m\u001b[0;34m:\u001b[0m\u001b[0;34m\u001b[0m\u001b[0;34m\u001b[0m\u001b[0m\n\u001b[0;32m--> 131\u001b[0;31m             \u001b[0ma\u001b[0m\u001b[0;34m.\u001b[0m\u001b[0mdraw\u001b[0m\u001b[0;34m(\u001b[0m\u001b[0mrenderer\u001b[0m\u001b[0;34m)\u001b[0m\u001b[0;34m\u001b[0m\u001b[0;34m\u001b[0m\u001b[0m\n\u001b[0m\u001b[1;32m    132\u001b[0m     \u001b[0;32melse\u001b[0m\u001b[0;34m:\u001b[0m\u001b[0;34m\u001b[0m\u001b[0;34m\u001b[0m\u001b[0m\n\u001b[1;32m    133\u001b[0m         \u001b[0;31m# Composite any adjacent images together\u001b[0m\u001b[0;34m\u001b[0m\u001b[0;34m\u001b[0m\u001b[0m\n",
            "\u001b[0;32m/usr/local/lib/python3.10/dist-packages/matplotlib/artist.py\u001b[0m in \u001b[0;36mdraw_wrapper\u001b[0;34m(artist, renderer)\u001b[0m\n\u001b[1;32m     70\u001b[0m                 \u001b[0mrenderer\u001b[0m\u001b[0;34m.\u001b[0m\u001b[0mstart_filter\u001b[0m\u001b[0;34m(\u001b[0m\u001b[0;34m)\u001b[0m\u001b[0;34m\u001b[0m\u001b[0;34m\u001b[0m\u001b[0m\n\u001b[1;32m     71\u001b[0m \u001b[0;34m\u001b[0m\u001b[0m\n\u001b[0;32m---> 72\u001b[0;31m             \u001b[0;32mreturn\u001b[0m \u001b[0mdraw\u001b[0m\u001b[0;34m(\u001b[0m\u001b[0martist\u001b[0m\u001b[0;34m,\u001b[0m \u001b[0mrenderer\u001b[0m\u001b[0;34m)\u001b[0m\u001b[0;34m\u001b[0m\u001b[0;34m\u001b[0m\u001b[0m\n\u001b[0m\u001b[1;32m     73\u001b[0m         \u001b[0;32mfinally\u001b[0m\u001b[0;34m:\u001b[0m\u001b[0;34m\u001b[0m\u001b[0;34m\u001b[0m\u001b[0m\n\u001b[1;32m     74\u001b[0m             \u001b[0;32mif\u001b[0m \u001b[0martist\u001b[0m\u001b[0;34m.\u001b[0m\u001b[0mget_agg_filter\u001b[0m\u001b[0;34m(\u001b[0m\u001b[0;34m)\u001b[0m \u001b[0;32mis\u001b[0m \u001b[0;32mnot\u001b[0m \u001b[0;32mNone\u001b[0m\u001b[0;34m:\u001b[0m\u001b[0;34m\u001b[0m\u001b[0;34m\u001b[0m\u001b[0m\n",
            "\u001b[0;32m/usr/local/lib/python3.10/dist-packages/matplotlib/axis.py\u001b[0m in \u001b[0;36mdraw\u001b[0;34m(self, renderer, *args, **kwargs)\u001b[0m\n\u001b[1;32m   1374\u001b[0m         \u001b[0mrenderer\u001b[0m\u001b[0;34m.\u001b[0m\u001b[0mopen_group\u001b[0m\u001b[0;34m(\u001b[0m\u001b[0m__name__\u001b[0m\u001b[0;34m,\u001b[0m \u001b[0mgid\u001b[0m\u001b[0;34m=\u001b[0m\u001b[0mself\u001b[0m\u001b[0;34m.\u001b[0m\u001b[0mget_gid\u001b[0m\u001b[0;34m(\u001b[0m\u001b[0;34m)\u001b[0m\u001b[0;34m)\u001b[0m\u001b[0;34m\u001b[0m\u001b[0;34m\u001b[0m\u001b[0m\n\u001b[1;32m   1375\u001b[0m \u001b[0;34m\u001b[0m\u001b[0m\n\u001b[0;32m-> 1376\u001b[0;31m         \u001b[0mticks_to_draw\u001b[0m \u001b[0;34m=\u001b[0m \u001b[0mself\u001b[0m\u001b[0;34m.\u001b[0m\u001b[0m_update_ticks\u001b[0m\u001b[0;34m(\u001b[0m\u001b[0;34m)\u001b[0m\u001b[0;34m\u001b[0m\u001b[0;34m\u001b[0m\u001b[0m\n\u001b[0m\u001b[1;32m   1377\u001b[0m         \u001b[0mtlb1\u001b[0m\u001b[0;34m,\u001b[0m \u001b[0mtlb2\u001b[0m \u001b[0;34m=\u001b[0m \u001b[0mself\u001b[0m\u001b[0;34m.\u001b[0m\u001b[0m_get_ticklabel_bboxes\u001b[0m\u001b[0;34m(\u001b[0m\u001b[0mticks_to_draw\u001b[0m\u001b[0;34m,\u001b[0m \u001b[0mrenderer\u001b[0m\u001b[0;34m)\u001b[0m\u001b[0;34m\u001b[0m\u001b[0;34m\u001b[0m\u001b[0m\n\u001b[1;32m   1378\u001b[0m \u001b[0;34m\u001b[0m\u001b[0m\n",
            "\u001b[0;32m/usr/local/lib/python3.10/dist-packages/matplotlib/axis.py\u001b[0m in \u001b[0;36m_update_ticks\u001b[0;34m(self)\u001b[0m\n\u001b[1;32m   1262\u001b[0m         \u001b[0mmajor_locs\u001b[0m \u001b[0;34m=\u001b[0m \u001b[0mself\u001b[0m\u001b[0;34m.\u001b[0m\u001b[0mget_majorticklocs\u001b[0m\u001b[0;34m(\u001b[0m\u001b[0;34m)\u001b[0m\u001b[0;34m\u001b[0m\u001b[0;34m\u001b[0m\u001b[0m\n\u001b[1;32m   1263\u001b[0m         \u001b[0mmajor_labels\u001b[0m \u001b[0;34m=\u001b[0m \u001b[0mself\u001b[0m\u001b[0;34m.\u001b[0m\u001b[0mmajor\u001b[0m\u001b[0;34m.\u001b[0m\u001b[0mformatter\u001b[0m\u001b[0;34m.\u001b[0m\u001b[0mformat_ticks\u001b[0m\u001b[0;34m(\u001b[0m\u001b[0mmajor_locs\u001b[0m\u001b[0;34m)\u001b[0m\u001b[0;34m\u001b[0m\u001b[0;34m\u001b[0m\u001b[0m\n\u001b[0;32m-> 1264\u001b[0;31m         \u001b[0mmajor_ticks\u001b[0m \u001b[0;34m=\u001b[0m \u001b[0mself\u001b[0m\u001b[0;34m.\u001b[0m\u001b[0mget_major_ticks\u001b[0m\u001b[0;34m(\u001b[0m\u001b[0mlen\u001b[0m\u001b[0;34m(\u001b[0m\u001b[0mmajor_locs\u001b[0m\u001b[0;34m)\u001b[0m\u001b[0;34m)\u001b[0m\u001b[0;34m\u001b[0m\u001b[0;34m\u001b[0m\u001b[0m\n\u001b[0m\u001b[1;32m   1265\u001b[0m         \u001b[0mself\u001b[0m\u001b[0;34m.\u001b[0m\u001b[0mmajor\u001b[0m\u001b[0;34m.\u001b[0m\u001b[0mformatter\u001b[0m\u001b[0;34m.\u001b[0m\u001b[0mset_locs\u001b[0m\u001b[0;34m(\u001b[0m\u001b[0mmajor_locs\u001b[0m\u001b[0;34m)\u001b[0m\u001b[0;34m\u001b[0m\u001b[0;34m\u001b[0m\u001b[0m\n\u001b[1;32m   1266\u001b[0m         \u001b[0;32mfor\u001b[0m \u001b[0mtick\u001b[0m\u001b[0;34m,\u001b[0m \u001b[0mloc\u001b[0m\u001b[0;34m,\u001b[0m \u001b[0mlabel\u001b[0m \u001b[0;32min\u001b[0m \u001b[0mzip\u001b[0m\u001b[0;34m(\u001b[0m\u001b[0mmajor_ticks\u001b[0m\u001b[0;34m,\u001b[0m \u001b[0mmajor_locs\u001b[0m\u001b[0;34m,\u001b[0m \u001b[0mmajor_labels\u001b[0m\u001b[0;34m)\u001b[0m\u001b[0;34m:\u001b[0m\u001b[0;34m\u001b[0m\u001b[0;34m\u001b[0m\u001b[0m\n",
            "\u001b[0;32m/usr/local/lib/python3.10/dist-packages/matplotlib/axis.py\u001b[0m in \u001b[0;36mget_major_ticks\u001b[0;34m(self, numticks)\u001b[0m\n\u001b[1;32m   1600\u001b[0m         \u001b[0;32mwhile\u001b[0m \u001b[0mlen\u001b[0m\u001b[0;34m(\u001b[0m\u001b[0mself\u001b[0m\u001b[0;34m.\u001b[0m\u001b[0mmajorTicks\u001b[0m\u001b[0;34m)\u001b[0m \u001b[0;34m<\u001b[0m \u001b[0mnumticks\u001b[0m\u001b[0;34m:\u001b[0m\u001b[0;34m\u001b[0m\u001b[0;34m\u001b[0m\u001b[0m\n\u001b[1;32m   1601\u001b[0m             \u001b[0;31m# Update the new tick label properties from the old.\u001b[0m\u001b[0;34m\u001b[0m\u001b[0;34m\u001b[0m\u001b[0m\n\u001b[0;32m-> 1602\u001b[0;31m             \u001b[0mtick\u001b[0m \u001b[0;34m=\u001b[0m \u001b[0mself\u001b[0m\u001b[0;34m.\u001b[0m\u001b[0m_get_tick\u001b[0m\u001b[0;34m(\u001b[0m\u001b[0mmajor\u001b[0m\u001b[0;34m=\u001b[0m\u001b[0;32mTrue\u001b[0m\u001b[0;34m)\u001b[0m\u001b[0;34m\u001b[0m\u001b[0;34m\u001b[0m\u001b[0m\n\u001b[0m\u001b[1;32m   1603\u001b[0m             \u001b[0mself\u001b[0m\u001b[0;34m.\u001b[0m\u001b[0mmajorTicks\u001b[0m\u001b[0;34m.\u001b[0m\u001b[0mappend\u001b[0m\u001b[0;34m(\u001b[0m\u001b[0mtick\u001b[0m\u001b[0;34m)\u001b[0m\u001b[0;34m\u001b[0m\u001b[0;34m\u001b[0m\u001b[0m\n\u001b[1;32m   1604\u001b[0m             \u001b[0mself\u001b[0m\u001b[0;34m.\u001b[0m\u001b[0m_copy_tick_props\u001b[0m\u001b[0;34m(\u001b[0m\u001b[0mself\u001b[0m\u001b[0;34m.\u001b[0m\u001b[0mmajorTicks\u001b[0m\u001b[0;34m[\u001b[0m\u001b[0;36m0\u001b[0m\u001b[0;34m]\u001b[0m\u001b[0;34m,\u001b[0m \u001b[0mtick\u001b[0m\u001b[0;34m)\u001b[0m\u001b[0;34m\u001b[0m\u001b[0;34m\u001b[0m\u001b[0m\n",
            "\u001b[0;32m/usr/local/lib/python3.10/dist-packages/matplotlib/axis.py\u001b[0m in \u001b[0;36m_get_tick\u001b[0;34m(self, major)\u001b[0m\n\u001b[1;32m   1549\u001b[0m                 \"_tick_class or reimplement _get_tick()\")\n\u001b[1;32m   1550\u001b[0m         \u001b[0mtick_kw\u001b[0m \u001b[0;34m=\u001b[0m \u001b[0mself\u001b[0m\u001b[0;34m.\u001b[0m\u001b[0m_major_tick_kw\u001b[0m \u001b[0;32mif\u001b[0m \u001b[0mmajor\u001b[0m \u001b[0;32melse\u001b[0m \u001b[0mself\u001b[0m\u001b[0;34m.\u001b[0m\u001b[0m_minor_tick_kw\u001b[0m\u001b[0;34m\u001b[0m\u001b[0;34m\u001b[0m\u001b[0m\n\u001b[0;32m-> 1551\u001b[0;31m         \u001b[0;32mreturn\u001b[0m \u001b[0mself\u001b[0m\u001b[0;34m.\u001b[0m\u001b[0m_tick_class\u001b[0m\u001b[0;34m(\u001b[0m\u001b[0mself\u001b[0m\u001b[0;34m.\u001b[0m\u001b[0maxes\u001b[0m\u001b[0;34m,\u001b[0m \u001b[0;36m0\u001b[0m\u001b[0;34m,\u001b[0m \u001b[0mmajor\u001b[0m\u001b[0;34m=\u001b[0m\u001b[0mmajor\u001b[0m\u001b[0;34m,\u001b[0m \u001b[0;34m**\u001b[0m\u001b[0mtick_kw\u001b[0m\u001b[0;34m)\u001b[0m\u001b[0;34m\u001b[0m\u001b[0;34m\u001b[0m\u001b[0m\n\u001b[0m\u001b[1;32m   1552\u001b[0m \u001b[0;34m\u001b[0m\u001b[0m\n\u001b[1;32m   1553\u001b[0m     \u001b[0;32mdef\u001b[0m \u001b[0m_get_tick_label_size\u001b[0m\u001b[0;34m(\u001b[0m\u001b[0mself\u001b[0m\u001b[0;34m,\u001b[0m \u001b[0maxis_name\u001b[0m\u001b[0;34m)\u001b[0m\u001b[0;34m:\u001b[0m\u001b[0;34m\u001b[0m\u001b[0;34m\u001b[0m\u001b[0m\n",
            "\u001b[0;32m/usr/local/lib/python3.10/dist-packages/matplotlib/axis.py\u001b[0m in \u001b[0;36m__init__\u001b[0;34m(self, *args, **kwargs)\u001b[0m\n\u001b[1;32m    415\u001b[0m \u001b[0;34m\u001b[0m\u001b[0m\n\u001b[1;32m    416\u001b[0m     \u001b[0;32mdef\u001b[0m \u001b[0m__init__\u001b[0m\u001b[0;34m(\u001b[0m\u001b[0mself\u001b[0m\u001b[0;34m,\u001b[0m \u001b[0;34m*\u001b[0m\u001b[0margs\u001b[0m\u001b[0;34m,\u001b[0m \u001b[0;34m**\u001b[0m\u001b[0mkwargs\u001b[0m\u001b[0;34m)\u001b[0m\u001b[0;34m:\u001b[0m\u001b[0;34m\u001b[0m\u001b[0;34m\u001b[0m\u001b[0m\n\u001b[0;32m--> 417\u001b[0;31m         \u001b[0msuper\u001b[0m\u001b[0;34m(\u001b[0m\u001b[0;34m)\u001b[0m\u001b[0;34m.\u001b[0m\u001b[0m__init__\u001b[0m\u001b[0;34m(\u001b[0m\u001b[0;34m*\u001b[0m\u001b[0margs\u001b[0m\u001b[0;34m,\u001b[0m \u001b[0;34m**\u001b[0m\u001b[0mkwargs\u001b[0m\u001b[0;34m)\u001b[0m\u001b[0;34m\u001b[0m\u001b[0;34m\u001b[0m\u001b[0m\n\u001b[0m\u001b[1;32m    418\u001b[0m         \u001b[0;31m# x in data coords, y in axes coords\u001b[0m\u001b[0;34m\u001b[0m\u001b[0;34m\u001b[0m\u001b[0m\n\u001b[1;32m    419\u001b[0m         \u001b[0max\u001b[0m \u001b[0;34m=\u001b[0m \u001b[0mself\u001b[0m\u001b[0;34m.\u001b[0m\u001b[0maxes\u001b[0m\u001b[0;34m\u001b[0m\u001b[0;34m\u001b[0m\u001b[0m\n",
            "\u001b[0;32m/usr/local/lib/python3.10/dist-packages/matplotlib/axis.py\u001b[0m in \u001b[0;36m__init__\u001b[0;34m(self, axes, loc, size, width, color, tickdir, pad, labelsize, labelcolor, zorder, gridOn, tick1On, tick2On, label1On, label2On, major, labelrotation, grid_color, grid_linestyle, grid_linewidth, grid_alpha, **kwargs)\u001b[0m\n\u001b[1;32m    159\u001b[0m             \u001b[0mmarkeredgecolor\u001b[0m\u001b[0;34m=\u001b[0m\u001b[0mcolor\u001b[0m\u001b[0;34m,\u001b[0m \u001b[0mmarkersize\u001b[0m\u001b[0;34m=\u001b[0m\u001b[0msize\u001b[0m\u001b[0;34m,\u001b[0m \u001b[0mmarkeredgewidth\u001b[0m\u001b[0;34m=\u001b[0m\u001b[0mwidth\u001b[0m\u001b[0;34m,\u001b[0m\u001b[0;34m\u001b[0m\u001b[0;34m\u001b[0m\u001b[0m\n\u001b[1;32m    160\u001b[0m         )\n\u001b[0;32m--> 161\u001b[0;31m         self.tick2line = mlines.Line2D(\n\u001b[0m\u001b[1;32m    162\u001b[0m             \u001b[0;34m[\u001b[0m\u001b[0;34m]\u001b[0m\u001b[0;34m,\u001b[0m \u001b[0;34m[\u001b[0m\u001b[0;34m]\u001b[0m\u001b[0;34m,\u001b[0m\u001b[0;34m\u001b[0m\u001b[0;34m\u001b[0m\u001b[0m\n\u001b[1;32m    163\u001b[0m             \u001b[0mcolor\u001b[0m\u001b[0;34m=\u001b[0m\u001b[0mcolor\u001b[0m\u001b[0;34m,\u001b[0m \u001b[0mlinestyle\u001b[0m\u001b[0;34m=\u001b[0m\u001b[0;34m\"none\"\u001b[0m\u001b[0;34m,\u001b[0m \u001b[0mzorder\u001b[0m\u001b[0;34m=\u001b[0m\u001b[0mzorder\u001b[0m\u001b[0;34m,\u001b[0m \u001b[0mvisible\u001b[0m\u001b[0;34m=\u001b[0m\u001b[0mtick2On\u001b[0m\u001b[0;34m,\u001b[0m\u001b[0;34m\u001b[0m\u001b[0;34m\u001b[0m\u001b[0m\n",
            "\u001b[0;32m/usr/local/lib/python3.10/dist-packages/matplotlib/_api/deprecation.py\u001b[0m in \u001b[0;36mwrapper\u001b[0;34m(*args, **kwargs)\u001b[0m\n\u001b[1;32m    452\u001b[0m                 \u001b[0;34m\"parameter will become keyword-only %(removal)s.\"\u001b[0m\u001b[0;34m,\u001b[0m\u001b[0;34m\u001b[0m\u001b[0;34m\u001b[0m\u001b[0m\n\u001b[1;32m    453\u001b[0m                 name=name, obj_type=f\"parameter of {func.__name__}()\")\n\u001b[0;32m--> 454\u001b[0;31m         \u001b[0;32mreturn\u001b[0m \u001b[0mfunc\u001b[0m\u001b[0;34m(\u001b[0m\u001b[0;34m*\u001b[0m\u001b[0margs\u001b[0m\u001b[0;34m,\u001b[0m \u001b[0;34m**\u001b[0m\u001b[0mkwargs\u001b[0m\u001b[0;34m)\u001b[0m\u001b[0;34m\u001b[0m\u001b[0;34m\u001b[0m\u001b[0m\n\u001b[0m\u001b[1;32m    455\u001b[0m \u001b[0;34m\u001b[0m\u001b[0m\n\u001b[1;32m    456\u001b[0m     \u001b[0;31m# Don't modify *func*'s signature, as boilerplate.py needs it.\u001b[0m\u001b[0;34m\u001b[0m\u001b[0;34m\u001b[0m\u001b[0m\n",
            "\u001b[0;32m/usr/local/lib/python3.10/dist-packages/matplotlib/lines.py\u001b[0m in \u001b[0;36m__init__\u001b[0;34m(self, xdata, ydata, linewidth, linestyle, color, gapcolor, marker, markersize, markeredgewidth, markeredgecolor, markerfacecolor, markerfacecoloralt, fillstyle, antialiased, dash_capstyle, solid_capstyle, dash_joinstyle, solid_joinstyle, pickradius, drawstyle, markevery, **kwargs)\u001b[0m\n\u001b[1;32m    306\u001b[0m \u001b[0;34m\u001b[0m\u001b[0m\n\u001b[1;32m    307\u001b[0m         \"\"\"\n\u001b[0;32m--> 308\u001b[0;31m         \u001b[0msuper\u001b[0m\u001b[0;34m(\u001b[0m\u001b[0;34m)\u001b[0m\u001b[0;34m.\u001b[0m\u001b[0m__init__\u001b[0m\u001b[0;34m(\u001b[0m\u001b[0;34m)\u001b[0m\u001b[0;34m\u001b[0m\u001b[0;34m\u001b[0m\u001b[0m\n\u001b[0m\u001b[1;32m    309\u001b[0m \u001b[0;34m\u001b[0m\u001b[0m\n\u001b[1;32m    310\u001b[0m         \u001b[0;31m# Convert sequences to NumPy arrays.\u001b[0m\u001b[0;34m\u001b[0m\u001b[0;34m\u001b[0m\u001b[0m\n",
            "\u001b[0;32m/usr/local/lib/python3.10/dist-packages/matplotlib/artist.py\u001b[0m in \u001b[0;36m__init__\u001b[0;34m(self)\u001b[0m\n\u001b[1;32m    199\u001b[0m         \u001b[0;31m# only if they override get_cursor_data.\u001b[0m\u001b[0;34m\u001b[0m\u001b[0;34m\u001b[0m\u001b[0m\n\u001b[1;32m    200\u001b[0m         \u001b[0mself\u001b[0m\u001b[0;34m.\u001b[0m\u001b[0m_mouseover\u001b[0m \u001b[0;34m=\u001b[0m \u001b[0mtype\u001b[0m\u001b[0;34m(\u001b[0m\u001b[0mself\u001b[0m\u001b[0;34m)\u001b[0m\u001b[0;34m.\u001b[0m\u001b[0mget_cursor_data\u001b[0m \u001b[0;34m!=\u001b[0m \u001b[0mArtist\u001b[0m\u001b[0;34m.\u001b[0m\u001b[0mget_cursor_data\u001b[0m\u001b[0;34m\u001b[0m\u001b[0;34m\u001b[0m\u001b[0m\n\u001b[0;32m--> 201\u001b[0;31m         \u001b[0mself\u001b[0m\u001b[0;34m.\u001b[0m\u001b[0m_callbacks\u001b[0m \u001b[0;34m=\u001b[0m \u001b[0mcbook\u001b[0m\u001b[0;34m.\u001b[0m\u001b[0mCallbackRegistry\u001b[0m\u001b[0;34m(\u001b[0m\u001b[0msignals\u001b[0m\u001b[0;34m=\u001b[0m\u001b[0;34m[\u001b[0m\u001b[0;34m\"pchanged\"\u001b[0m\u001b[0;34m]\u001b[0m\u001b[0;34m)\u001b[0m\u001b[0;34m\u001b[0m\u001b[0;34m\u001b[0m\u001b[0m\n\u001b[0m\u001b[1;32m    202\u001b[0m         \u001b[0;32mtry\u001b[0m\u001b[0;34m:\u001b[0m\u001b[0;34m\u001b[0m\u001b[0;34m\u001b[0m\u001b[0m\n\u001b[1;32m    203\u001b[0m             \u001b[0mself\u001b[0m\u001b[0;34m.\u001b[0m\u001b[0maxes\u001b[0m \u001b[0;34m=\u001b[0m \u001b[0;32mNone\u001b[0m\u001b[0;34m\u001b[0m\u001b[0;34m\u001b[0m\u001b[0m\n",
            "\u001b[0;32m/usr/local/lib/python3.10/dist-packages/matplotlib/cbook/__init__.py\u001b[0m in \u001b[0;36m__init__\u001b[0;34m(self, exception_handler, signals)\u001b[0m\n\u001b[1;32m    188\u001b[0m     \u001b[0;31m#   _func_cid_map: signal -> {weakref-to-callback -> cid}\u001b[0m\u001b[0;34m\u001b[0m\u001b[0;34m\u001b[0m\u001b[0m\n\u001b[1;32m    189\u001b[0m \u001b[0;34m\u001b[0m\u001b[0m\n\u001b[0;32m--> 190\u001b[0;31m     \u001b[0;32mdef\u001b[0m \u001b[0m__init__\u001b[0m\u001b[0;34m(\u001b[0m\u001b[0mself\u001b[0m\u001b[0;34m,\u001b[0m \u001b[0mexception_handler\u001b[0m\u001b[0;34m=\u001b[0m\u001b[0m_exception_printer\u001b[0m\u001b[0;34m,\u001b[0m \u001b[0;34m*\u001b[0m\u001b[0;34m,\u001b[0m \u001b[0msignals\u001b[0m\u001b[0;34m=\u001b[0m\u001b[0;32mNone\u001b[0m\u001b[0;34m)\u001b[0m\u001b[0;34m:\u001b[0m\u001b[0;34m\u001b[0m\u001b[0;34m\u001b[0m\u001b[0m\n\u001b[0m\u001b[1;32m    191\u001b[0m         \u001b[0mself\u001b[0m\u001b[0;34m.\u001b[0m\u001b[0m_signals\u001b[0m \u001b[0;34m=\u001b[0m \u001b[0;32mNone\u001b[0m \u001b[0;32mif\u001b[0m \u001b[0msignals\u001b[0m \u001b[0;32mis\u001b[0m \u001b[0;32mNone\u001b[0m \u001b[0;32melse\u001b[0m \u001b[0mlist\u001b[0m\u001b[0;34m(\u001b[0m\u001b[0msignals\u001b[0m\u001b[0;34m)\u001b[0m  \u001b[0;31m# Copy it.\u001b[0m\u001b[0;34m\u001b[0m\u001b[0;34m\u001b[0m\u001b[0m\n\u001b[1;32m    192\u001b[0m         \u001b[0mself\u001b[0m\u001b[0;34m.\u001b[0m\u001b[0mexception_handler\u001b[0m \u001b[0;34m=\u001b[0m \u001b[0mexception_handler\u001b[0m\u001b[0;34m\u001b[0m\u001b[0;34m\u001b[0m\u001b[0m\n",
            "\u001b[0;31mKeyboardInterrupt\u001b[0m: "
          ]
        },
        {
          "output_type": "stream",
          "name": "stdout",
          "text": [
            "Error in callback <function flush_figures at 0x7be98c8183a0> (for post_execute):\n"
          ]
        },
        {
          "output_type": "error",
          "ename": "KeyboardInterrupt",
          "evalue": "",
          "traceback": [
            "\u001b[0;31m---------------------------------------------------------------------------\u001b[0m",
            "\u001b[0;31mKeyboardInterrupt\u001b[0m                         Traceback (most recent call last)",
            "\u001b[0;32m/usr/local/lib/python3.10/dist-packages/matplotlib_inline/backend_inline.py\u001b[0m in \u001b[0;36mflush_figures\u001b[0;34m()\u001b[0m\n\u001b[1;32m    124\u001b[0m             \u001b[0;31m# ignore the tracking, just draw and close all figures\u001b[0m\u001b[0;34m\u001b[0m\u001b[0;34m\u001b[0m\u001b[0m\n\u001b[1;32m    125\u001b[0m             \u001b[0;32mtry\u001b[0m\u001b[0;34m:\u001b[0m\u001b[0;34m\u001b[0m\u001b[0;34m\u001b[0m\u001b[0m\n\u001b[0;32m--> 126\u001b[0;31m                 \u001b[0;32mreturn\u001b[0m \u001b[0mshow\u001b[0m\u001b[0;34m(\u001b[0m\u001b[0;32mTrue\u001b[0m\u001b[0;34m)\u001b[0m\u001b[0;34m\u001b[0m\u001b[0;34m\u001b[0m\u001b[0m\n\u001b[0m\u001b[1;32m    127\u001b[0m             \u001b[0;32mexcept\u001b[0m \u001b[0mException\u001b[0m \u001b[0;32mas\u001b[0m \u001b[0me\u001b[0m\u001b[0;34m:\u001b[0m\u001b[0;34m\u001b[0m\u001b[0;34m\u001b[0m\u001b[0m\n\u001b[1;32m    128\u001b[0m                 \u001b[0;31m# safely show traceback if in IPython, else raise\u001b[0m\u001b[0;34m\u001b[0m\u001b[0;34m\u001b[0m\u001b[0m\n",
            "\u001b[0;32m/usr/local/lib/python3.10/dist-packages/matplotlib_inline/backend_inline.py\u001b[0m in \u001b[0;36mshow\u001b[0;34m(close, block)\u001b[0m\n\u001b[1;32m     88\u001b[0m     \u001b[0;32mtry\u001b[0m\u001b[0;34m:\u001b[0m\u001b[0;34m\u001b[0m\u001b[0;34m\u001b[0m\u001b[0m\n\u001b[1;32m     89\u001b[0m         \u001b[0;32mfor\u001b[0m \u001b[0mfigure_manager\u001b[0m \u001b[0;32min\u001b[0m \u001b[0mGcf\u001b[0m\u001b[0;34m.\u001b[0m\u001b[0mget_all_fig_managers\u001b[0m\u001b[0;34m(\u001b[0m\u001b[0;34m)\u001b[0m\u001b[0;34m:\u001b[0m\u001b[0;34m\u001b[0m\u001b[0;34m\u001b[0m\u001b[0m\n\u001b[0;32m---> 90\u001b[0;31m             display(\n\u001b[0m\u001b[1;32m     91\u001b[0m                 \u001b[0mfigure_manager\u001b[0m\u001b[0;34m.\u001b[0m\u001b[0mcanvas\u001b[0m\u001b[0;34m.\u001b[0m\u001b[0mfigure\u001b[0m\u001b[0;34m,\u001b[0m\u001b[0;34m\u001b[0m\u001b[0;34m\u001b[0m\u001b[0m\n\u001b[1;32m     92\u001b[0m                 \u001b[0mmetadata\u001b[0m\u001b[0;34m=\u001b[0m\u001b[0m_fetch_figure_metadata\u001b[0m\u001b[0;34m(\u001b[0m\u001b[0mfigure_manager\u001b[0m\u001b[0;34m.\u001b[0m\u001b[0mcanvas\u001b[0m\u001b[0;34m.\u001b[0m\u001b[0mfigure\u001b[0m\u001b[0;34m)\u001b[0m\u001b[0;34m\u001b[0m\u001b[0;34m\u001b[0m\u001b[0m\n",
            "\u001b[0;32m/usr/local/lib/python3.10/dist-packages/IPython/core/display.py\u001b[0m in \u001b[0;36mdisplay\u001b[0;34m(include, exclude, metadata, transient, display_id, *objs, **kwargs)\u001b[0m\n\u001b[1;32m    318\u001b[0m             \u001b[0mpublish_display_data\u001b[0m\u001b[0;34m(\u001b[0m\u001b[0mdata\u001b[0m\u001b[0;34m=\u001b[0m\u001b[0mobj\u001b[0m\u001b[0;34m,\u001b[0m \u001b[0mmetadata\u001b[0m\u001b[0;34m=\u001b[0m\u001b[0mmetadata\u001b[0m\u001b[0;34m,\u001b[0m \u001b[0;34m**\u001b[0m\u001b[0mkwargs\u001b[0m\u001b[0;34m)\u001b[0m\u001b[0;34m\u001b[0m\u001b[0;34m\u001b[0m\u001b[0m\n\u001b[1;32m    319\u001b[0m         \u001b[0;32melse\u001b[0m\u001b[0;34m:\u001b[0m\u001b[0;34m\u001b[0m\u001b[0;34m\u001b[0m\u001b[0m\n\u001b[0;32m--> 320\u001b[0;31m             \u001b[0mformat_dict\u001b[0m\u001b[0;34m,\u001b[0m \u001b[0mmd_dict\u001b[0m \u001b[0;34m=\u001b[0m \u001b[0mformat\u001b[0m\u001b[0;34m(\u001b[0m\u001b[0mobj\u001b[0m\u001b[0;34m,\u001b[0m \u001b[0minclude\u001b[0m\u001b[0;34m=\u001b[0m\u001b[0minclude\u001b[0m\u001b[0;34m,\u001b[0m \u001b[0mexclude\u001b[0m\u001b[0;34m=\u001b[0m\u001b[0mexclude\u001b[0m\u001b[0;34m)\u001b[0m\u001b[0;34m\u001b[0m\u001b[0;34m\u001b[0m\u001b[0m\n\u001b[0m\u001b[1;32m    321\u001b[0m             \u001b[0;32mif\u001b[0m \u001b[0;32mnot\u001b[0m \u001b[0mformat_dict\u001b[0m\u001b[0;34m:\u001b[0m\u001b[0;34m\u001b[0m\u001b[0;34m\u001b[0m\u001b[0m\n\u001b[1;32m    322\u001b[0m                 \u001b[0;31m# nothing to display (e.g. _ipython_display_ took over)\u001b[0m\u001b[0;34m\u001b[0m\u001b[0;34m\u001b[0m\u001b[0m\n",
            "\u001b[0;32m/usr/local/lib/python3.10/dist-packages/IPython/core/formatters.py\u001b[0m in \u001b[0;36mformat\u001b[0;34m(self, obj, include, exclude)\u001b[0m\n\u001b[1;32m    178\u001b[0m             \u001b[0mmd\u001b[0m \u001b[0;34m=\u001b[0m \u001b[0;32mNone\u001b[0m\u001b[0;34m\u001b[0m\u001b[0;34m\u001b[0m\u001b[0m\n\u001b[1;32m    179\u001b[0m             \u001b[0;32mtry\u001b[0m\u001b[0;34m:\u001b[0m\u001b[0;34m\u001b[0m\u001b[0;34m\u001b[0m\u001b[0m\n\u001b[0;32m--> 180\u001b[0;31m                 \u001b[0mdata\u001b[0m \u001b[0;34m=\u001b[0m \u001b[0mformatter\u001b[0m\u001b[0;34m(\u001b[0m\u001b[0mobj\u001b[0m\u001b[0;34m)\u001b[0m\u001b[0;34m\u001b[0m\u001b[0;34m\u001b[0m\u001b[0m\n\u001b[0m\u001b[1;32m    181\u001b[0m             \u001b[0;32mexcept\u001b[0m\u001b[0;34m:\u001b[0m\u001b[0;34m\u001b[0m\u001b[0;34m\u001b[0m\u001b[0m\n\u001b[1;32m    182\u001b[0m                 \u001b[0;31m# FIXME: log the exception\u001b[0m\u001b[0;34m\u001b[0m\u001b[0;34m\u001b[0m\u001b[0m\n",
            "\u001b[0;32m<decorator-gen-2>\u001b[0m in \u001b[0;36m__call__\u001b[0;34m(self, obj)\u001b[0m\n",
            "\u001b[0;32m/usr/local/lib/python3.10/dist-packages/IPython/core/formatters.py\u001b[0m in \u001b[0;36mcatch_format_error\u001b[0;34m(method, self, *args, **kwargs)\u001b[0m\n\u001b[1;32m    222\u001b[0m     \u001b[0;34m\"\"\"show traceback on failed format call\"\"\"\u001b[0m\u001b[0;34m\u001b[0m\u001b[0;34m\u001b[0m\u001b[0m\n\u001b[1;32m    223\u001b[0m     \u001b[0;32mtry\u001b[0m\u001b[0;34m:\u001b[0m\u001b[0;34m\u001b[0m\u001b[0;34m\u001b[0m\u001b[0m\n\u001b[0;32m--> 224\u001b[0;31m         \u001b[0mr\u001b[0m \u001b[0;34m=\u001b[0m \u001b[0mmethod\u001b[0m\u001b[0;34m(\u001b[0m\u001b[0mself\u001b[0m\u001b[0;34m,\u001b[0m \u001b[0;34m*\u001b[0m\u001b[0margs\u001b[0m\u001b[0;34m,\u001b[0m \u001b[0;34m**\u001b[0m\u001b[0mkwargs\u001b[0m\u001b[0;34m)\u001b[0m\u001b[0;34m\u001b[0m\u001b[0;34m\u001b[0m\u001b[0m\n\u001b[0m\u001b[1;32m    225\u001b[0m     \u001b[0;32mexcept\u001b[0m \u001b[0mNotImplementedError\u001b[0m\u001b[0;34m:\u001b[0m\u001b[0;34m\u001b[0m\u001b[0;34m\u001b[0m\u001b[0m\n\u001b[1;32m    226\u001b[0m         \u001b[0;31m# don't warn on NotImplementedErrors\u001b[0m\u001b[0;34m\u001b[0m\u001b[0;34m\u001b[0m\u001b[0m\n",
            "\u001b[0;32m/usr/local/lib/python3.10/dist-packages/IPython/core/formatters.py\u001b[0m in \u001b[0;36m__call__\u001b[0;34m(self, obj)\u001b[0m\n\u001b[1;32m    339\u001b[0m                 \u001b[0;32mpass\u001b[0m\u001b[0;34m\u001b[0m\u001b[0;34m\u001b[0m\u001b[0m\n\u001b[1;32m    340\u001b[0m             \u001b[0;32melse\u001b[0m\u001b[0;34m:\u001b[0m\u001b[0;34m\u001b[0m\u001b[0;34m\u001b[0m\u001b[0m\n\u001b[0;32m--> 341\u001b[0;31m                 \u001b[0;32mreturn\u001b[0m \u001b[0mprinter\u001b[0m\u001b[0;34m(\u001b[0m\u001b[0mobj\u001b[0m\u001b[0;34m)\u001b[0m\u001b[0;34m\u001b[0m\u001b[0;34m\u001b[0m\u001b[0m\n\u001b[0m\u001b[1;32m    342\u001b[0m             \u001b[0;31m# Finally look for special method names\u001b[0m\u001b[0;34m\u001b[0m\u001b[0;34m\u001b[0m\u001b[0m\n\u001b[1;32m    343\u001b[0m             \u001b[0mmethod\u001b[0m \u001b[0;34m=\u001b[0m \u001b[0mget_real_method\u001b[0m\u001b[0;34m(\u001b[0m\u001b[0mobj\u001b[0m\u001b[0;34m,\u001b[0m \u001b[0mself\u001b[0m\u001b[0;34m.\u001b[0m\u001b[0mprint_method\u001b[0m\u001b[0;34m)\u001b[0m\u001b[0;34m\u001b[0m\u001b[0;34m\u001b[0m\u001b[0m\n",
            "\u001b[0;32m/usr/local/lib/python3.10/dist-packages/IPython/core/pylabtools.py\u001b[0m in \u001b[0;36mprint_figure\u001b[0;34m(fig, fmt, bbox_inches, base64, **kwargs)\u001b[0m\n\u001b[1;32m    149\u001b[0m         \u001b[0mFigureCanvasBase\u001b[0m\u001b[0;34m(\u001b[0m\u001b[0mfig\u001b[0m\u001b[0;34m)\u001b[0m\u001b[0;34m\u001b[0m\u001b[0;34m\u001b[0m\u001b[0m\n\u001b[1;32m    150\u001b[0m \u001b[0;34m\u001b[0m\u001b[0m\n\u001b[0;32m--> 151\u001b[0;31m     \u001b[0mfig\u001b[0m\u001b[0;34m.\u001b[0m\u001b[0mcanvas\u001b[0m\u001b[0;34m.\u001b[0m\u001b[0mprint_figure\u001b[0m\u001b[0;34m(\u001b[0m\u001b[0mbytes_io\u001b[0m\u001b[0;34m,\u001b[0m \u001b[0;34m**\u001b[0m\u001b[0mkw\u001b[0m\u001b[0;34m)\u001b[0m\u001b[0;34m\u001b[0m\u001b[0;34m\u001b[0m\u001b[0m\n\u001b[0m\u001b[1;32m    152\u001b[0m     \u001b[0mdata\u001b[0m \u001b[0;34m=\u001b[0m \u001b[0mbytes_io\u001b[0m\u001b[0;34m.\u001b[0m\u001b[0mgetvalue\u001b[0m\u001b[0;34m(\u001b[0m\u001b[0;34m)\u001b[0m\u001b[0;34m\u001b[0m\u001b[0;34m\u001b[0m\u001b[0m\n\u001b[1;32m    153\u001b[0m     \u001b[0;32mif\u001b[0m \u001b[0mfmt\u001b[0m \u001b[0;34m==\u001b[0m \u001b[0;34m'svg'\u001b[0m\u001b[0;34m:\u001b[0m\u001b[0;34m\u001b[0m\u001b[0;34m\u001b[0m\u001b[0m\n",
            "\u001b[0;32m/usr/local/lib/python3.10/dist-packages/matplotlib/backend_bases.py\u001b[0m in \u001b[0;36mprint_figure\u001b[0;34m(self, filename, dpi, facecolor, edgecolor, orientation, format, bbox_inches, pad_inches, bbox_extra_artists, backend, **kwargs)\u001b[0m\n\u001b[1;32m   2340\u001b[0m                 )\n\u001b[1;32m   2341\u001b[0m                 \u001b[0;32mwith\u001b[0m \u001b[0mgetattr\u001b[0m\u001b[0;34m(\u001b[0m\u001b[0mrenderer\u001b[0m\u001b[0;34m,\u001b[0m \u001b[0;34m\"_draw_disabled\"\u001b[0m\u001b[0;34m,\u001b[0m \u001b[0mnullcontext\u001b[0m\u001b[0;34m)\u001b[0m\u001b[0;34m(\u001b[0m\u001b[0;34m)\u001b[0m\u001b[0;34m:\u001b[0m\u001b[0;34m\u001b[0m\u001b[0;34m\u001b[0m\u001b[0m\n\u001b[0;32m-> 2342\u001b[0;31m                     \u001b[0mself\u001b[0m\u001b[0;34m.\u001b[0m\u001b[0mfigure\u001b[0m\u001b[0;34m.\u001b[0m\u001b[0mdraw\u001b[0m\u001b[0;34m(\u001b[0m\u001b[0mrenderer\u001b[0m\u001b[0;34m)\u001b[0m\u001b[0;34m\u001b[0m\u001b[0;34m\u001b[0m\u001b[0m\n\u001b[0m\u001b[1;32m   2343\u001b[0m \u001b[0;34m\u001b[0m\u001b[0m\n\u001b[1;32m   2344\u001b[0m             \u001b[0;32mif\u001b[0m \u001b[0mbbox_inches\u001b[0m\u001b[0;34m:\u001b[0m\u001b[0;34m\u001b[0m\u001b[0;34m\u001b[0m\u001b[0m\n",
            "\u001b[0;32m/usr/local/lib/python3.10/dist-packages/matplotlib/artist.py\u001b[0m in \u001b[0;36mdraw_wrapper\u001b[0;34m(artist, renderer, *args, **kwargs)\u001b[0m\n\u001b[1;32m     93\u001b[0m     \u001b[0;34m@\u001b[0m\u001b[0mwraps\u001b[0m\u001b[0;34m(\u001b[0m\u001b[0mdraw\u001b[0m\u001b[0;34m)\u001b[0m\u001b[0;34m\u001b[0m\u001b[0;34m\u001b[0m\u001b[0m\n\u001b[1;32m     94\u001b[0m     \u001b[0;32mdef\u001b[0m \u001b[0mdraw_wrapper\u001b[0m\u001b[0;34m(\u001b[0m\u001b[0martist\u001b[0m\u001b[0;34m,\u001b[0m \u001b[0mrenderer\u001b[0m\u001b[0;34m,\u001b[0m \u001b[0;34m*\u001b[0m\u001b[0margs\u001b[0m\u001b[0;34m,\u001b[0m \u001b[0;34m**\u001b[0m\u001b[0mkwargs\u001b[0m\u001b[0;34m)\u001b[0m\u001b[0;34m:\u001b[0m\u001b[0;34m\u001b[0m\u001b[0;34m\u001b[0m\u001b[0m\n\u001b[0;32m---> 95\u001b[0;31m         \u001b[0mresult\u001b[0m \u001b[0;34m=\u001b[0m \u001b[0mdraw\u001b[0m\u001b[0;34m(\u001b[0m\u001b[0martist\u001b[0m\u001b[0;34m,\u001b[0m \u001b[0mrenderer\u001b[0m\u001b[0;34m,\u001b[0m \u001b[0;34m*\u001b[0m\u001b[0margs\u001b[0m\u001b[0;34m,\u001b[0m \u001b[0;34m**\u001b[0m\u001b[0mkwargs\u001b[0m\u001b[0;34m)\u001b[0m\u001b[0;34m\u001b[0m\u001b[0;34m\u001b[0m\u001b[0m\n\u001b[0m\u001b[1;32m     96\u001b[0m         \u001b[0;32mif\u001b[0m \u001b[0mrenderer\u001b[0m\u001b[0;34m.\u001b[0m\u001b[0m_rasterizing\u001b[0m\u001b[0;34m:\u001b[0m\u001b[0;34m\u001b[0m\u001b[0;34m\u001b[0m\u001b[0m\n\u001b[1;32m     97\u001b[0m             \u001b[0mrenderer\u001b[0m\u001b[0;34m.\u001b[0m\u001b[0mstop_rasterizing\u001b[0m\u001b[0;34m(\u001b[0m\u001b[0;34m)\u001b[0m\u001b[0;34m\u001b[0m\u001b[0;34m\u001b[0m\u001b[0m\n",
            "\u001b[0;32m/usr/local/lib/python3.10/dist-packages/matplotlib/artist.py\u001b[0m in \u001b[0;36mdraw_wrapper\u001b[0;34m(artist, renderer)\u001b[0m\n\u001b[1;32m     70\u001b[0m                 \u001b[0mrenderer\u001b[0m\u001b[0;34m.\u001b[0m\u001b[0mstart_filter\u001b[0m\u001b[0;34m(\u001b[0m\u001b[0;34m)\u001b[0m\u001b[0;34m\u001b[0m\u001b[0;34m\u001b[0m\u001b[0m\n\u001b[1;32m     71\u001b[0m \u001b[0;34m\u001b[0m\u001b[0m\n\u001b[0;32m---> 72\u001b[0;31m             \u001b[0;32mreturn\u001b[0m \u001b[0mdraw\u001b[0m\u001b[0;34m(\u001b[0m\u001b[0martist\u001b[0m\u001b[0;34m,\u001b[0m \u001b[0mrenderer\u001b[0m\u001b[0;34m)\u001b[0m\u001b[0;34m\u001b[0m\u001b[0;34m\u001b[0m\u001b[0m\n\u001b[0m\u001b[1;32m     73\u001b[0m         \u001b[0;32mfinally\u001b[0m\u001b[0;34m:\u001b[0m\u001b[0;34m\u001b[0m\u001b[0;34m\u001b[0m\u001b[0m\n\u001b[1;32m     74\u001b[0m             \u001b[0;32mif\u001b[0m \u001b[0martist\u001b[0m\u001b[0;34m.\u001b[0m\u001b[0mget_agg_filter\u001b[0m\u001b[0;34m(\u001b[0m\u001b[0;34m)\u001b[0m \u001b[0;32mis\u001b[0m \u001b[0;32mnot\u001b[0m \u001b[0;32mNone\u001b[0m\u001b[0;34m:\u001b[0m\u001b[0;34m\u001b[0m\u001b[0;34m\u001b[0m\u001b[0m\n",
            "\u001b[0;32m/usr/local/lib/python3.10/dist-packages/matplotlib/figure.py\u001b[0m in \u001b[0;36mdraw\u001b[0;34m(self, renderer)\u001b[0m\n\u001b[1;32m   3138\u001b[0m \u001b[0;34m\u001b[0m\u001b[0m\n\u001b[1;32m   3139\u001b[0m             \u001b[0mself\u001b[0m\u001b[0;34m.\u001b[0m\u001b[0mpatch\u001b[0m\u001b[0;34m.\u001b[0m\u001b[0mdraw\u001b[0m\u001b[0;34m(\u001b[0m\u001b[0mrenderer\u001b[0m\u001b[0;34m)\u001b[0m\u001b[0;34m\u001b[0m\u001b[0;34m\u001b[0m\u001b[0m\n\u001b[0;32m-> 3140\u001b[0;31m             mimage._draw_list_compositing_images(\n\u001b[0m\u001b[1;32m   3141\u001b[0m                 renderer, self, artists, self.suppressComposite)\n\u001b[1;32m   3142\u001b[0m \u001b[0;34m\u001b[0m\u001b[0m\n",
            "\u001b[0;32m/usr/local/lib/python3.10/dist-packages/matplotlib/image.py\u001b[0m in \u001b[0;36m_draw_list_compositing_images\u001b[0;34m(renderer, parent, artists, suppress_composite)\u001b[0m\n\u001b[1;32m    129\u001b[0m     \u001b[0;32mif\u001b[0m \u001b[0mnot_composite\u001b[0m \u001b[0;32mor\u001b[0m \u001b[0;32mnot\u001b[0m \u001b[0mhas_images\u001b[0m\u001b[0;34m:\u001b[0m\u001b[0;34m\u001b[0m\u001b[0;34m\u001b[0m\u001b[0m\n\u001b[1;32m    130\u001b[0m         \u001b[0;32mfor\u001b[0m \u001b[0ma\u001b[0m \u001b[0;32min\u001b[0m \u001b[0martists\u001b[0m\u001b[0;34m:\u001b[0m\u001b[0;34m\u001b[0m\u001b[0;34m\u001b[0m\u001b[0m\n\u001b[0;32m--> 131\u001b[0;31m             \u001b[0ma\u001b[0m\u001b[0;34m.\u001b[0m\u001b[0mdraw\u001b[0m\u001b[0;34m(\u001b[0m\u001b[0mrenderer\u001b[0m\u001b[0;34m)\u001b[0m\u001b[0;34m\u001b[0m\u001b[0;34m\u001b[0m\u001b[0m\n\u001b[0m\u001b[1;32m    132\u001b[0m     \u001b[0;32melse\u001b[0m\u001b[0;34m:\u001b[0m\u001b[0;34m\u001b[0m\u001b[0;34m\u001b[0m\u001b[0m\n\u001b[1;32m    133\u001b[0m         \u001b[0;31m# Composite any adjacent images together\u001b[0m\u001b[0;34m\u001b[0m\u001b[0;34m\u001b[0m\u001b[0m\n",
            "\u001b[0;32m/usr/local/lib/python3.10/dist-packages/matplotlib/artist.py\u001b[0m in \u001b[0;36mdraw_wrapper\u001b[0;34m(artist, renderer)\u001b[0m\n\u001b[1;32m     70\u001b[0m                 \u001b[0mrenderer\u001b[0m\u001b[0;34m.\u001b[0m\u001b[0mstart_filter\u001b[0m\u001b[0;34m(\u001b[0m\u001b[0;34m)\u001b[0m\u001b[0;34m\u001b[0m\u001b[0;34m\u001b[0m\u001b[0m\n\u001b[1;32m     71\u001b[0m \u001b[0;34m\u001b[0m\u001b[0m\n\u001b[0;32m---> 72\u001b[0;31m             \u001b[0;32mreturn\u001b[0m \u001b[0mdraw\u001b[0m\u001b[0;34m(\u001b[0m\u001b[0martist\u001b[0m\u001b[0;34m,\u001b[0m \u001b[0mrenderer\u001b[0m\u001b[0;34m)\u001b[0m\u001b[0;34m\u001b[0m\u001b[0;34m\u001b[0m\u001b[0m\n\u001b[0m\u001b[1;32m     73\u001b[0m         \u001b[0;32mfinally\u001b[0m\u001b[0;34m:\u001b[0m\u001b[0;34m\u001b[0m\u001b[0;34m\u001b[0m\u001b[0m\n\u001b[1;32m     74\u001b[0m             \u001b[0;32mif\u001b[0m \u001b[0martist\u001b[0m\u001b[0;34m.\u001b[0m\u001b[0mget_agg_filter\u001b[0m\u001b[0;34m(\u001b[0m\u001b[0;34m)\u001b[0m \u001b[0;32mis\u001b[0m \u001b[0;32mnot\u001b[0m \u001b[0;32mNone\u001b[0m\u001b[0;34m:\u001b[0m\u001b[0;34m\u001b[0m\u001b[0;34m\u001b[0m\u001b[0m\n",
            "\u001b[0;32m/usr/local/lib/python3.10/dist-packages/matplotlib/axes/_base.py\u001b[0m in \u001b[0;36mdraw\u001b[0;34m(self, renderer)\u001b[0m\n\u001b[1;32m   3062\u001b[0m             \u001b[0m_draw_rasterized\u001b[0m\u001b[0;34m(\u001b[0m\u001b[0mself\u001b[0m\u001b[0;34m.\u001b[0m\u001b[0mfigure\u001b[0m\u001b[0;34m,\u001b[0m \u001b[0martists_rasterized\u001b[0m\u001b[0;34m,\u001b[0m \u001b[0mrenderer\u001b[0m\u001b[0;34m)\u001b[0m\u001b[0;34m\u001b[0m\u001b[0;34m\u001b[0m\u001b[0m\n\u001b[1;32m   3063\u001b[0m \u001b[0;34m\u001b[0m\u001b[0m\n\u001b[0;32m-> 3064\u001b[0;31m         mimage._draw_list_compositing_images(\n\u001b[0m\u001b[1;32m   3065\u001b[0m             renderer, self, artists, self.figure.suppressComposite)\n\u001b[1;32m   3066\u001b[0m \u001b[0;34m\u001b[0m\u001b[0m\n",
            "\u001b[0;32m/usr/local/lib/python3.10/dist-packages/matplotlib/image.py\u001b[0m in \u001b[0;36m_draw_list_compositing_images\u001b[0;34m(renderer, parent, artists, suppress_composite)\u001b[0m\n\u001b[1;32m    129\u001b[0m     \u001b[0;32mif\u001b[0m \u001b[0mnot_composite\u001b[0m \u001b[0;32mor\u001b[0m \u001b[0;32mnot\u001b[0m \u001b[0mhas_images\u001b[0m\u001b[0;34m:\u001b[0m\u001b[0;34m\u001b[0m\u001b[0;34m\u001b[0m\u001b[0m\n\u001b[1;32m    130\u001b[0m         \u001b[0;32mfor\u001b[0m \u001b[0ma\u001b[0m \u001b[0;32min\u001b[0m \u001b[0martists\u001b[0m\u001b[0;34m:\u001b[0m\u001b[0;34m\u001b[0m\u001b[0;34m\u001b[0m\u001b[0m\n\u001b[0;32m--> 131\u001b[0;31m             \u001b[0ma\u001b[0m\u001b[0;34m.\u001b[0m\u001b[0mdraw\u001b[0m\u001b[0;34m(\u001b[0m\u001b[0mrenderer\u001b[0m\u001b[0;34m)\u001b[0m\u001b[0;34m\u001b[0m\u001b[0;34m\u001b[0m\u001b[0m\n\u001b[0m\u001b[1;32m    132\u001b[0m     \u001b[0;32melse\u001b[0m\u001b[0;34m:\u001b[0m\u001b[0;34m\u001b[0m\u001b[0;34m\u001b[0m\u001b[0m\n\u001b[1;32m    133\u001b[0m         \u001b[0;31m# Composite any adjacent images together\u001b[0m\u001b[0;34m\u001b[0m\u001b[0;34m\u001b[0m\u001b[0m\n",
            "\u001b[0;32m/usr/local/lib/python3.10/dist-packages/matplotlib/artist.py\u001b[0m in \u001b[0;36mdraw_wrapper\u001b[0;34m(artist, renderer)\u001b[0m\n\u001b[1;32m     70\u001b[0m                 \u001b[0mrenderer\u001b[0m\u001b[0;34m.\u001b[0m\u001b[0mstart_filter\u001b[0m\u001b[0;34m(\u001b[0m\u001b[0;34m)\u001b[0m\u001b[0;34m\u001b[0m\u001b[0;34m\u001b[0m\u001b[0m\n\u001b[1;32m     71\u001b[0m \u001b[0;34m\u001b[0m\u001b[0m\n\u001b[0;32m---> 72\u001b[0;31m             \u001b[0;32mreturn\u001b[0m \u001b[0mdraw\u001b[0m\u001b[0;34m(\u001b[0m\u001b[0martist\u001b[0m\u001b[0;34m,\u001b[0m \u001b[0mrenderer\u001b[0m\u001b[0;34m)\u001b[0m\u001b[0;34m\u001b[0m\u001b[0;34m\u001b[0m\u001b[0m\n\u001b[0m\u001b[1;32m     73\u001b[0m         \u001b[0;32mfinally\u001b[0m\u001b[0;34m:\u001b[0m\u001b[0;34m\u001b[0m\u001b[0;34m\u001b[0m\u001b[0m\n\u001b[1;32m     74\u001b[0m             \u001b[0;32mif\u001b[0m \u001b[0martist\u001b[0m\u001b[0;34m.\u001b[0m\u001b[0mget_agg_filter\u001b[0m\u001b[0;34m(\u001b[0m\u001b[0;34m)\u001b[0m \u001b[0;32mis\u001b[0m \u001b[0;32mnot\u001b[0m \u001b[0;32mNone\u001b[0m\u001b[0;34m:\u001b[0m\u001b[0;34m\u001b[0m\u001b[0;34m\u001b[0m\u001b[0m\n",
            "\u001b[0;32m/usr/local/lib/python3.10/dist-packages/matplotlib/axis.py\u001b[0m in \u001b[0;36mdraw\u001b[0;34m(self, renderer, *args, **kwargs)\u001b[0m\n\u001b[1;32m   1374\u001b[0m         \u001b[0mrenderer\u001b[0m\u001b[0;34m.\u001b[0m\u001b[0mopen_group\u001b[0m\u001b[0;34m(\u001b[0m\u001b[0m__name__\u001b[0m\u001b[0;34m,\u001b[0m \u001b[0mgid\u001b[0m\u001b[0;34m=\u001b[0m\u001b[0mself\u001b[0m\u001b[0;34m.\u001b[0m\u001b[0mget_gid\u001b[0m\u001b[0;34m(\u001b[0m\u001b[0;34m)\u001b[0m\u001b[0;34m)\u001b[0m\u001b[0;34m\u001b[0m\u001b[0;34m\u001b[0m\u001b[0m\n\u001b[1;32m   1375\u001b[0m \u001b[0;34m\u001b[0m\u001b[0m\n\u001b[0;32m-> 1376\u001b[0;31m         \u001b[0mticks_to_draw\u001b[0m \u001b[0;34m=\u001b[0m \u001b[0mself\u001b[0m\u001b[0;34m.\u001b[0m\u001b[0m_update_ticks\u001b[0m\u001b[0;34m(\u001b[0m\u001b[0;34m)\u001b[0m\u001b[0;34m\u001b[0m\u001b[0;34m\u001b[0m\u001b[0m\n\u001b[0m\u001b[1;32m   1377\u001b[0m         \u001b[0mtlb1\u001b[0m\u001b[0;34m,\u001b[0m \u001b[0mtlb2\u001b[0m \u001b[0;34m=\u001b[0m \u001b[0mself\u001b[0m\u001b[0;34m.\u001b[0m\u001b[0m_get_ticklabel_bboxes\u001b[0m\u001b[0;34m(\u001b[0m\u001b[0mticks_to_draw\u001b[0m\u001b[0;34m,\u001b[0m \u001b[0mrenderer\u001b[0m\u001b[0;34m)\u001b[0m\u001b[0;34m\u001b[0m\u001b[0;34m\u001b[0m\u001b[0m\n\u001b[1;32m   1378\u001b[0m \u001b[0;34m\u001b[0m\u001b[0m\n",
            "\u001b[0;32m/usr/local/lib/python3.10/dist-packages/matplotlib/axis.py\u001b[0m in \u001b[0;36m_update_ticks\u001b[0;34m(self)\u001b[0m\n\u001b[1;32m   1262\u001b[0m         \u001b[0mmajor_locs\u001b[0m \u001b[0;34m=\u001b[0m \u001b[0mself\u001b[0m\u001b[0;34m.\u001b[0m\u001b[0mget_majorticklocs\u001b[0m\u001b[0;34m(\u001b[0m\u001b[0;34m)\u001b[0m\u001b[0;34m\u001b[0m\u001b[0;34m\u001b[0m\u001b[0m\n\u001b[1;32m   1263\u001b[0m         \u001b[0mmajor_labels\u001b[0m \u001b[0;34m=\u001b[0m \u001b[0mself\u001b[0m\u001b[0;34m.\u001b[0m\u001b[0mmajor\u001b[0m\u001b[0;34m.\u001b[0m\u001b[0mformatter\u001b[0m\u001b[0;34m.\u001b[0m\u001b[0mformat_ticks\u001b[0m\u001b[0;34m(\u001b[0m\u001b[0mmajor_locs\u001b[0m\u001b[0;34m)\u001b[0m\u001b[0;34m\u001b[0m\u001b[0;34m\u001b[0m\u001b[0m\n\u001b[0;32m-> 1264\u001b[0;31m         \u001b[0mmajor_ticks\u001b[0m \u001b[0;34m=\u001b[0m \u001b[0mself\u001b[0m\u001b[0;34m.\u001b[0m\u001b[0mget_major_ticks\u001b[0m\u001b[0;34m(\u001b[0m\u001b[0mlen\u001b[0m\u001b[0;34m(\u001b[0m\u001b[0mmajor_locs\u001b[0m\u001b[0;34m)\u001b[0m\u001b[0;34m)\u001b[0m\u001b[0;34m\u001b[0m\u001b[0;34m\u001b[0m\u001b[0m\n\u001b[0m\u001b[1;32m   1265\u001b[0m         \u001b[0mself\u001b[0m\u001b[0;34m.\u001b[0m\u001b[0mmajor\u001b[0m\u001b[0;34m.\u001b[0m\u001b[0mformatter\u001b[0m\u001b[0;34m.\u001b[0m\u001b[0mset_locs\u001b[0m\u001b[0;34m(\u001b[0m\u001b[0mmajor_locs\u001b[0m\u001b[0;34m)\u001b[0m\u001b[0;34m\u001b[0m\u001b[0;34m\u001b[0m\u001b[0m\n\u001b[1;32m   1266\u001b[0m         \u001b[0;32mfor\u001b[0m \u001b[0mtick\u001b[0m\u001b[0;34m,\u001b[0m \u001b[0mloc\u001b[0m\u001b[0;34m,\u001b[0m \u001b[0mlabel\u001b[0m \u001b[0;32min\u001b[0m \u001b[0mzip\u001b[0m\u001b[0;34m(\u001b[0m\u001b[0mmajor_ticks\u001b[0m\u001b[0;34m,\u001b[0m \u001b[0mmajor_locs\u001b[0m\u001b[0;34m,\u001b[0m \u001b[0mmajor_labels\u001b[0m\u001b[0;34m)\u001b[0m\u001b[0;34m:\u001b[0m\u001b[0;34m\u001b[0m\u001b[0;34m\u001b[0m\u001b[0m\n",
            "\u001b[0;32m/usr/local/lib/python3.10/dist-packages/matplotlib/axis.py\u001b[0m in \u001b[0;36mget_major_ticks\u001b[0;34m(self, numticks)\u001b[0m\n\u001b[1;32m   1600\u001b[0m         \u001b[0;32mwhile\u001b[0m \u001b[0mlen\u001b[0m\u001b[0;34m(\u001b[0m\u001b[0mself\u001b[0m\u001b[0;34m.\u001b[0m\u001b[0mmajorTicks\u001b[0m\u001b[0;34m)\u001b[0m \u001b[0;34m<\u001b[0m \u001b[0mnumticks\u001b[0m\u001b[0;34m:\u001b[0m\u001b[0;34m\u001b[0m\u001b[0;34m\u001b[0m\u001b[0m\n\u001b[1;32m   1601\u001b[0m             \u001b[0;31m# Update the new tick label properties from the old.\u001b[0m\u001b[0;34m\u001b[0m\u001b[0;34m\u001b[0m\u001b[0m\n\u001b[0;32m-> 1602\u001b[0;31m             \u001b[0mtick\u001b[0m \u001b[0;34m=\u001b[0m \u001b[0mself\u001b[0m\u001b[0;34m.\u001b[0m\u001b[0m_get_tick\u001b[0m\u001b[0;34m(\u001b[0m\u001b[0mmajor\u001b[0m\u001b[0;34m=\u001b[0m\u001b[0;32mTrue\u001b[0m\u001b[0;34m)\u001b[0m\u001b[0;34m\u001b[0m\u001b[0;34m\u001b[0m\u001b[0m\n\u001b[0m\u001b[1;32m   1603\u001b[0m             \u001b[0mself\u001b[0m\u001b[0;34m.\u001b[0m\u001b[0mmajorTicks\u001b[0m\u001b[0;34m.\u001b[0m\u001b[0mappend\u001b[0m\u001b[0;34m(\u001b[0m\u001b[0mtick\u001b[0m\u001b[0;34m)\u001b[0m\u001b[0;34m\u001b[0m\u001b[0;34m\u001b[0m\u001b[0m\n\u001b[1;32m   1604\u001b[0m             \u001b[0mself\u001b[0m\u001b[0;34m.\u001b[0m\u001b[0m_copy_tick_props\u001b[0m\u001b[0;34m(\u001b[0m\u001b[0mself\u001b[0m\u001b[0;34m.\u001b[0m\u001b[0mmajorTicks\u001b[0m\u001b[0;34m[\u001b[0m\u001b[0;36m0\u001b[0m\u001b[0;34m]\u001b[0m\u001b[0;34m,\u001b[0m \u001b[0mtick\u001b[0m\u001b[0;34m)\u001b[0m\u001b[0;34m\u001b[0m\u001b[0;34m\u001b[0m\u001b[0m\n",
            "\u001b[0;32m/usr/local/lib/python3.10/dist-packages/matplotlib/axis.py\u001b[0m in \u001b[0;36m_get_tick\u001b[0;34m(self, major)\u001b[0m\n\u001b[1;32m   1549\u001b[0m                 \"_tick_class or reimplement _get_tick()\")\n\u001b[1;32m   1550\u001b[0m         \u001b[0mtick_kw\u001b[0m \u001b[0;34m=\u001b[0m \u001b[0mself\u001b[0m\u001b[0;34m.\u001b[0m\u001b[0m_major_tick_kw\u001b[0m \u001b[0;32mif\u001b[0m \u001b[0mmajor\u001b[0m \u001b[0;32melse\u001b[0m \u001b[0mself\u001b[0m\u001b[0;34m.\u001b[0m\u001b[0m_minor_tick_kw\u001b[0m\u001b[0;34m\u001b[0m\u001b[0;34m\u001b[0m\u001b[0m\n\u001b[0;32m-> 1551\u001b[0;31m         \u001b[0;32mreturn\u001b[0m \u001b[0mself\u001b[0m\u001b[0;34m.\u001b[0m\u001b[0m_tick_class\u001b[0m\u001b[0;34m(\u001b[0m\u001b[0mself\u001b[0m\u001b[0;34m.\u001b[0m\u001b[0maxes\u001b[0m\u001b[0;34m,\u001b[0m \u001b[0;36m0\u001b[0m\u001b[0;34m,\u001b[0m \u001b[0mmajor\u001b[0m\u001b[0;34m=\u001b[0m\u001b[0mmajor\u001b[0m\u001b[0;34m,\u001b[0m \u001b[0;34m**\u001b[0m\u001b[0mtick_kw\u001b[0m\u001b[0;34m)\u001b[0m\u001b[0;34m\u001b[0m\u001b[0;34m\u001b[0m\u001b[0m\n\u001b[0m\u001b[1;32m   1552\u001b[0m \u001b[0;34m\u001b[0m\u001b[0m\n\u001b[1;32m   1553\u001b[0m     \u001b[0;32mdef\u001b[0m \u001b[0m_get_tick_label_size\u001b[0m\u001b[0;34m(\u001b[0m\u001b[0mself\u001b[0m\u001b[0;34m,\u001b[0m \u001b[0maxis_name\u001b[0m\u001b[0;34m)\u001b[0m\u001b[0;34m:\u001b[0m\u001b[0;34m\u001b[0m\u001b[0;34m\u001b[0m\u001b[0m\n",
            "\u001b[0;32m/usr/local/lib/python3.10/dist-packages/matplotlib/axis.py\u001b[0m in \u001b[0;36m__init__\u001b[0;34m(self, *args, **kwargs)\u001b[0m\n\u001b[1;32m    415\u001b[0m \u001b[0;34m\u001b[0m\u001b[0m\n\u001b[1;32m    416\u001b[0m     \u001b[0;32mdef\u001b[0m \u001b[0m__init__\u001b[0m\u001b[0;34m(\u001b[0m\u001b[0mself\u001b[0m\u001b[0;34m,\u001b[0m \u001b[0;34m*\u001b[0m\u001b[0margs\u001b[0m\u001b[0;34m,\u001b[0m \u001b[0;34m**\u001b[0m\u001b[0mkwargs\u001b[0m\u001b[0;34m)\u001b[0m\u001b[0;34m:\u001b[0m\u001b[0;34m\u001b[0m\u001b[0;34m\u001b[0m\u001b[0m\n\u001b[0;32m--> 417\u001b[0;31m         \u001b[0msuper\u001b[0m\u001b[0;34m(\u001b[0m\u001b[0;34m)\u001b[0m\u001b[0;34m.\u001b[0m\u001b[0m__init__\u001b[0m\u001b[0;34m(\u001b[0m\u001b[0;34m*\u001b[0m\u001b[0margs\u001b[0m\u001b[0;34m,\u001b[0m \u001b[0;34m**\u001b[0m\u001b[0mkwargs\u001b[0m\u001b[0;34m)\u001b[0m\u001b[0;34m\u001b[0m\u001b[0;34m\u001b[0m\u001b[0m\n\u001b[0m\u001b[1;32m    418\u001b[0m         \u001b[0;31m# x in data coords, y in axes coords\u001b[0m\u001b[0;34m\u001b[0m\u001b[0;34m\u001b[0m\u001b[0m\n\u001b[1;32m    419\u001b[0m         \u001b[0max\u001b[0m \u001b[0;34m=\u001b[0m \u001b[0mself\u001b[0m\u001b[0;34m.\u001b[0m\u001b[0maxes\u001b[0m\u001b[0;34m\u001b[0m\u001b[0;34m\u001b[0m\u001b[0m\n",
            "\u001b[0;32m/usr/local/lib/python3.10/dist-packages/matplotlib/axis.py\u001b[0m in \u001b[0;36m__init__\u001b[0;34m(self, axes, loc, size, width, color, tickdir, pad, labelsize, labelcolor, zorder, gridOn, tick1On, tick2On, label1On, label2On, major, labelrotation, grid_color, grid_linestyle, grid_linewidth, grid_alpha, **kwargs)\u001b[0m\n\u001b[1;32m    176\u001b[0m             \u001b[0mfontsize\u001b[0m\u001b[0;34m=\u001b[0m\u001b[0mlabelsize\u001b[0m\u001b[0;34m,\u001b[0m \u001b[0mcolor\u001b[0m\u001b[0;34m=\u001b[0m\u001b[0mlabelcolor\u001b[0m\u001b[0;34m,\u001b[0m \u001b[0mvisible\u001b[0m\u001b[0;34m=\u001b[0m\u001b[0mlabel1On\u001b[0m\u001b[0;34m,\u001b[0m\u001b[0;34m\u001b[0m\u001b[0;34m\u001b[0m\u001b[0m\n\u001b[1;32m    177\u001b[0m             rotation=self._labelrotation[1])\n\u001b[0;32m--> 178\u001b[0;31m         self.label2 = mtext.Text(\n\u001b[0m\u001b[1;32m    179\u001b[0m             \u001b[0mnp\u001b[0m\u001b[0;34m.\u001b[0m\u001b[0mnan\u001b[0m\u001b[0;34m,\u001b[0m \u001b[0mnp\u001b[0m\u001b[0;34m.\u001b[0m\u001b[0mnan\u001b[0m\u001b[0;34m,\u001b[0m\u001b[0;34m\u001b[0m\u001b[0;34m\u001b[0m\u001b[0m\n\u001b[1;32m    180\u001b[0m             \u001b[0mfontsize\u001b[0m\u001b[0;34m=\u001b[0m\u001b[0mlabelsize\u001b[0m\u001b[0;34m,\u001b[0m \u001b[0mcolor\u001b[0m\u001b[0;34m=\u001b[0m\u001b[0mlabelcolor\u001b[0m\u001b[0;34m,\u001b[0m \u001b[0mvisible\u001b[0m\u001b[0;34m=\u001b[0m\u001b[0mlabel2On\u001b[0m\u001b[0;34m,\u001b[0m\u001b[0;34m\u001b[0m\u001b[0;34m\u001b[0m\u001b[0m\n",
            "\u001b[0;32m/usr/local/lib/python3.10/dist-packages/matplotlib/_api/deprecation.py\u001b[0m in \u001b[0;36mwrapper\u001b[0;34m(*args, **kwargs)\u001b[0m\n\u001b[1;32m    452\u001b[0m                 \u001b[0;34m\"parameter will become keyword-only %(removal)s.\"\u001b[0m\u001b[0;34m,\u001b[0m\u001b[0;34m\u001b[0m\u001b[0;34m\u001b[0m\u001b[0m\n\u001b[1;32m    453\u001b[0m                 name=name, obj_type=f\"parameter of {func.__name__}()\")\n\u001b[0;32m--> 454\u001b[0;31m         \u001b[0;32mreturn\u001b[0m \u001b[0mfunc\u001b[0m\u001b[0;34m(\u001b[0m\u001b[0;34m*\u001b[0m\u001b[0margs\u001b[0m\u001b[0;34m,\u001b[0m \u001b[0;34m**\u001b[0m\u001b[0mkwargs\u001b[0m\u001b[0;34m)\u001b[0m\u001b[0;34m\u001b[0m\u001b[0;34m\u001b[0m\u001b[0m\n\u001b[0m\u001b[1;32m    455\u001b[0m \u001b[0;34m\u001b[0m\u001b[0m\n\u001b[1;32m    456\u001b[0m     \u001b[0;31m# Don't modify *func*'s signature, as boilerplate.py needs it.\u001b[0m\u001b[0;34m\u001b[0m\u001b[0;34m\u001b[0m\u001b[0m\n",
            "\u001b[0;32m/usr/local/lib/python3.10/dist-packages/matplotlib/text.py\u001b[0m in \u001b[0;36m__init__\u001b[0;34m(self, x, y, text, color, verticalalignment, horizontalalignment, multialignment, fontproperties, rotation, linespacing, rotation_mode, usetex, wrap, transform_rotates_text, parse_math, **kwargs)\u001b[0m\n\u001b[1;32m    181\u001b[0m             \u001b[0mrotation_mode\u001b[0m\u001b[0;34m=\u001b[0m\u001b[0mrotation_mode\u001b[0m\u001b[0;34m,\u001b[0m\u001b[0;34m\u001b[0m\u001b[0;34m\u001b[0m\u001b[0m\n\u001b[1;32m    182\u001b[0m         )\n\u001b[0;32m--> 183\u001b[0;31m         \u001b[0mself\u001b[0m\u001b[0;34m.\u001b[0m\u001b[0mupdate\u001b[0m\u001b[0;34m(\u001b[0m\u001b[0mkwargs\u001b[0m\u001b[0;34m)\u001b[0m\u001b[0;34m\u001b[0m\u001b[0;34m\u001b[0m\u001b[0m\n\u001b[0m\u001b[1;32m    184\u001b[0m \u001b[0;34m\u001b[0m\u001b[0m\n\u001b[1;32m    185\u001b[0m     def _reset_visual_defaults(\n",
            "\u001b[0;32m/usr/local/lib/python3.10/dist-packages/matplotlib/text.py\u001b[0m in \u001b[0;36mupdate\u001b[0;34m(self, kwargs)\u001b[0m\n\u001b[1;32m    229\u001b[0m         \u001b[0;31m# Update bbox last, as it depends on font properties.\u001b[0m\u001b[0;34m\u001b[0m\u001b[0;34m\u001b[0m\u001b[0m\n\u001b[1;32m    230\u001b[0m         \u001b[0mbbox\u001b[0m \u001b[0;34m=\u001b[0m \u001b[0mkwargs\u001b[0m\u001b[0;34m.\u001b[0m\u001b[0mpop\u001b[0m\u001b[0;34m(\u001b[0m\u001b[0;34m\"bbox\"\u001b[0m\u001b[0;34m,\u001b[0m \u001b[0msentinel\u001b[0m\u001b[0;34m)\u001b[0m\u001b[0;34m\u001b[0m\u001b[0;34m\u001b[0m\u001b[0m\n\u001b[0;32m--> 231\u001b[0;31m         \u001b[0msuper\u001b[0m\u001b[0;34m(\u001b[0m\u001b[0;34m)\u001b[0m\u001b[0;34m.\u001b[0m\u001b[0mupdate\u001b[0m\u001b[0;34m(\u001b[0m\u001b[0mkwargs\u001b[0m\u001b[0;34m)\u001b[0m\u001b[0;34m\u001b[0m\u001b[0;34m\u001b[0m\u001b[0m\n\u001b[0m\u001b[1;32m    232\u001b[0m         \u001b[0;32mif\u001b[0m \u001b[0mbbox\u001b[0m \u001b[0;32mis\u001b[0m \u001b[0;32mnot\u001b[0m \u001b[0msentinel\u001b[0m\u001b[0;34m:\u001b[0m\u001b[0;34m\u001b[0m\u001b[0;34m\u001b[0m\u001b[0m\n\u001b[1;32m    233\u001b[0m             \u001b[0mself\u001b[0m\u001b[0;34m.\u001b[0m\u001b[0mset_bbox\u001b[0m\u001b[0;34m(\u001b[0m\u001b[0mbbox\u001b[0m\u001b[0;34m)\u001b[0m\u001b[0;34m\u001b[0m\u001b[0;34m\u001b[0m\u001b[0m\n",
            "\u001b[0;32m/usr/local/lib/python3.10/dist-packages/matplotlib/artist.py\u001b[0m in \u001b[0;36mupdate\u001b[0;34m(self, props)\u001b[0m\n\u001b[1;32m   1211\u001b[0m         \u001b[0mprops\u001b[0m \u001b[0;34m:\u001b[0m \u001b[0mdict\u001b[0m\u001b[0;34m\u001b[0m\u001b[0;34m\u001b[0m\u001b[0m\n\u001b[1;32m   1212\u001b[0m         \"\"\"\n\u001b[0;32m-> 1213\u001b[0;31m         return self._update_props(\n\u001b[0m\u001b[1;32m   1214\u001b[0m             props, \"{cls.__name__!r} object has no property {prop_name!r}\")\n\u001b[1;32m   1215\u001b[0m \u001b[0;34m\u001b[0m\u001b[0m\n",
            "\u001b[0;32m/usr/local/lib/python3.10/dist-packages/matplotlib/artist.py\u001b[0m in \u001b[0;36m_update_props\u001b[0;34m(self, props, errfmt)\u001b[0m\n\u001b[1;32m   1190\u001b[0m                 \u001b[0;31m# Allow attributes we want to be able to update through\u001b[0m\u001b[0;34m\u001b[0m\u001b[0;34m\u001b[0m\u001b[0m\n\u001b[1;32m   1191\u001b[0m                 \u001b[0;31m# art.update, art.set, setp.\u001b[0m\u001b[0;34m\u001b[0m\u001b[0;34m\u001b[0m\u001b[0m\n\u001b[0;32m-> 1192\u001b[0;31m                 \u001b[0;32mif\u001b[0m \u001b[0mk\u001b[0m \u001b[0;34m==\u001b[0m \u001b[0;34m\"axes\"\u001b[0m\u001b[0;34m:\u001b[0m\u001b[0;34m\u001b[0m\u001b[0;34m\u001b[0m\u001b[0m\n\u001b[0m\u001b[1;32m   1193\u001b[0m                     \u001b[0mret\u001b[0m\u001b[0;34m.\u001b[0m\u001b[0mappend\u001b[0m\u001b[0;34m(\u001b[0m\u001b[0msetattr\u001b[0m\u001b[0;34m(\u001b[0m\u001b[0mself\u001b[0m\u001b[0;34m,\u001b[0m \u001b[0mk\u001b[0m\u001b[0;34m,\u001b[0m \u001b[0mv\u001b[0m\u001b[0;34m)\u001b[0m\u001b[0;34m)\u001b[0m\u001b[0;34m\u001b[0m\u001b[0;34m\u001b[0m\u001b[0m\n\u001b[1;32m   1194\u001b[0m                 \u001b[0;32melse\u001b[0m\u001b[0;34m:\u001b[0m\u001b[0;34m\u001b[0m\u001b[0;34m\u001b[0m\u001b[0m\n",
            "\u001b[0;31mKeyboardInterrupt\u001b[0m: "
          ]
        }
      ]
    },
    {
      "cell_type": "code",
      "source": [
        "df_review.head()"
      ],
      "metadata": {
        "id": "LGADnZPn7_Rd"
      },
      "execution_count": null,
      "outputs": []
    },
    {
      "cell_type": "markdown",
      "source": [
        "df.review.head() ss miércoles 10/04/2024 9:17pm\n",
        "\n",
        "![image.png](data:image/png;base64,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)"
      ],
      "metadata": {
        "id": "Z0SbUPUp8Esu"
      }
    },
    {
      "cell_type": "code",
      "source": [
        "df_review.tail()"
      ],
      "metadata": {
        "id": "V8xlpu_68CMs"
      },
      "execution_count": null,
      "outputs": []
    },
    {
      "cell_type": "markdown",
      "source": [
        "df.review.tail() ss miércoles 10/04/2024 9:17pm\n",
        "\n",
        "![image.png](data:image/png;base64,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)"
      ],
      "metadata": {
        "id": "8Dtpgbw_8mA6"
      }
    },
    {
      "cell_type": "code",
      "source": [],
      "metadata": {
        "id": "tabqbFH482IW"
      },
      "execution_count": null,
      "outputs": []
    },
    {
      "cell_type": "code",
      "source": [
        "aaa"
      ],
      "metadata": {
        "id": "VLsaUqX-gpvy"
      },
      "execution_count": null,
      "outputs": []
    },
    {
      "cell_type": "markdown",
      "metadata": {
        "id": "LA3cIuIOOKH8"
      },
      "source": [
        "## Exploración de datos"
      ]
    },
    {
      "cell_type": "markdown",
      "metadata": {
        "id": "pR9pkx1rohMT"
      },
      "source": [
        "### Tabla de interacciones"
      ]
    },
    {
      "cell_type": "markdown",
      "metadata": {
        "id": "9adUjY_2OB46"
      },
      "source": [
        "\n",
        "Modificamos los nombres de las columnas"
      ]
    },
    {
      "cell_type": "code",
      "execution_count": null,
      "metadata": {
        "id": "c7CKWYXkMLTd"
      },
      "outputs": [],
      "source": [
        "path = os.path.join('lastfm-dataset-1K', 'userid-timestamp-artid-artname-traid-traname.tsv')\n",
        "\n",
        "columns = ['user-id', 'timestamp', 'artist-id', 'artist-name', 'track-id', 'track-name']\n",
        "\n",
        "# cargamos la columna de de timestamp con formato de fecha\n",
        "df = pd.read_csv(path, sep='\\t', error_bad_lines=False, header=None,\n",
        "                 names=columns, parse_dates = ['timestamp'])"
      ]
    },
    {
      "cell_type": "code",
      "execution_count": null,
      "metadata": {
        "id": "ZlfEOBNWPGYW"
      },
      "outputs": [],
      "source": [
        "df.info()"
      ]
    },
    {
      "cell_type": "code",
      "execution_count": null,
      "metadata": {
        "id": "Za4oDlRTaB8n"
      },
      "outputs": [],
      "source": [
        "df.head()"
      ]
    },
    {
      "cell_type": "code",
      "execution_count": null,
      "metadata": {
        "id": "u20B1LLtbx00"
      },
      "outputs": [],
      "source": [
        "df['timestamp'].sort_values()"
      ]
    },
    {
      "cell_type": "markdown",
      "metadata": {
        "id": "d9nT38PlodkV"
      },
      "source": [
        "### Tabla de usuarios"
      ]
    },
    {
      "cell_type": "code",
      "execution_count": null,
      "metadata": {
        "id": "QAqXdN7RYHS6"
      },
      "outputs": [],
      "source": [
        "path_user = os.path.join('lastfm-dataset-1K', 'userid-profile.tsv')\n",
        "\n",
        "df_user = pd.read_csv(path_user, sep='\\t')\n",
        "df_user.info()\n",
        "df_user.country.unique()"
      ]
    },
    {
      "cell_type": "code",
      "execution_count": null,
      "metadata": {
        "id": "rAJxVoAbgBnb"
      },
      "outputs": [],
      "source": [
        "selected_countries = ['Colombia', 'Venezuela', 'Peru', 'Chile', 'Argentina']"
      ]
    },
    {
      "cell_type": "code",
      "execution_count": null,
      "metadata": {
        "id": "RUWUwsB5Yptv"
      },
      "outputs": [],
      "source": [
        "selected_users = df_user[df_user['country'].isin(selected_countries)]['#id']\n",
        "selected_users\n",
        "\n",
        "print(f'Los usuarios seleccionados son el {round(len(selected_users)/len(df_user)*100,2)}% del total de usuarios y será nuestro mercado objetivo de negocio')"
      ]
    },
    {
      "cell_type": "markdown",
      "metadata": {
        "id": "da5TIEr103Qb"
      },
      "source": [
        "Decisión: Filtraremos solo por usuarios latinos de los países de \"Colombia\" y \"Venezuela\" porque se alinea con nuestros objetivos del negocio"
      ]
    },
    {
      "cell_type": "code",
      "execution_count": null,
      "metadata": {
        "id": "YAHr__fJ8jr3"
      },
      "outputs": [],
      "source": [
        "aaaa"
      ]
    },
    {
      "cell_type": "markdown",
      "metadata": {
        "id": "L0rgKtdyTR1R"
      },
      "source": [
        "## Limpieza y filtrado de datos"
      ]
    },
    {
      "cell_type": "markdown",
      "metadata": {
        "id": "JOPQi4clP_am"
      },
      "source": [
        "Decisión 1: Nos quedamos solo con los registros para el año 2009 a partir de los cuales construiremos el sistema. Esto por diferentes razones: hay suficientes datos para entrenar un modelo (aproximadamente 2.5 M) y para el objetivo de nuestro negocio, es suficiente este año."
      ]
    },
    {
      "cell_type": "code",
      "execution_count": null,
      "metadata": {
        "id": "n6Tse154bxae"
      },
      "outputs": [],
      "source": [
        "# Filtrar las filas para el año 2008\n",
        "# 2005 1M\n",
        "# 2006 4M\n",
        "# 2007 5M\n",
        "# 2008 6M\n",
        "# 2009 2.5M\n",
        "\n",
        "df = df[df['timestamp'].dt.year == 2008]"
      ]
    },
    {
      "cell_type": "code",
      "execution_count": null,
      "metadata": {
        "id": "iBr_FOKjcICs"
      },
      "outputs": [],
      "source": [
        "df.info()"
      ]
    },
    {
      "cell_type": "code",
      "execution_count": null,
      "metadata": {
        "id": "0hBabiKqb6AM"
      },
      "outputs": [],
      "source": [
        "df.head()"
      ]
    },
    {
      "cell_type": "markdown",
      "metadata": {
        "id": "1fs0Tb7Ee6-e"
      },
      "source": [
        "Identificamos la cantidad de NaN en las columnas"
      ]
    },
    {
      "cell_type": "code",
      "execution_count": null,
      "metadata": {
        "id": "0jmlsksJc-bb"
      },
      "outputs": [],
      "source": [
        "df.isna().sum()"
      ]
    },
    {
      "cell_type": "markdown",
      "metadata": {
        "id": "j1DsYcV8e92r"
      },
      "source": [
        "Tomamos la decisión de eliminar las fila cuyo artist-id es NaN, puesto que solo representan alreadedor del 3% de las interacciones."
      ]
    },
    {
      "cell_type": "code",
      "execution_count": null,
      "metadata": {
        "id": "SNZSnIvLfMPD"
      },
      "outputs": [],
      "source": [
        "df = df.dropna(subset=['artist-id'])"
      ]
    },
    {
      "cell_type": "code",
      "execution_count": null,
      "metadata": {
        "id": "EkEomi10fciO"
      },
      "outputs": [],
      "source": [
        "df.isna().sum()"
      ]
    },
    {
      "cell_type": "code",
      "execution_count": null,
      "metadata": {
        "id": "25oux7rrfe-H"
      },
      "outputs": [],
      "source": [
        "df.info()"
      ]
    },
    {
      "cell_type": "markdown",
      "metadata": {
        "id": "mDk8WP3mgZX2"
      },
      "source": [
        "Para el caso de los track-id() con NaN, generamos un hash teniendo en cuenta el artist-id y el track-name que identifique la canción."
      ]
    },
    {
      "cell_type": "code",
      "execution_count": null,
      "metadata": {
        "id": "RbVojZ6zgXsw"
      },
      "outputs": [],
      "source": [
        "import hashlib\n",
        "\n",
        "# Función para generar un hash único basado en el nombre de la pista y el id del artista\n",
        "def generate_unique_id(track_name, artist_id):\n",
        "    # Convertir a string y codificar para generar un hash\n",
        "    unique_str = str(track_name) + str(artist_id)\n",
        "    unique_hash = hashlib.sha256(unique_str.encode()).hexdigest()\n",
        "    # Podrías acortar el hash si deseas un identificador más corto\n",
        "    return unique_hash[:16]\n",
        "\n",
        "# Rellenar NaN en la columna 'track-id' utilizando las columnas 'track-name' y 'artist-id'\n",
        "df['track-id'] = df.apply(lambda row: generate_unique_id(row['track-name'], row['artist-id']) if pd.isna(row['track-id']) else row['track-id'], axis=1)"
      ]
    },
    {
      "cell_type": "code",
      "execution_count": null,
      "metadata": {
        "id": "VNI2HmDTz34Z"
      },
      "outputs": [],
      "source": [
        "import uuid\n",
        "\n",
        "# Función para generar un UUID único\n",
        "def generate_unique_id(track_name, artist_id):\n",
        "    # No necesitamos combinar el nombre de la pista y el id del artista para generar un UUID\n",
        "    return str(uuid.uuid4())\n",
        "\n",
        "# Suponiendo que 'df' es un DataFrame de pandas y tienes las columnas 'track-name', 'artist-id', y 'track-id'\n",
        "# Rellenar NaN en la columna 'track-id' utilizando la función generate_unique_id\n",
        "df['track-id'] = df.apply(lambda row: generate_unique_id(row['track-name'], row['artist-id']) if pd.isna(row['track-id']) else row['track-id'], axis=1)"
      ]
    },
    {
      "cell_type": "code",
      "execution_count": null,
      "metadata": {
        "id": "P371f52yhMgp"
      },
      "outputs": [],
      "source": [
        "df.head()"
      ]
    },
    {
      "cell_type": "markdown",
      "metadata": {
        "id": "ku7n0JlVOXGE"
      },
      "source": [
        "Verificamos que ya no hayan NaNs\n"
      ]
    },
    {
      "cell_type": "code",
      "execution_count": null,
      "metadata": {
        "id": "0TU1H2wkhXub"
      },
      "outputs": [],
      "source": [
        "df.isna().sum()"
      ]
    },
    {
      "cell_type": "code",
      "execution_count": null,
      "metadata": {
        "id": "-8AjuF7SkAug"
      },
      "outputs": [],
      "source": [
        "user_count = df.groupby('user-id')['track-id'].agg({'count'}).sort_values(by='count', ascending=False)\n",
        "user_count = user_count.reset_index()\n",
        "user_count"
      ]
    },
    {
      "cell_type": "markdown",
      "metadata": {
        "id": "fbUq8IRbObaA"
      },
      "source": [
        "Identificamos fenómeno de cola larga"
      ]
    },
    {
      "cell_type": "code",
      "execution_count": null,
      "metadata": {
        "id": "R02L1iGklNNv"
      },
      "outputs": [],
      "source": [
        "import matplotlib.pyplot as plt\n",
        "\n",
        "user_count['count'].hist()\n",
        "plt.xlabel('cantidad de interacción')\n",
        "plt.ylabel('frecuencia de usuarios')\n",
        "plt.show()"
      ]
    },
    {
      "cell_type": "markdown",
      "metadata": {
        "id": "D5VeJU5vOx3u"
      },
      "source": [
        "Buscamos obtener un DataFrame con cada 'track-id' único y el número de veces que cada uno aparece en el DataFrame original, ordenado de mayor a menor por este recuento. La variable mt se asigna a este DataFrame resultante."
      ]
    },
    {
      "cell_type": "code",
      "execution_count": null,
      "metadata": {
        "id": "N2AcFci8mi8y"
      },
      "outputs": [],
      "source": [
        "# Esto lo usaremos para identificar las pistas más populares en el conjunto de datos, ya que las pistas con más usuarios únicos serían las más populares.\n",
        "mt = df.groupby('track-id')['user-id'].agg({'count'}).sort_values(by='count', ascending=False)\n",
        "mt"
      ]
    },
    {
      "cell_type": "code",
      "execution_count": null,
      "metadata": {
        "id": "VYsA8ZRKlgXv"
      },
      "outputs": [],
      "source": [
        "#Fenómeno de cola larga por interacciones usuario tracks\n",
        "mt['count'].hist(bins=100)\n",
        "plt.xlabel('número de interacciones')\n",
        "plt.ylabel('frecuencia de interacciones')\n",
        "plt.title('Fenómeno de cola larga en dataset')\n",
        "plt.show()"
      ]
    },
    {
      "cell_type": "markdown",
      "metadata": {
        "id": "V5EYvIwtP2yT"
      },
      "source": [
        "Nos quedamos solo con las columnas user-id y track-id a partir de las cuales construiremos nuestro sistema de recomendación."
      ]
    },
    {
      "cell_type": "code",
      "execution_count": null,
      "metadata": {
        "id": "x3irFrGcng0p"
      },
      "outputs": [],
      "source": [
        "user_track = df[['user-id', 'track-id']]\n",
        "user_track"
      ]
    },
    {
      "cell_type": "code",
      "execution_count": null,
      "metadata": {
        "id": "hkhU2YAXpCi2"
      },
      "outputs": [],
      "source": [
        "user_track.groupby('track-id')['track-id'].count().sort_values()"
      ]
    },
    {
      "cell_type": "code",
      "execution_count": null,
      "metadata": {
        "id": "3sKW5Wn7ofuB"
      },
      "outputs": [],
      "source": [
        "user_track.groupby('track-id')['track-id'].count().sort_values().describe()"
      ]
    },
    {
      "cell_type": "code",
      "execution_count": null,
      "metadata": {
        "id": "oo_Pa4C0lkWn"
      },
      "outputs": [],
      "source": [
        "user_track['track-id'].nunique()"
      ]
    },
    {
      "cell_type": "markdown",
      "metadata": {
        "id": "bw0Nw8u7pSht"
      },
      "source": [
        "Evidenciamos muchas canciones que solo se han escuchado una vez. Ignoraremos estas canciones para reducir la dimensionalidad de la matriz de utilidad."
      ]
    },
    {
      "cell_type": "code",
      "execution_count": null,
      "metadata": {
        "id": "Tc-7--xAnut-"
      },
      "outputs": [],
      "source": [
        "track_counts = user_track['track-id'].value_counts()\n",
        "threshold = 30 # tiene que haber sido escuchada al menos n veces"
      ]
    },
    {
      "cell_type": "code",
      "execution_count": null,
      "metadata": {
        "id": "-C5pa5jtni1M"
      },
      "outputs": [],
      "source": [
        "user_track = user_track[user_track['track-id'].map(track_counts) >= threshold]"
      ]
    },
    {
      "cell_type": "code",
      "execution_count": null,
      "metadata": {
        "id": "PMyIt6HapdSa"
      },
      "outputs": [],
      "source": [
        "user_track.groupby('track-id')['track-id'].count().sort_values()"
      ]
    },
    {
      "cell_type": "code",
      "execution_count": null,
      "metadata": {
        "id": "80iXo8p5n6Kj"
      },
      "outputs": [],
      "source": [
        "user_track['track-id'].value_counts().describe()"
      ]
    },
    {
      "cell_type": "code",
      "execution_count": null,
      "metadata": {
        "id": "qNieaVgjoBd9"
      },
      "outputs": [],
      "source": [
        "user_track['track-id'].nunique()"
      ]
    },
    {
      "cell_type": "code",
      "execution_count": null,
      "metadata": {
        "id": "Bc1q51YzoeME"
      },
      "outputs": [],
      "source": [
        "user_track['count'] = user_track.groupby(['user-id', 'track-id'])['track-id'].transform('count')\n",
        "user_track = user_track.drop_duplicates()\n",
        "user_track"
      ]
    },
    {
      "cell_type": "code",
      "execution_count": null,
      "metadata": {
        "id": "Vpoo12OItqM_"
      },
      "outputs": [],
      "source": [
        "user_track.sort_values(by='count',ascending=False).head(20)"
      ]
    },
    {
      "cell_type": "markdown",
      "metadata": {
        "id": "HuOsc20wuupg"
      },
      "source": [
        "Identificamos que había un usuario (user_000008) cuya actividad era anormal, puesto que había reproducido más de 15k canciones en un año lo cual no tiene mucho sentido práctco. Lo identificamos como outlier y lo eliminamos del dataset porque además no era representativo para la cantidad de datos que tenemos más sí dañaba la muestra."
      ]
    },
    {
      "cell_type": "code",
      "execution_count": null,
      "metadata": {
        "id": "y_hnK_pAuwRR"
      },
      "outputs": [],
      "source": [
        "df = df[df['user-id']!='user_000008']\n",
        "user_count = user_count[user_count['user-id']!='user_000008']\n",
        "user_track = user_track[user_track['user-id']!='user_000008']"
      ]
    },
    {
      "cell_type": "code",
      "execution_count": null,
      "metadata": {
        "id": "_iDxzI61wWmV"
      },
      "outputs": [],
      "source": [
        "user_track.sort_values(by='count',ascending=False).head()"
      ]
    },
    {
      "cell_type": "code",
      "execution_count": null,
      "metadata": {
        "id": "En3WLc7du_l9"
      },
      "outputs": [],
      "source": [
        "# Filtrar el df para incluir solo usuarios seleccionados previamente\n",
        "user_track = user_track[user_track['user-id'].isin(selected_users)]\n",
        "user_track.sort_values(by='count',ascending=False)\n",
        "user_track.describe()"
      ]
    },
    {
      "cell_type": "code",
      "execution_count": null,
      "metadata": {
        "id": "iwaTpimJtNY9"
      },
      "outputs": [],
      "source": [
        "user_track['count'].hist(bins=100)\n",
        "plt.xlabel('número de interacciones')\n",
        "plt.ylabel('frecuencia de interacciones')\n",
        "plt.title('Fenómeno de cola larga en dataset')\n",
        "plt.show()"
      ]
    },
    {
      "cell_type": "markdown",
      "metadata": {
        "id": "QX2StlH7ZtD-"
      },
      "source": [
        "### Calificación implícita basándonos en las interacciones"
      ]
    },
    {
      "cell_type": "markdown",
      "metadata": {
        "id": "e01j77YdoW4r"
      },
      "source": [
        "Primero, normalizamos las interacciones"
      ]
    },
    {
      "cell_type": "code",
      "execution_count": null,
      "metadata": {
        "id": "FJAXBLLNrmq0"
      },
      "outputs": [],
      "source": [
        "user_track['count_normalized'] = (user_track['count'] - user_track['count'].min()) / (user_track['count'].max() - user_track['count'].min())\n",
        "user_track.describe()"
      ]
    },
    {
      "cell_type": "markdown",
      "metadata": {
        "id": "yCbGG5vt5MI0"
      },
      "source": [
        "Vamos a desarrollar un sistema de recomendación basado en clasificación numérica entre 1 y 5. Para ello, primero agruparemos los usuarios y para cada uno sacaremos los percentiles 20, 40, 60 y 80. Luego asignaremos la frecuencia de interaccion con un track al percentil que corresponda (1,2,3,4 o 5)."
      ]
    },
    {
      "cell_type": "code",
      "execution_count": null,
      "metadata": {
        "id": "crDxFx3RuKeo"
      },
      "outputs": [],
      "source": [
        "def asignar_ranking(df, columna_frecuencia):\n",
        "    # Calcula los percentiles 20, 40, 60, 80 para cada usuario\n",
        "    percentiles = df.groupby('user-id')[columna_frecuencia].describe(percentiles=[.2, .4, .6, .8])\n",
        "    percentiles = percentiles[['20%', '40%', '60%', '80%']].rename(columns={'20%': 'p20', '40%': 'p40', '60%': 'p60', '80%': 'p80'})\n",
        "\n",
        "    # Inicializar columna de ranking\n",
        "    df['ranking'] = 0\n",
        "\n",
        "    # Asignar rankings basados en los percentiles\n",
        "    for index, row in percentiles.iterrows():\n",
        "        user_id = index\n",
        "        p20, p40, p60, p80 = row['p20'], row['p40'], row['p60'], row['p80']\n",
        "\n",
        "        # Asigna rankings de 1 a 5 basados en los percentiles de frecuencia\n",
        "        df.loc[(df['user-id'] == user_id) & (df[columna_frecuencia] <= p20), 'ranking'] = 1\n",
        "        df.loc[(df['user-id'] == user_id) & (df[columna_frecuencia] > p20) & (df[columna_frecuencia] <= p40), 'ranking'] = 2\n",
        "        df.loc[(df['user-id'] == user_id) & (df[columna_frecuencia] > p40) & (df[columna_frecuencia] <= p60), 'ranking'] = 3\n",
        "        df.loc[(df['user-id'] == user_id) & (df[columna_frecuencia] > p60) & (df[columna_frecuencia] <= p80), 'ranking'] = 4\n",
        "        df.loc[(df['user-id'] == user_id) & (df[columna_frecuencia] > p80), 'ranking'] = 5\n",
        "\n",
        "    return df\n",
        "\n",
        "# Aplica la función al DataFrame 'user_track' y la columna 'count_normalized'\n",
        "user_track_ranked = asignar_ranking(user_track, 'count_normalized')"
      ]
    },
    {
      "cell_type": "code",
      "execution_count": null,
      "metadata": {
        "id": "uioV0eoUuXvU"
      },
      "outputs": [],
      "source": [
        "user_track.describe()"
      ]
    },
    {
      "cell_type": "markdown",
      "metadata": {
        "id": "B2wah1d85vnJ"
      },
      "source": [
        "Se puede observar la columna \"ranking\" con el nivel al que pertenece cada interacción usuario-item."
      ]
    },
    {
      "cell_type": "code",
      "execution_count": null,
      "metadata": {
        "id": "ofZ8kHaSvfat"
      },
      "outputs": [],
      "source": [
        "user_track"
      ]
    },
    {
      "cell_type": "code",
      "execution_count": null,
      "metadata": {
        "id": "DjwomzRgqpGM"
      },
      "outputs": [],
      "source": [
        "# ver la cantidad de usuarios y items\n",
        "num_users = user_track['user-id'].nunique()\n",
        "num_items = user_track['track-id'].nunique()\n",
        "print(f'número de usuarios = {num_users}, número de tracks = {num_items}')\n",
        "print(22*16900)"
      ]
    },
    {
      "cell_type": "code",
      "execution_count": null,
      "metadata": {
        "id": "3i4v2-W4qArS"
      },
      "outputs": [],
      "source": [
        "user_track.describe()"
      ]
    },
    {
      "cell_type": "markdown",
      "metadata": {
        "id": "nrz4QEgt57qj"
      },
      "source": [
        "Este fragmento de código en Python utiliza la biblioteca Surprise para sistemas de recomendación. Primero, se crea un objeto Reader con una escala de calificación de 1 a 5. Luego, se carga el dataset desde un dataframe de pandas llamado user_track, que contiene las columnas 'user-id', 'track-id' y 'ranking'. El 'ranking' representa las calificaciones que asignamos previamente a los tracks por usuario. El resultado es un objeto Dataset de Surprise que se puede utilizar para entrenar un modelo de sistema de recomendación."
      ]
    },
    {
      "cell_type": "code",
      "execution_count": null,
      "metadata": {
        "id": "jfArerInvzqR"
      },
      "outputs": [],
      "source": [
        "reader = Reader(rating_scale = (1, 5))\n",
        "#Se crea el dataset a partir del dataframe\n",
        "surprise_dataset = Dataset.load_from_df( user_track[ ['user-id', 'track-id', 'ranking'] ], reader )"
      ]
    },
    {
      "cell_type": "markdown",
      "metadata": {
        "id": "EaCE-fQaVgLZ"
      },
      "source": [
        "## Experimentación"
      ]
    },
    {
      "cell_type": "markdown",
      "metadata": {
        "id": "32D5P3sOVtD5"
      },
      "source": [
        "Vamos a probar variando la métrica de similitud entre Coseno y Pearson, que se encuentran en la librería Surprise. Además, utilizaremos los dos tipos de modelos colaborativos: basado en usuario y en item. Por último, experimentaremos con tres valores de k y tres valores de umbral.\n",
        "\n",
        "Utilizando cross-validation con un valor de k=2 (número de pliegues), compararemos las métricas RMSE y MAE de los distintos modelos y seleccionaremos el mejor para hacer nuestro modelo de recomendación."
      ]
    },
    {
      "cell_type": "code",
      "execution_count": null,
      "metadata": {
        "id": "LOcOAULVVnXS"
      },
      "outputs": [],
      "source": [
        "print(f'Obtendremos {3*3*2} modelos con Coseno y {3*3*2} modelos con Pearson')"
      ]
    },
    {
      "cell_type": "markdown",
      "metadata": {
        "id": "P9N7ScdlLpTC"
      },
      "source": [
        "### Coseno"
      ]
    },
    {
      "cell_type": "code",
      "execution_count": null,
      "metadata": {
        "id": "nyN8fy7nMGPQ"
      },
      "outputs": [],
      "source": [
        "from surprise.model_selection import cross_validate\n",
        "\n",
        "# Valores de k y threshold para iterar\n",
        "ks = [4, 8, 12]  # Ejemplo de valores de k\n",
        "thresholds = [2, 4, 6]  # Ejemplo de valores de threshold"
      ]
    },
    {
      "cell_type": "code",
      "execution_count": null,
      "metadata": {
        "id": "pdx0_l_mDclL"
      },
      "outputs": [],
      "source": [
        "# Iterar sobre todos los métodos de similitud, valores de k y user/item based\n",
        "results = []\n",
        "i = 1\n",
        "\n",
        "similarity = 'cosine'\n",
        "for user_based in [True, False]:  # True para user-based, False para item-based\n",
        "    for k in ks:\n",
        "        for min_support in thresholds:\n",
        "            sim_options = {\n",
        "                'name': similarity,\n",
        "                'user_based': user_based,\n",
        "                'min_support': min_support\n",
        "            }\n",
        "            model_name = f'user={user_based}, sim_method={similarity}, k={k}, threshold={min_support}'\n",
        "            print(i, model_name)\n",
        "            i+=1\n",
        "            algo = KNNBasic(k=k, sim_options=sim_options)\n",
        "            # Realizar validación cruzada y guardar los resultados\n",
        "            # Se usa cross_validation\n",
        "            cv_results = cross_validate(algo, surprise_dataset, measures=['RMSE', 'MAE'], cv=2, verbose=False)\n",
        "            print('cv done')\n",
        "            # Guardar los resultados con los parámetros utilizados\n",
        "            results.append({\n",
        "                'model_name': model_name,\n",
        "                'similarity': similarity,\n",
        "                'user_based': user_based,\n",
        "                'k': k,\n",
        "                'min_support': min_support,\n",
        "                'rmse': cv_results['test_rmse'].mean(),\n",
        "\n",
        "                'mae': cv_results['test_mae'].mean()\n",
        "            })\n",
        "            print(results[-1])\n",
        "            print()"
      ]
    },
    {
      "cell_type": "markdown",
      "metadata": {
        "id": "hNA_Y94SUc5h"
      },
      "source": [
        "10 user=False, sim_method=cosine, k=4, threshold=2\n",
        "Computing the cosine similarity matrix...\n",
        "Done computing similarity matrix.\n",
        "Computing the cosine similarity matrix...\n",
        "Done computing similarity matrix.\n",
        "cv done\n",
        "{'model_name': 'user=False, sim_method=cosine, k=4, threshold=2', 'similarity': 'cosine', 'user_based': False, 'k': 4, 'min_support': 2, 'rmse': 1.566076035654027, 'mae': 1.4238594281559753}\n",
        "\n",
        "\n",
        "13 user=False, sim_method=cosine, k=8, threshold=2\n",
        "Computing the cosine similarity matrix...\n",
        "Done computing similarity matrix.\n",
        "Computing the cosine similarity matrix...\n",
        "Done computing similarity matrix.\n",
        "cv done\n",
        "{'model_name': 'user=False, sim_method=cosine, k=8, threshold=2', 'similarity': 'cosine', 'user_based': False, 'k': 8, 'min_support': 2, 'rmse': 1.565440006647099, 'mae': 1.424497954736243}\n",
        "\n",
        "\n",
        "16 user=False, sim_method=cosine, k=12, threshold=2\n",
        "Computing the cosine similarity matrix...\n",
        "Done computing similarity matrix.\n",
        "Computing the cosine similarity matrix...\n",
        "Done computing similarity matrix.\n",
        "cv done\n",
        "{'model_name': 'user=False, sim_method=cosine, k=12, threshold=2', 'similarity': 'cosine', 'user_based': False, 'k': 12, 'min_support': 2, 'rmse': 1.5664152017049005, 'mae': 1.4253633265408503}\n",
        "\n"
      ]
    },
    {
      "cell_type": "markdown",
      "metadata": {
        "id": "DOA3CsjtLsh3"
      },
      "source": [
        "### Pearson"
      ]
    },
    {
      "cell_type": "code",
      "execution_count": null,
      "metadata": {
        "id": "xMmA2BEZLxv-"
      },
      "outputs": [],
      "source": [
        "# Iterar sobre todos los métodos de similitud, valores de k y user/item based\n",
        "results = []\n",
        "i = 1\n",
        "\n",
        "similarity = 'pearson'\n",
        "for user_based in [True, False]:  # True para user-based, False para item-based\n",
        "    for k in ks:\n",
        "        for min_support in thresholds:\n",
        "            sim_options = {\n",
        "                'name': similarity,\n",
        "                'user_based': user_based,\n",
        "                'min_support': min_support\n",
        "            }\n",
        "            model_name = f'user={user_based}, sim_method={similarity}, k={k}, threshold={min_support}'\n",
        "            print(i, model_name)\n",
        "            i+=1\n",
        "            algo = KNNBasic(k=k, sim_options=sim_options)\n",
        "            # Realizar validación cruzada y guardar los resultados\n",
        "            # Se usa cross_validation\n",
        "            cv_results = cross_validate(algo, surprise_dataset, measures=['RMSE', 'MAE'], cv=2, verbose=False)\n",
        "            print('cv done')\n",
        "            # Guardar los resultados con los parámetros utilizados\n",
        "            results.append({\n",
        "                'model_name': model_name,\n",
        "                'similarity': similarity,\n",
        "                'user_based': user_based,\n",
        "                'k': k,\n",
        "                'min_support': min_support,\n",
        "                'rmse': cv_results['test_rmse'].mean(),\n",
        "                'mae': cv_results['test_mae'].mean()\n",
        "            })\n",
        "            print(results[-1])\n",
        "            print()"
      ]
    },
    {
      "cell_type": "markdown",
      "metadata": {
        "id": "5lydsUqPUQXI"
      },
      "source": [
        "13 user=False, sim_method=pearson, k=8, threshold=2\n",
        "Computing the pearson similarity matrix...\n",
        "Done computing similarity matrix.\n",
        "Computing the pearson similarity matrix...\n",
        "Done computing similarity matrix.\n",
        "cv done\n",
        "{'model_name': 'user=False, sim_method=pearson, k=8, threshold=2', 'similarity': 'pearson', 'user_based': False, 'k': 8, 'min_support': 2, 'rmse': 1.5711759451986893, 'mae': 1.4298265720888699}\n",
        "\n",
        "16 user=False, sim_method=pearson, k=12, threshold=2\n",
        "Computing the pearson similarity matrix...\n",
        "Done computing similarity matrix.\n",
        "Computing the pearson similarity matrix...\n",
        "Done computing similarity matrix.\n",
        "cv done\n",
        "{'model_name': 'user=False, sim_method=pearson, k=12, threshold=2', 'similarity': 'pearson', 'user_based': False, 'k': 12, 'min_support': 2, 'rmse': 1.5708668892285091, 'mae': 1.428253970218262}\n"
      ]
    },
    {
      "cell_type": "markdown",
      "metadata": {
        "id": "SnlWqgwHaUHJ"
      },
      "source": [
        "Todos los mejores modelos son item-item."
      ]
    },
    {
      "cell_type": "markdown",
      "metadata": {
        "id": "JobLc7O-TA_-"
      },
      "source": [
        "## Selección del modelo"
      ]
    },
    {
      "cell_type": "markdown",
      "metadata": {
        "id": "TxqL3GhUaO4o"
      },
      "source": [
        "Después de comparar los mejores modelos, tomamos la decisión de optar por el modelo con las siguientes características"
      ]
    },
    {
      "cell_type": "markdown",
      "metadata": {
        "id": "FRrU4jMvaYrh"
      },
      "source": [
        "13 user=False, sim_method=cosine, k=8, threshold=2\n",
        "\n",
        "{'model_name': 'user=False, sim_method=cosine, k=8, threshold=2', 'similarity': 'cosine', 'user_based': False, 'k': 8, 'min_support': 2, 'rmse': 1.565440006647099, 'mae': 1.424497954736243}"
      ]
    },
    {
      "cell_type": "code",
      "execution_count": null,
      "metadata": {
        "id": "TZ2HM2rA4jJL"
      },
      "outputs": [],
      "source": [
        "print('llega')"
      ]
    },
    {
      "cell_type": "code",
      "execution_count": null,
      "metadata": {
        "id": "3CWgsaaWacIn"
      },
      "outputs": [],
      "source": [
        "sim_options = {\n",
        "    'name': 'cosine',\n",
        "    'user_based': False,\n",
        "    'min_support': 2\n",
        "}\n",
        "model = KNNBasic(k=8, sim_options=sim_options)"
      ]
    },
    {
      "cell_type": "markdown",
      "metadata": {
        "id": "9q-IpcT3tM-_"
      },
      "source": [
        "Dividimos el dataset en un conjunto de entrenamiento y un conjunto de prueba con una proporción 80-20."
      ]
    },
    {
      "cell_type": "code",
      "execution_count": null,
      "metadata": {
        "id": "eU-PC2G9bq7b"
      },
      "outputs": [],
      "source": [
        "train_set, test_set = train_test_split(surprise_dataset, test_size=.2)"
      ]
    },
    {
      "cell_type": "markdown",
      "metadata": {
        "id": "PazpM6ZTxSYZ"
      },
      "source": [
        "30.000 interacciones falla\n",
        "\n",
        "15.000 funciona\n",
        "\n",
        "Estimo máximo 22.000"
      ]
    },
    {
      "cell_type": "code",
      "execution_count": null,
      "metadata": {
        "id": "VnAjEJdi5ZMg"
      },
      "outputs": [],
      "source": [
        "#Se le pasa la matriz de utilidad al algoritmo\n",
        "model.fit(trainset=train_set)"
      ]
    },
    {
      "cell_type": "code",
      "execution_count": null,
      "metadata": {
        "id": "_Xm_seg0_h-q"
      },
      "outputs": [],
      "source": [
        "test_predictions=model.test(test_set)"
      ]
    },
    {
      "cell_type": "code",
      "execution_count": null,
      "metadata": {
        "id": "W2ZoOU4Ld3G5"
      },
      "outputs": [],
      "source": [
        "random.sample(test_predictions, 20)"
      ]
    },
    {
      "cell_type": "code",
      "execution_count": null,
      "metadata": {
        "id": "vAIkmc1ycKlG"
      },
      "outputs": [],
      "source": [
        "accuracy.rmse(test_predictions)"
      ]
    },
    {
      "cell_type": "markdown",
      "metadata": {
        "id": "bRr38Um6b6WQ"
      },
      "source": [
        "### Exportación del modelo"
      ]
    },
    {
      "cell_type": "code",
      "execution_count": null,
      "metadata": {
        "id": "n1ghsaQAY76p"
      },
      "outputs": [],
      "source": [
        "from surprise.dump import dump, load\n",
        "dump('/content/drive/MyDrive/Colab files/model', algo=model)"
      ]
    },
    {
      "cell_type": "code",
      "execution_count": null,
      "metadata": {
        "id": "g611rWDrb1X5"
      },
      "outputs": [],
      "source": [
        "import gc\n",
        "import ctypes\n",
        "\n",
        "# borrar cache\n",
        "libc = ctypes.CDLL(\"libc.so.6\")\n",
        "libc.malloc_trim(0)\n",
        "\n",
        "gc.collect()"
      ]
    },
    {
      "cell_type": "markdown",
      "metadata": {
        "id": "CA9qYdAY2VKP"
      },
      "source": [
        "## Exportación de datos para el backend"
      ]
    },
    {
      "cell_type": "markdown",
      "metadata": {
        "id": "wN1gyc5UPIXl"
      },
      "source": [
        "### Tabla user"
      ]
    },
    {
      "cell_type": "code",
      "execution_count": null,
      "metadata": {
        "id": "jHq2qOxIJH6l"
      },
      "outputs": [],
      "source": [
        "!pip install faker\n",
        "!pip install unidecode"
      ]
    },
    {
      "cell_type": "code",
      "execution_count": null,
      "metadata": {
        "id": "6Lz4HJAdGUfj"
      },
      "outputs": [],
      "source": [
        "from faker import Faker\n",
        "from unidecode import unidecode\n",
        "import random\n",
        "import uuid\n",
        "\n",
        "# Instanciar Faker\n",
        "fake = Faker(['es_CO', 'es_CL'])\n",
        "\n",
        "# Seleccionar los usuarios unicos de user_track que aparezcan en df_user. Tomar las filas de estos usuarios en df_user\n",
        "tabla_user = df_user[df_user['#id'].isin(user_track['user-id'].unique())]\n",
        "# Crear columna con nombre de usuario\n",
        "tabla_user['nombre'] = tabla_user['#id'].apply(lambda x: unidecode(fake.name()))\n",
        "tabla_user.rename(columns={'#id':'user-id'}, inplace=True)\n",
        "tabla_user['user-id'] = [str(uuid.uuid4()) for _ in range(len(tabla_user))]\n",
        "\n",
        "tabla_user"
      ]
    },
    {
      "cell_type": "code",
      "execution_count": null,
      "metadata": {
        "id": "uxqgITTmcKxt"
      },
      "outputs": [],
      "source": [
        "drive_path = os.path.join('drive', 'MyDrive', 'Colab files')\n",
        "tabla_user.to_csv(os.path.join(drive_path,'tabla_user.csv'), index=False)"
      ]
    },
    {
      "cell_type": "markdown",
      "metadata": {
        "id": "99KSdgV6PNjX"
      },
      "source": [
        "### Tabla tracks"
      ]
    },
    {
      "cell_type": "code",
      "execution_count": null,
      "metadata": {
        "id": "h4CNzihCGfhu"
      },
      "outputs": [],
      "source": [
        "user_track['track-id'] = user_track['track-id'].astype(str)\n",
        "df['track-id'] = df['track-id'].astype(str)\n",
        "\n",
        "tabla_track = user_track.groupby('track-id')['track-id'].agg({'count'}).sort_values(by='count', ascending=False).reset_index()\n",
        "\n",
        "tabla_track = pd.merge(tabla_track, df[['track-id','track-name','artist-id']], on='track-id', how='left').drop_duplicates(['track-id'])\n",
        "tabla_track"
      ]
    },
    {
      "cell_type": "code",
      "execution_count": null,
      "metadata": {
        "id": "BjlmNwdndOqj"
      },
      "outputs": [],
      "source": [
        "tabla_track.to_csv(os.path.join(drive_path,'tabla_track.csv'), index=False)"
      ]
    },
    {
      "cell_type": "markdown",
      "metadata": {
        "id": "fCgHmxdCTt2P"
      },
      "source": [
        "### Tabla artistas"
      ]
    },
    {
      "cell_type": "code",
      "execution_count": null,
      "metadata": {
        "id": "idCehwycPh4t"
      },
      "outputs": [],
      "source": [
        "tabla_artist = pd.merge(tabla_track['artist-id'].drop_duplicates(), df[['artist-id','artist-name']], on='artist-id', how='left').drop_duplicates(['artist-id'])\n",
        "tabla_artist"
      ]
    },
    {
      "cell_type": "code",
      "execution_count": null,
      "metadata": {
        "id": "ESh1vYbrdRcG"
      },
      "outputs": [],
      "source": [
        "tabla_artist.to_csv(os.path.join(drive_path,'tabla_artist.csv'), index=False)"
      ]
    }
  ],
  "metadata": {
    "colab": {
      "provenance": []
    },
    "kernelspec": {
      "display_name": "Python 3",
      "name": "python3"
    },
    "language_info": {
      "name": "python"
    }
  },
  "nbformat": 4,
  "nbformat_minor": 0
}